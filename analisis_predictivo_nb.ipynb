{
  "nbformat": 4,
  "nbformat_minor": 0,
  "metadata": {
    "colab": {
      "name": "analisis_predictivo_nb.ipynb",
      "provenance": [],
      "authorship_tag": "ABX9TyPusHCHXoJewZ8NJG0cAIB4",
      "include_colab_link": true
    },
    "kernelspec": {
      "name": "python3",
      "display_name": "Python 3"
    },
    "language_info": {
      "name": "python"
    }
  },
  "cells": [
    {
      "cell_type": "markdown",
      "metadata": {
        "id": "view-in-github",
        "colab_type": "text"
      },
      "source": [
        "<a href=\"https://colab.research.google.com/github/descandon88/Analisis-de-Redes/blob/main/analisis_predictivo_nb.ipynb\" target=\"_parent\"><img src=\"https://colab.research.google.com/assets/colab-badge.svg\" alt=\"Open In Colab\"/></a>"
      ]
    },
    {
      "cell_type": "code",
      "metadata": {
        "id": "4BJklMpnqLf0"
      },
      "source": [
        "import pandas as pd\n",
        "import numpy as np\n",
        "from sklearn.impute import SimpleImputer\n",
        "from sklearn.compose import ColumnTransformer\n",
        "from sklearn.preprocessing import OneHotEncoder\n",
        "from sklearn.preprocessing import LabelEncoder\n",
        "from sklearn.ensemble import RandomForestRegressor\n",
        "from sklearn.datasets import make_regression\n",
        "import seaborn as sns\n",
        "\n",
        "from sklearn.model_selection import train_test_split\n",
        "import matplotlib.pyplot as plt \n",
        "from matplotlib.lines import Line2D\n",
        "from scipy.stats import pearsonr\n",
        "\n",
        "from sklearn import metrics\n",
        "from sklearn.metrics import accuracy_score\n",
        "\n",
        "import seaborn as sns; sns.set()\n",
        "from sklearn.datasets import make_blobs"
      ],
      "execution_count": 79,
      "outputs": []
    },
    {
      "cell_type": "code",
      "metadata": {
        "id": "wb81wMWgqWYZ",
        "colab": {
          "base_uri": "https://localhost:8080/"
        },
        "outputId": "884a5f77-62c0-4e73-f532-0d391720e64a"
      },
      "source": [
        "from google.colab import drive\n",
        "drive.mount(\"/content/drive\")\n",
        "print(\"conexión con drive listo!\")"
      ],
      "execution_count": 80,
      "outputs": [
        {
          "output_type": "stream",
          "name": "stdout",
          "text": [
            "Drive already mounted at /content/drive; to attempt to forcibly remount, call drive.mount(\"/content/drive\", force_remount=True).\n",
            "conexión con drive listo!\n"
          ]
        }
      ]
    },
    {
      "cell_type": "code",
      "metadata": {
        "id": "MRL9bDUgqfPR"
      },
      "source": [
        "df_base= pd.read_csv(\"/content/drive/MyDrive/eci/base/mateo/df_base.csv\")"
      ],
      "execution_count": 81,
      "outputs": []
    },
    {
      "cell_type": "code",
      "metadata": {
        "id": "4IO3WgXhNY4Y",
        "colab": {
          "base_uri": "https://localhost:8080/",
          "height": 206
        },
        "outputId": "3a2453f9-372d-4a47-9275-4bc085a85d07"
      },
      "source": [
        "#loc_id = [0,8]\n",
        "#pro_cod = [ 8415, 105]\n",
        "#df=df_base[df_base.location_id.isin(loc_id) & \n",
        " #          df_base.product_code.isin(pro_cod)] \n",
        "\n",
        "#df = df[df.year != 2020]\n",
        "df=df_base.copy()\n",
        "df.head()\n"
      ],
      "execution_count": 82,
      "outputs": [
        {
          "output_type": "execute_result",
          "data": {
            "text/html": [
              "<div>\n",
              "<style scoped>\n",
              "    .dataframe tbody tr th:only-of-type {\n",
              "        vertical-align: middle;\n",
              "    }\n",
              "\n",
              "    .dataframe tbody tr th {\n",
              "        vertical-align: top;\n",
              "    }\n",
              "\n",
              "    .dataframe thead th {\n",
              "        text-align: right;\n",
              "    }\n",
              "</style>\n",
              "<table border=\"1\" class=\"dataframe\">\n",
              "  <thead>\n",
              "    <tr style=\"text-align: right;\">\n",
              "      <th></th>\n",
              "      <th>location_id</th>\n",
              "      <th>country_code</th>\n",
              "      <th>country_name</th>\n",
              "      <th>product_code</th>\n",
              "      <th>export_value</th>\n",
              "      <th>year</th>\n",
              "      <th>eci</th>\n",
              "      <th>pci</th>\n",
              "    </tr>\n",
              "  </thead>\n",
              "  <tbody>\n",
              "    <tr>\n",
              "      <th>0</th>\n",
              "      <td>0</td>\n",
              "      <td>ABW</td>\n",
              "      <td>Aruba</td>\n",
              "      <td>8415</td>\n",
              "      <td>127324</td>\n",
              "      <td>1995</td>\n",
              "      <td>-0.149358</td>\n",
              "      <td>1.527974</td>\n",
              "    </tr>\n",
              "    <tr>\n",
              "      <th>1</th>\n",
              "      <td>0</td>\n",
              "      <td>ABW</td>\n",
              "      <td>Aruba</td>\n",
              "      <td>7612</td>\n",
              "      <td>141979</td>\n",
              "      <td>1995</td>\n",
              "      <td>-0.149358</td>\n",
              "      <td>2.224087</td>\n",
              "    </tr>\n",
              "    <tr>\n",
              "      <th>2</th>\n",
              "      <td>0</td>\n",
              "      <td>ABW</td>\n",
              "      <td>Aruba</td>\n",
              "      <td>7616</td>\n",
              "      <td>28035</td>\n",
              "      <td>1995</td>\n",
              "      <td>-0.149358</td>\n",
              "      <td>1.868267</td>\n",
              "    </tr>\n",
              "    <tr>\n",
              "      <th>3</th>\n",
              "      <td>0</td>\n",
              "      <td>ABW</td>\n",
              "      <td>Aruba</td>\n",
              "      <td>106</td>\n",
              "      <td>2336</td>\n",
              "      <td>1995</td>\n",
              "      <td>-0.149358</td>\n",
              "      <td>-2.112441</td>\n",
              "    </tr>\n",
              "    <tr>\n",
              "      <th>4</th>\n",
              "      <td>0</td>\n",
              "      <td>ABW</td>\n",
              "      <td>Aruba</td>\n",
              "      <td>4206</td>\n",
              "      <td>41677</td>\n",
              "      <td>1995</td>\n",
              "      <td>-0.149358</td>\n",
              "      <td>0.464937</td>\n",
              "    </tr>\n",
              "  </tbody>\n",
              "</table>\n",
              "</div>"
            ],
            "text/plain": [
              "   location_id country_code country_name  ...  year       eci       pci\n",
              "0            0          ABW        Aruba  ...  1995 -0.149358  1.527974\n",
              "1            0          ABW        Aruba  ...  1995 -0.149358  2.224087\n",
              "2            0          ABW        Aruba  ...  1995 -0.149358  1.868267\n",
              "3            0          ABW        Aruba  ...  1995 -0.149358 -2.112441\n",
              "4            0          ABW        Aruba  ...  1995 -0.149358  0.464937\n",
              "\n",
              "[5 rows x 8 columns]"
            ]
          },
          "metadata": {},
          "execution_count": 82
        }
      ]
    },
    {
      "cell_type": "code",
      "metadata": {
        "id": "D9IEpmVuOGpz"
      },
      "source": [
        "df=df.drop(columns=['country_code', 'country_name'])\n",
        "df=df.sort_values(by=['location_id','product_code','year'])"
      ],
      "execution_count": 83,
      "outputs": []
    },
    {
      "cell_type": "code",
      "metadata": {
        "colab": {
          "base_uri": "https://localhost:8080/",
          "height": 206
        },
        "id": "0rYMGFmoJsqk",
        "outputId": "45958c77-8730-46df-c4b9-da51c9b2e3b6"
      },
      "source": [
        "df.head()"
      ],
      "execution_count": 84,
      "outputs": [
        {
          "output_type": "execute_result",
          "data": {
            "text/html": [
              "<div>\n",
              "<style scoped>\n",
              "    .dataframe tbody tr th:only-of-type {\n",
              "        vertical-align: middle;\n",
              "    }\n",
              "\n",
              "    .dataframe tbody tr th {\n",
              "        vertical-align: top;\n",
              "    }\n",
              "\n",
              "    .dataframe thead th {\n",
              "        text-align: right;\n",
              "    }\n",
              "</style>\n",
              "<table border=\"1\" class=\"dataframe\">\n",
              "  <thead>\n",
              "    <tr style=\"text-align: right;\">\n",
              "      <th></th>\n",
              "      <th>location_id</th>\n",
              "      <th>product_code</th>\n",
              "      <th>export_value</th>\n",
              "      <th>year</th>\n",
              "      <th>eci</th>\n",
              "      <th>pci</th>\n",
              "    </tr>\n",
              "  </thead>\n",
              "  <tbody>\n",
              "    <tr>\n",
              "      <th>47</th>\n",
              "      <td>0</td>\n",
              "      <td>101</td>\n",
              "      <td>18008</td>\n",
              "      <td>1995</td>\n",
              "      <td>-0.149358</td>\n",
              "      <td>1.204200</td>\n",
              "    </tr>\n",
              "    <tr>\n",
              "      <th>816</th>\n",
              "      <td>0</td>\n",
              "      <td>101</td>\n",
              "      <td>14473</td>\n",
              "      <td>1999</td>\n",
              "      <td>0.006876</td>\n",
              "      <td>0.954775</td>\n",
              "    </tr>\n",
              "    <tr>\n",
              "      <th>1219</th>\n",
              "      <td>0</td>\n",
              "      <td>101</td>\n",
              "      <td>11249</td>\n",
              "      <td>2001</td>\n",
              "      <td>0.141701</td>\n",
              "      <td>1.019034</td>\n",
              "    </tr>\n",
              "    <tr>\n",
              "      <th>1415</th>\n",
              "      <td>0</td>\n",
              "      <td>101</td>\n",
              "      <td>9019</td>\n",
              "      <td>2002</td>\n",
              "      <td>-0.189418</td>\n",
              "      <td>1.277552</td>\n",
              "    </tr>\n",
              "    <tr>\n",
              "      <th>1608</th>\n",
              "      <td>0</td>\n",
              "      <td>101</td>\n",
              "      <td>8613</td>\n",
              "      <td>2003</td>\n",
              "      <td>-0.199274</td>\n",
              "      <td>1.358104</td>\n",
              "    </tr>\n",
              "  </tbody>\n",
              "</table>\n",
              "</div>"
            ],
            "text/plain": [
              "      location_id  product_code  export_value  year       eci       pci\n",
              "47              0           101         18008  1995 -0.149358  1.204200\n",
              "816             0           101         14473  1999  0.006876  0.954775\n",
              "1219            0           101         11249  2001  0.141701  1.019034\n",
              "1415            0           101          9019  2002 -0.189418  1.277552\n",
              "1608            0           101          8613  2003 -0.199274  1.358104"
            ]
          },
          "metadata": {},
          "execution_count": 84
        }
      ]
    },
    {
      "cell_type": "code",
      "metadata": {
        "id": "kwJZhnvYRmPO"
      },
      "source": [
        "#df_1 = df.groupby([\"location_id\",\"product_code\",\"year\"],as_index = True)\n",
        "df['pcit-1'] = df.groupby(['location_id','product_code'])['pci'].shift(+1)\n",
        "df['pcit-2'] = df.groupby(['location_id','product_code'])['pci'].shift(+2)\n",
        "df['pcit-3'] = df.groupby(['location_id','product_code'])['pci'].shift(+3)\n",
        "df['pcit-4'] = df.groupby(['location_id','product_code'])['pci'].shift(+4)\n",
        "df['pcit-5'] = df.groupby(['location_id','product_code'])['pci'].shift(+5)\n",
        "df['ecit-1'] = df.groupby(['location_id','product_code'])['eci'].shift(+1)\n",
        "df['ecit-2'] = df.groupby(['location_id','product_code'])['eci'].shift(+2)\n",
        "df['ecit-3'] = df.groupby(['location_id','product_code'])['eci'].shift(+3)\n",
        "df['ecit-4'] = df.groupby(['location_id','product_code'])['eci'].shift(+4)\n",
        "df['ecit-5'] = df.groupby(['location_id','product_code'])['eci'].shift(+5)\n",
        "df=df.fillna(0)\n",
        "df = df[df.year != 2020]\n",
        "\n",
        "df1 = df.copy()\n",
        "\n",
        "#df.sort_values(by=['year']).groupby(['location_id','product_code'])['pci'].shift() "
      ],
      "execution_count": 85,
      "outputs": []
    },
    {
      "cell_type": "code",
      "metadata": {
        "colab": {
          "base_uri": "https://localhost:8080/",
          "height": 174
        },
        "id": "81gBRwRZQr8S",
        "outputId": "516bb006-d31f-4b5c-cb98-900c84a3ced2"
      },
      "source": [
        "df1.tail(4)"
      ],
      "execution_count": 86,
      "outputs": [
        {
          "output_type": "execute_result",
          "data": {
            "text/html": [
              "<div>\n",
              "<style scoped>\n",
              "    .dataframe tbody tr th:only-of-type {\n",
              "        vertical-align: middle;\n",
              "    }\n",
              "\n",
              "    .dataframe tbody tr th {\n",
              "        vertical-align: top;\n",
              "    }\n",
              "\n",
              "    .dataframe thead th {\n",
              "        text-align: right;\n",
              "    }\n",
              "</style>\n",
              "<table border=\"1\" class=\"dataframe\">\n",
              "  <thead>\n",
              "    <tr style=\"text-align: right;\">\n",
              "      <th></th>\n",
              "      <th>location_id</th>\n",
              "      <th>product_code</th>\n",
              "      <th>export_value</th>\n",
              "      <th>year</th>\n",
              "      <th>eci</th>\n",
              "      <th>pci</th>\n",
              "      <th>pcit-1</th>\n",
              "      <th>pcit-2</th>\n",
              "      <th>pcit-3</th>\n",
              "      <th>pcit-4</th>\n",
              "      <th>pcit-5</th>\n",
              "      <th>ecit-1</th>\n",
              "      <th>ecit-2</th>\n",
              "      <th>ecit-3</th>\n",
              "      <th>ecit-4</th>\n",
              "      <th>ecit-5</th>\n",
              "    </tr>\n",
              "  </thead>\n",
              "  <tbody>\n",
              "    <tr>\n",
              "      <th>3716583</th>\n",
              "      <td>250</td>\n",
              "      <td>9999</td>\n",
              "      <td>28367263744</td>\n",
              "      <td>2016</td>\n",
              "      <td>0.732298</td>\n",
              "      <td>1.020175</td>\n",
              "      <td>0.165245</td>\n",
              "      <td>0.754914</td>\n",
              "      <td>0.923022</td>\n",
              "      <td>0.264945</td>\n",
              "      <td>0.435969</td>\n",
              "      <td>0.659868</td>\n",
              "      <td>0.486857</td>\n",
              "      <td>0.491778</td>\n",
              "      <td>0.336530</td>\n",
              "      <td>0.577365</td>\n",
              "    </tr>\n",
              "    <tr>\n",
              "      <th>3717785</th>\n",
              "      <td>250</td>\n",
              "      <td>9999</td>\n",
              "      <td>40921464832</td>\n",
              "      <td>2017</td>\n",
              "      <td>0.669892</td>\n",
              "      <td>0.572796</td>\n",
              "      <td>1.020175</td>\n",
              "      <td>0.165245</td>\n",
              "      <td>0.754914</td>\n",
              "      <td>0.923022</td>\n",
              "      <td>0.264945</td>\n",
              "      <td>0.732298</td>\n",
              "      <td>0.659868</td>\n",
              "      <td>0.486857</td>\n",
              "      <td>0.491778</td>\n",
              "      <td>0.336530</td>\n",
              "    </tr>\n",
              "    <tr>\n",
              "      <th>3718981</th>\n",
              "      <td>250</td>\n",
              "      <td>9999</td>\n",
              "      <td>47321677824</td>\n",
              "      <td>2018</td>\n",
              "      <td>0.673645</td>\n",
              "      <td>0.571061</td>\n",
              "      <td>0.572796</td>\n",
              "      <td>1.020175</td>\n",
              "      <td>0.165245</td>\n",
              "      <td>0.754914</td>\n",
              "      <td>0.923022</td>\n",
              "      <td>0.669892</td>\n",
              "      <td>0.732298</td>\n",
              "      <td>0.659868</td>\n",
              "      <td>0.486857</td>\n",
              "      <td>0.491778</td>\n",
              "    </tr>\n",
              "    <tr>\n",
              "      <th>3720169</th>\n",
              "      <td>250</td>\n",
              "      <td>9999</td>\n",
              "      <td>51257131008</td>\n",
              "      <td>2019</td>\n",
              "      <td>1.250292</td>\n",
              "      <td>0.802621</td>\n",
              "      <td>0.571061</td>\n",
              "      <td>0.572796</td>\n",
              "      <td>1.020175</td>\n",
              "      <td>0.165245</td>\n",
              "      <td>0.754914</td>\n",
              "      <td>0.673645</td>\n",
              "      <td>0.669892</td>\n",
              "      <td>0.732298</td>\n",
              "      <td>0.659868</td>\n",
              "      <td>0.486857</td>\n",
              "    </tr>\n",
              "  </tbody>\n",
              "</table>\n",
              "</div>"
            ],
            "text/plain": [
              "         location_id  product_code  export_value  ...    ecit-3    ecit-4    ecit-5\n",
              "3716583          250          9999   28367263744  ...  0.491778  0.336530  0.577365\n",
              "3717785          250          9999   40921464832  ...  0.486857  0.491778  0.336530\n",
              "3718981          250          9999   47321677824  ...  0.659868  0.486857  0.491778\n",
              "3720169          250          9999   51257131008  ...  0.732298  0.659868  0.486857\n",
              "\n",
              "[4 rows x 16 columns]"
            ]
          },
          "metadata": {},
          "execution_count": 86
        }
      ]
    },
    {
      "cell_type": "code",
      "metadata": {
        "colab": {
          "base_uri": "https://localhost:8080/"
        },
        "id": "0uZWZWrBTlHV",
        "outputId": "a54b93bd-184e-4e31-dcf0-cf05dac81bb4"
      },
      "source": [
        "df_y=df1.loc[df1['year']>1999]\n",
        "Y =  df_y.iloc[:,5].values\n",
        "Y.shape\n",
        "#df_y.tail()\n",
        "#0.843696 - 1.857670 - 0843696"
      ],
      "execution_count": 87,
      "outputs": [
        {
          "output_type": "execute_result",
          "data": {
            "text/plain": [
              "(2961416,)"
            ]
          },
          "metadata": {},
          "execution_count": 87
        }
      ]
    },
    {
      "cell_type": "code",
      "metadata": {
        "colab": {
          "base_uri": "https://localhost:8080/"
        },
        "id": "17JzHIoTTlRV",
        "outputId": "0db078b8-2894-46f7-86c4-d0ccdcf9b75d"
      },
      "source": [
        "df_x=df1.loc[ (df1['year']>1999)]\n",
        "df_x=df_x.iloc[:, [i for i in range(df_x.shape[1]) if i != 5]]\n",
        "#df_x=df1.loc[(df1['year']!=2019) & (df1['year']>1999)]\n",
        "\n",
        "X = df_x.iloc[:,0:16].values\n",
        "X.shape\n",
        "#df_x.head(5)"
      ],
      "execution_count": 103,
      "outputs": [
        {
          "output_type": "execute_result",
          "data": {
            "text/plain": [
              "(2961416, 15)"
            ]
          },
          "metadata": {},
          "execution_count": 103
        }
      ]
    },
    {
      "cell_type": "code",
      "metadata": {
        "id": "i3B3k0cZb3DM",
        "colab": {
          "base_uri": "https://localhost:8080/"
        },
        "outputId": "9aae6b72-20ee-4c87-a4de-2c2dcb786879"
      },
      "source": [
        "X_train, X_test, y_train, y_test = train_test_split(X,Y, test_size=0.2, random_state=8)\n",
        "\n",
        "#X_train, X_test, y_train, y_test = train_test_split(train, test,\n",
        " #   test_size=0.2, , random_state = 8)\n",
        "\n",
        "# Use the same function above for the validation set\n",
        "X_train, X_val, y_train, y_val = train_test_split(X_train, y_train, \n",
        "    test_size=0.25, random_state= 8) # 0.25 x 0.8 = 0.2\n",
        "\n",
        "\n",
        "print(\"X_train shape: {}\".format(X_train.shape))\n",
        "print(\"X_test shape: {}\".format(X_test.shape))\n",
        "print(\"y_train shape: {}\".format(y_train.shape))\n",
        "print(\"y_test shape: {}\".format(y_test.shape))\n",
        "print(\"X_val shape: {}\".format(y_train.shape))\n",
        "print(\"y val shape: {}\".format(y_test.shape))\n"
      ],
      "execution_count": 104,
      "outputs": [
        {
          "output_type": "stream",
          "name": "stdout",
          "text": [
            "X_train shape: (1776849, 15)\n",
            "X_test shape: (592284, 15)\n",
            "y_train shape: (1776849,)\n",
            "y_test shape: (592284,)\n",
            "X_val shape: (1776849,)\n",
            "y val shape: (592284,)\n"
          ]
        }
      ]
    },
    {
      "cell_type": "code",
      "metadata": {
        "id": "Tv-NMcjPb3hm",
        "colab": {
          "base_uri": "https://localhost:8080/"
        },
        "outputId": "6d13c4a6-43b3-4fae-d892-4161c5d07eb6"
      },
      "source": [
        "from sklearn.ensemble import RandomForestRegressor\n",
        "\n",
        "#model = RandomForestRegressor(n_estimators=10, random_state=30)\n",
        "#model = RandomForestRegressor(n_estimators=50, random_state=0, bootstrap=True)\n",
        "regressor = RandomForestRegressor(n_estimators=45, oob_score = True,random_state=1)\n",
        "regressor.fit(X_train,y_train)"
      ],
      "execution_count": 105,
      "outputs": [
        {
          "output_type": "execute_result",
          "data": {
            "text/plain": [
              "RandomForestRegressor(n_estimators=45, oob_score=True, random_state=1)"
            ]
          },
          "metadata": {},
          "execution_count": 105
        }
      ]
    },
    {
      "cell_type": "code",
      "metadata": {
        "id": "UjsUgAc3b3tn",
        "colab": {
          "base_uri": "https://localhost:8080/"
        },
        "outputId": "9b32780b-19ed-4978-9010-742eccdfe92e"
      },
      "source": [
        "from sklearn.metrics import mean_absolute_error\n",
        "y_pred=regressor.predict(X_test)\n",
        "# Printing the metrics\n",
        "mae=metrics.mean_absolute_error(y_test, y_pred)\n",
        "mse=metrics.mean_squared_error(y_test, y_pred)\n",
        "print('Random Forest Regression Accuracy: ', regressor.score(X_test,y_test))\n",
        "print('R2 square:',metrics.r2_score(y_test, y_pred))\n",
        "print('MAE: ', mae)\n",
        "print('MSE: ', mse)"
      ],
      "execution_count": 106,
      "outputs": [
        {
          "output_type": "stream",
          "name": "stdout",
          "text": [
            "Random Forest Regression Accuracy:  0.9862694653200975\n",
            "R2 square: 0.9862694653200975\n",
            "MAE:  0.06964038867570939\n",
            "MSE:  0.041202448502777836\n"
          ]
        }
      ]
    },
    {
      "cell_type": "code",
      "metadata": {
        "id": "EgDxbuzqkBSA"
      },
      "source": [
        "pci_pred_2019 = pd.DataFrame(y_pred,columns=[\"pci_pred_2019\"])\n",
        "pci_pred_2019.head()\n",
        "pci_current_2019=pd.DataFrame(Y_test,columns=[\"pci_current_2019\"])\n",
        "pci_current_2019.head()"
      ],
      "execution_count": null,
      "outputs": []
    },
    {
      "cell_type": "code",
      "metadata": {
        "colab": {
          "base_uri": "https://localhost:8080/",
          "height": 354
        },
        "id": "2pVE3IftkBpM",
        "outputId": "0215da96-a98c-4a60-a9f8-01fa31ff73a8"
      },
      "source": [
        "plt.figure(figsize=(10,5))\n",
        "plt.scatter(y_test, y_pred, color= \"red\", label =\"Comparación entre pci_2019 predecidos y actuales\")\n",
        "plt.legend()\n",
        "plt.grid()\n",
        "plt.title(\"Random Forest Regression\")\n",
        "plt.xlabel(\"PCI_2019 current\")\n",
        "plt.ylabel(\"PCI_2019 predicted\")\n",
        "plt.show()"
      ],
      "execution_count": 107,
      "outputs": [
        {
          "output_type": "display_data",
          "data": {
            "image/png": "[encoded data removed]",
            "text/plain": [
              "<Figure size 720x360 with 1 Axes>"
            ]
          },
          "metadata": {}
        }
      ]
    },
    {
      "cell_type": "code",
      "metadata": {
        "colab": {
          "base_uri": "https://localhost:8080/",
          "height": 527
        },
        "id": "aYeKHcOiw8Yb",
        "outputId": "bf662c0e-1e67-44de-bd8c-f7503a848df1"
      },
      "source": [
        "from matplotlib import pyplot\n",
        "# get importance\n",
        "importance = regressor.feature_importances_\n",
        "# summarize feature importance\n",
        "for i,v in enumerate(importance):\n",
        "\tprint('Feature: %0d, Score: %.5f' % (i,v))\n",
        "# plot feature importance\n",
        "pyplot.bar([x for x in range(len(importance))], importance)\n",
        "pyplot.show()"
      ],
      "execution_count": 108,
      "outputs": [
        {
          "output_type": "stream",
          "name": "stdout",
          "text": [
            "Feature: 0, Score: 0.00110\n",
            "Feature: 1, Score: 0.03183\n",
            "Feature: 2, Score: 0.00190\n",
            "Feature: 3, Score: 0.01942\n",
            "Feature: 4, Score: 0.00115\n",
            "Feature: 5, Score: 0.88436\n",
            "Feature: 6, Score: 0.02385\n",
            "Feature: 7, Score: 0.01705\n",
            "Feature: 8, Score: 0.00901\n",
            "Feature: 9, Score: 0.00821\n",
            "Feature: 10, Score: 0.00084\n",
            "Feature: 11, Score: 0.00047\n",
            "Feature: 12, Score: 0.00033\n",
            "Feature: 13, Score: 0.00026\n",
            "Feature: 14, Score: 0.00021\n"
          ]
        },
        {
          "output_type": "display_data",
          "data": {
            "image/png": "[encoded data removed]",
            "text/plain": [
              "<Figure size 432x288 with 1 Axes>"
            ]
          },
          "metadata": {}
        }
      ]
    },
    {
      "cell_type": "code",
      "metadata": {
        "colab": {
          "base_uri": "https://localhost:8080/"
        },
        "id": "SWLhbyt-w8kf",
        "outputId": "e912e3de-a3f0-40d3-8fde-99994785cf08"
      },
      "source": [
        "y_pred.shape"
      ],
      "execution_count": 111,
      "outputs": [
        {
          "output_type": "execute_result",
          "data": {
            "text/plain": [
              "(592284,)"
            ]
          },
          "metadata": {},
          "execution_count": 111
        }
      ]
    },
    {
      "cell_type": "code",
      "metadata": {
        "colab": {
          "base_uri": "https://localhost:8080/"
        },
        "id": "GYW8VfJlTC38",
        "outputId": "3eb328be-d35a-4f90-9373-581557394b3a"
      },
      "source": [
        "df_tmp = df.groupby([\"location_id\",\"product_code\",\"year\",'pci','eci','export_value'],as_index = True)['export_value'].count()\n",
        "df_tmp.head(25)"
      ],
      "execution_count": null,
      "outputs": [
        {
          "output_type": "execute_result",
          "data": {
            "text/plain": [
              "location_id  product_code  year  pci        eci        export_value\n",
              "0            105           1999   1.197645   0.006876  1585            1\n",
              "                           2004  -0.078471  -0.468775  84537           1\n",
              "                           2008   1.246119  -0.026650  115227          1\n",
              "                           2009   1.189713   0.677349  1069            1\n",
              "                           2010   0.798086   1.086779  6825            1\n",
              "                           2011   0.599276  -0.358337  5838            1\n",
              "                           2012   0.752623   0.244023  67930           1\n",
              "                           2013   0.956265   0.705739  51573           1\n",
              "                           2014   0.747184   0.778916  51208           1\n",
              "                           2015   0.698812   0.735923  123856          1\n",
              "                           2016   1.069564   0.974295  97193           1\n",
              "                           2017   0.682853   0.867450  116356          1\n",
              "                           2018   0.946808   0.929084  74110           1\n",
              "                           2019   0.843696   0.977731  47855           1\n",
              "             8415          1995   1.527974  -0.149358  127324          1\n",
              "                           1996   1.759704  -0.376153  81863           1\n",
              "                           1997   1.761633  -0.664343  202990          1\n",
              "                           1998   1.796328   0.330030  52407           1\n",
              "                           1999   1.601868   0.006876  50364           1\n",
              "                           2000   1.677880   0.312097  1085            1\n",
              "                           2001   1.717177   0.141701  2835            1\n",
              "                           2002   1.501620  -0.189418  3764            1\n",
              "                           2005   2.091567   0.256492  103399          1\n",
              "                           2006   2.553133   0.067235  155155          1\n",
              "                           2007   2.172111  -0.018397  165816          1\n",
              "Name: export_value, dtype: int64"
            ]
          },
          "metadata": {},
          "execution_count": 140
        }
      ]
    },
    {
      "cell_type": "code",
      "metadata": {
        "id": "dBmR3mNeVuxe"
      },
      "source": [
        "import math\n",
        "def function_all(data):\n",
        "  df1_grouped = data.groupby([\"location_id\",\"product_code\"])\n",
        "  var = {}\n",
        "  var1 = {}\n",
        "  i=0\n",
        "  for group_name, df_group in df1_grouped:\n",
        "\n",
        "    print('\\n pais / product: {}'.format(group_name))\n",
        "\n",
        "    for row_index, j in df_group.iterrows():\n",
        "      anio = math.trunc(j['year'])\n",
        "      pci = j['pci']\n",
        "      var[i] = (group_name,anio,pci)\n",
        "      #var1[i]=pd.DataFrame.from_dict(var[i], orient='index', columns=['pais/product','year', 'pci'])\n",
        "      i=i+1\n",
        "    #print(anio,pci)\n",
        "    \n",
        "    return var\n",
        "\n"
      ],
      "execution_count": null,
      "outputs": []
    },
    {
      "cell_type": "code",
      "metadata": {
        "colab": {
          "base_uri": "https://localhost:8080/"
        },
        "id": "45fGU0ToJwO0",
        "outputId": "6a4bf36c-d0a0-4564-b8b2-912396c03e8d"
      },
      "source": [
        "from numpy import asarray\n",
        "function_all(df)\n",
        "type(var)\n",
        "var1=pd.DataFrame.from_dict(var, orient='index',\n",
        "                       columns=['pais/product','year', 'pci'])\n",
        "\n",
        "options=['(0, 105)']\n",
        "## filtro por pais-producto \n",
        "#rslt_df = var1.loc[var1['pais/product'].isin(options)] \n",
        "rslt_df = var1.drop(columns=['pais/product']).copy()\n",
        "#rslt_df.info()\n",
        "#rslt_df.head()\n",
        "train = asarray(rslt_df)\n",
        "trainX, trainy = train[:, :-1], train[:, -1]\n"
      ],
      "execution_count": null,
      "outputs": [
        {
          "output_type": "stream",
          "name": "stdout",
          "text": [
            "\n",
            " pais / product: (0, 105)\n"
          ]
        }
      ]
    },
    {
      "cell_type": "code",
      "metadata": {
        "id": "yLMMMtnSc4Ds"
      },
      "source": [
        "\n",
        "def random_forest_forecast(train, testX):\n",
        "    # transform list into array\n",
        "    train = asarray(train)\n",
        "    # split into input and output columns\n",
        "    trainX, trainy = train[:, :-1], train[:, -1]\n",
        "    # fit model\n",
        "    model = RandomForestRegressor(n_estimators=1000)\n",
        "    model.fit(trainX, trainy)\n",
        "    # make a one-step prediction\n",
        "    yhat = model.predict([testX])\n",
        "    return yhat[0]\n",
        "\n",
        "# split a univariate dataset into train/test sets\n",
        "def train_test_split(data, n_test):\n",
        "    return data[:-n_test, :], data[-n_test:, :]\n",
        "\n"
      ],
      "execution_count": null,
      "outputs": []
    },
    {
      "cell_type": "code",
      "metadata": {
        "colab": {
          "base_uri": "https://localhost:8080/",
          "height": 357
        },
        "id": "x1ybhiIHnWVl",
        "outputId": "416f23b0-97f6-4e03-ada5-f828e8696d64"
      },
      "source": [
        "values = rslt_df.values\n",
        "# transform the time series data into supervised learning\n",
        "data = series_to_supervised(values, n_in=6)\n",
        "\n",
        "mae, y, yhat = walk_forward_validation(rslt_df, 6)\n",
        "print('MAE: %.3f' % mae)"
      ],
      "execution_count": null,
      "outputs": [
        {
          "output_type": "error",
          "ename": "NameError",
          "evalue": "ignored",
          "traceback": [
            "\u001b[0;31m---------------------------------------------------------------------------\u001b[0m",
            "\u001b[0;31mNameError\u001b[0m                                 Traceback (most recent call last)",
            "\u001b[0;32m<ipython-input-370-8eef96aaebef>\u001b[0m in \u001b[0;36m<module>\u001b[0;34m()\u001b[0m\n\u001b[1;32m      1\u001b[0m \u001b[0mvalues\u001b[0m \u001b[0;34m=\u001b[0m \u001b[0mrslt_df\u001b[0m\u001b[0;34m.\u001b[0m\u001b[0mvalues\u001b[0m\u001b[0;34m\u001b[0m\u001b[0;34m\u001b[0m\u001b[0m\n\u001b[1;32m      2\u001b[0m \u001b[0;31m# transform the time series data into supervised learning\u001b[0m\u001b[0;34m\u001b[0m\u001b[0;34m\u001b[0m\u001b[0;34m\u001b[0m\u001b[0m\n\u001b[0;32m----> 3\u001b[0;31m \u001b[0mdata\u001b[0m \u001b[0;34m=\u001b[0m \u001b[0mseries_to_supervised\u001b[0m\u001b[0;34m(\u001b[0m\u001b[0mrslt_df\u001b[0m\u001b[0;34m,\u001b[0m \u001b[0mn_in\u001b[0m\u001b[0;34m=\u001b[0m\u001b[0;36m6\u001b[0m\u001b[0;34m)\u001b[0m\u001b[0;34m\u001b[0m\u001b[0;34m\u001b[0m\u001b[0m\n\u001b[0m\u001b[1;32m      4\u001b[0m \u001b[0;34m\u001b[0m\u001b[0m\n\u001b[1;32m      5\u001b[0m \u001b[0mmae\u001b[0m\u001b[0;34m,\u001b[0m \u001b[0my\u001b[0m\u001b[0;34m,\u001b[0m \u001b[0myhat\u001b[0m \u001b[0;34m=\u001b[0m \u001b[0mwalk_forward_validation\u001b[0m\u001b[0;34m(\u001b[0m\u001b[0mrslt_df\u001b[0m\u001b[0;34m,\u001b[0m \u001b[0;36m6\u001b[0m\u001b[0;34m)\u001b[0m\u001b[0;34m\u001b[0m\u001b[0;34m\u001b[0m\u001b[0m\n",
            "\u001b[0;32m<ipython-input-366-91e43f12e36d>\u001b[0m in \u001b[0;36mseries_to_supervised\u001b[0;34m(data, n_in, n_out, dropnan)\u001b[0m\n\u001b[1;32m     41\u001b[0m \u001b[0;32mdef\u001b[0m \u001b[0mseries_to_supervised\u001b[0m\u001b[0;34m(\u001b[0m\u001b[0mdata\u001b[0m\u001b[0;34m,\u001b[0m \u001b[0mn_in\u001b[0m\u001b[0;34m=\u001b[0m\u001b[0;36m1\u001b[0m\u001b[0;34m,\u001b[0m \u001b[0mn_out\u001b[0m\u001b[0;34m=\u001b[0m\u001b[0;36m1\u001b[0m\u001b[0;34m,\u001b[0m \u001b[0mdropnan\u001b[0m\u001b[0;34m=\u001b[0m\u001b[0;32mTrue\u001b[0m\u001b[0;34m)\u001b[0m\u001b[0;34m:\u001b[0m\u001b[0;34m\u001b[0m\u001b[0;34m\u001b[0m\u001b[0m\n\u001b[1;32m     42\u001b[0m     \u001b[0mn_vars\u001b[0m \u001b[0;34m=\u001b[0m \u001b[0;36m1\u001b[0m \u001b[0;32mif\u001b[0m \u001b[0mtype\u001b[0m\u001b[0;34m(\u001b[0m\u001b[0mdata\u001b[0m\u001b[0;34m)\u001b[0m \u001b[0;32mis\u001b[0m \u001b[0mlist\u001b[0m \u001b[0;32melse\u001b[0m \u001b[0mdata\u001b[0m\u001b[0;34m.\u001b[0m\u001b[0mshape\u001b[0m\u001b[0;34m[\u001b[0m\u001b[0;36m1\u001b[0m\u001b[0;34m]\u001b[0m\u001b[0;34m\u001b[0m\u001b[0;34m\u001b[0m\u001b[0m\n\u001b[0;32m---> 43\u001b[0;31m     \u001b[0mdf\u001b[0m \u001b[0;34m=\u001b[0m \u001b[0mDataFrame\u001b[0m\u001b[0;34m(\u001b[0m\u001b[0mdata\u001b[0m\u001b[0;34m)\u001b[0m\u001b[0;34m\u001b[0m\u001b[0;34m\u001b[0m\u001b[0m\n\u001b[0m\u001b[1;32m     44\u001b[0m     \u001b[0mcols\u001b[0m \u001b[0;34m=\u001b[0m \u001b[0mlist\u001b[0m\u001b[0;34m(\u001b[0m\u001b[0;34m)\u001b[0m\u001b[0;34m\u001b[0m\u001b[0;34m\u001b[0m\u001b[0m\n\u001b[1;32m     45\u001b[0m     \u001b[0;31m# input sequence (t-n, ... t-1)\u001b[0m\u001b[0;34m\u001b[0m\u001b[0;34m\u001b[0m\u001b[0;34m\u001b[0m\u001b[0m\n",
            "\u001b[0;31mNameError\u001b[0m: name 'DataFrame' is not defined"
          ]
        }
      ]
    },
    {
      "cell_type": "code",
      "metadata": {
        "colab": {
          "base_uri": "https://localhost:8080/",
          "height": 449
        },
        "id": "clRMDNtIv1Kf",
        "outputId": "a2ed840c-3278-4b31-bc08-7d0e95d18bf4"
      },
      "source": [
        "import pandas as pd\n",
        "\n",
        "df1 = pd.DataFrame({\n",
        "    'atable':     ['Users', 'Users', 'Domains', 'Domains', 'Locks'],\n",
        "    'column':     ['col_1', 'col_2', 'col_a', 'col_b', 'col'],\n",
        "    'column_type':['varchar', 'varchar', 'int', 'varchar', 'varchar'],\n",
        "    'is_null':    ['No', 'No', 'Yes', 'No', 'Yes'],\n",
        "})\n",
        "\n",
        "df1_grouped = df1.groupby('atable')\n",
        "df1_grouped.head()\n",
        "# iterate over each group\n",
        "for group_name, df_group in df1_grouped:\n",
        "    print('\\nCREATE TABLE {}('.format(group_name))\n",
        "\n",
        "    for row_index, row in df_group.iterrows():\n",
        "        col = row['column']\n",
        "        column_type = row['column_type']\n",
        "        is_null = 'NOT NULL' if row['is_null'] == 'No' else ''\n",
        "        print('\\t{} {} {},'.format(col, column_type, is_null))\n",
        "\n",
        "    print(\");\")\n",
        "df1_grouped.head()\n"
      ],
      "execution_count": null,
      "outputs": [
        {
          "output_type": "stream",
          "name": "stdout",
          "text": [
            "\n",
            "CREATE TABLE Domains(\n",
            "\tcol_a int ,\n",
            "\tcol_b varchar NOT NULL,\n",
            ");\n",
            "\n",
            "CREATE TABLE Locks(\n",
            "\tcol varchar ,\n",
            ");\n",
            "\n",
            "CREATE TABLE Users(\n",
            "\tcol_1 varchar NOT NULL,\n",
            "\tcol_2 varchar NOT NULL,\n",
            ");\n"
          ]
        },
        {
          "output_type": "execute_result",
          "data": {
            "text/html": [
              "<div>\n",
              "<style scoped>\n",
              "    .dataframe tbody tr th:only-of-type {\n",
              "        vertical-align: middle;\n",
              "    }\n",
              "\n",
              "    .dataframe tbody tr th {\n",
              "        vertical-align: top;\n",
              "    }\n",
              "\n",
              "    .dataframe thead th {\n",
              "        text-align: right;\n",
              "    }\n",
              "</style>\n",
              "<table border=\"1\" class=\"dataframe\">\n",
              "  <thead>\n",
              "    <tr style=\"text-align: right;\">\n",
              "      <th></th>\n",
              "      <th>atable</th>\n",
              "      <th>column</th>\n",
              "      <th>column_type</th>\n",
              "      <th>is_null</th>\n",
              "    </tr>\n",
              "  </thead>\n",
              "  <tbody>\n",
              "    <tr>\n",
              "      <th>0</th>\n",
              "      <td>Users</td>\n",
              "      <td>col_1</td>\n",
              "      <td>varchar</td>\n",
              "      <td>No</td>\n",
              "    </tr>\n",
              "    <tr>\n",
              "      <th>1</th>\n",
              "      <td>Users</td>\n",
              "      <td>col_2</td>\n",
              "      <td>varchar</td>\n",
              "      <td>No</td>\n",
              "    </tr>\n",
              "    <tr>\n",
              "      <th>2</th>\n",
              "      <td>Domains</td>\n",
              "      <td>col_a</td>\n",
              "      <td>int</td>\n",
              "      <td>Yes</td>\n",
              "    </tr>\n",
              "    <tr>\n",
              "      <th>3</th>\n",
              "      <td>Domains</td>\n",
              "      <td>col_b</td>\n",
              "      <td>varchar</td>\n",
              "      <td>No</td>\n",
              "    </tr>\n",
              "    <tr>\n",
              "      <th>4</th>\n",
              "      <td>Locks</td>\n",
              "      <td>col</td>\n",
              "      <td>varchar</td>\n",
              "      <td>Yes</td>\n",
              "    </tr>\n",
              "  </tbody>\n",
              "</table>\n",
              "</div>"
            ],
            "text/plain": [
              "    atable column column_type is_null\n",
              "0    Users  col_1     varchar      No\n",
              "1    Users  col_2     varchar      No\n",
              "2  Domains  col_a         int     Yes\n",
              "3  Domains  col_b     varchar      No\n",
              "4    Locks    col     varchar     Yes"
            ]
          },
          "metadata": {},
          "execution_count": 221
        }
      ]
    },
    {
      "cell_type": "code",
      "metadata": {
        "colab": {
          "base_uri": "https://localhost:8080/"
        },
        "id": "YVjdPcyGV9MX",
        "outputId": "ea14f0ca-775f-4e77-9af1-117311960a5c"
      },
      "source": [
        "for year, pci in df.iteritems():\n",
        "    print('{year}: {value}'.format(year=year, value=pci[0]))"
      ],
      "execution_count": null,
      "outputs": [
        {
          "output_type": "stream",
          "name": "stdout",
          "text": [
            "location_id: 0\n",
            "product_code: 8415\n",
            "export_value: 127324\n",
            "year: 1995\n",
            "eci: -0.14935778999065494\n",
            "pci: 1.5279737184355158\n"
          ]
        }
      ]
    },
    {
      "cell_type": "code",
      "metadata": {
        "colab": {
          "base_uri": "https://localhost:8080/"
        },
        "id": "A5hemaPEWkZN",
        "outputId": "272c055d-3bc3-4ad7-900b-d58c0695f7f8"
      },
      "source": [
        "for column in df[['year','pci']]:\n",
        "   columnSeriesObj = df[column]\n",
        "   print('Column Name :' , column,'Column contents :' , columnSeriesObj)\n",
        "   #print('Column contents :' , columnSeriesObj)\n"
      ],
      "execution_count": null,
      "outputs": [
        {
          "output_type": "stream",
          "name": "stdout",
          "text": [
            "Column Name : year Column contents : 0         1995\n",
            "126       1996\n",
            "334       1997\n",
            "538       1998\n",
            "745       1999\n",
            "          ... \n",
            "117724    2017\n",
            "118093    2018\n",
            "118794    2018\n",
            "119148    2019\n",
            "119851    2019\n",
            "Name: year, Length: 86, dtype: int64\n",
            "Column Name : pci Column contents : 0         1.527974\n",
            "126       1.759704\n",
            "334       1.761633\n",
            "538       1.796328\n",
            "745       1.601868\n",
            "            ...   \n",
            "117724    0.682853\n",
            "118093    2.092105\n",
            "118794    0.946808\n",
            "119148    1.857670\n",
            "119851    0.843696\n",
            "Name: pci, Length: 86, dtype: float64\n"
          ]
        }
      ]
    },
    {
      "cell_type": "code",
      "metadata": {
        "id": "LmyQJFwjZX2N"
      },
      "source": [
        "    # Yields a tuple of column name and series for each column in the dataframe\n",
        "    for (columnName, columnData) in df.iteritems():\n",
        "       print('Colunm Name : ', columnName)\n",
        "       print('Column Contents : ', columnData.values)"
      ],
      "execution_count": null,
      "outputs": []
    },
    {
      "cell_type": "code",
      "metadata": {
        "id": "DtsyeMLnY95_"
      },
      "source": [
        "for index in range(df.shape[1]):\n",
        "       print('Column Number : ', index)\n",
        "       # Select column by index position using iloc[]\n",
        "       columnSeriesObj = df.iloc[: , index]\n",
        "       print('Column Contents : ', columnSeriesObj.values)\n"
      ],
      "execution_count": null,
      "outputs": []
    }
  ]
}