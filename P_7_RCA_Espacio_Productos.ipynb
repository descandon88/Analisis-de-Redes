{
  "nbformat": 4,
  "nbformat_minor": 0,
  "metadata": {
    "colab": {
      "name": "P#7 RCA-Espacio_Productos.ipynb",
      "provenance": [],
      "authorship_tag": "ABX9TyMo7Z9vMu7MnB69rtwUiocJ",
      "include_colab_link": true
    },
    "kernelspec": {
      "name": "python3",
      "display_name": "Python 3"
    },
    "language_info": {
      "name": "python"
    }
  },
  "cells": [
    {
      "cell_type": "markdown",
      "metadata": {
        "id": "view-in-github",
        "colab_type": "text"
      },
      "source": [
        "<a href=\"https://colab.research.google.com/github/descandon88/Analisis-de-Redes/blob/proyecto/P_7_RCA_Espacio_Productos.ipynb\" target=\"_parent\"><img src=\"https://colab.research.google.com/assets/colab-badge.svg\" alt=\"Open In Colab\"/></a>"
      ]
    },
    {
      "cell_type": "code",
      "metadata": {
        "id": "_CuLAtXv8Jnb"
      },
      "source": [
        ""
      ],
      "execution_count": null,
      "outputs": []
    },
    {
      "cell_type": "markdown",
      "metadata": {
        "id": "ofYDuOLx9HUW"
      },
      "source": [
        "Trabajo Final de Análisis de Redes 2021: RCAs, Proximidades y Espacio de Productos\n",
        "====================================================================================="
      ]
    },
    {
      "cell_type": "markdown",
      "metadata": {
        "id": "nmXDS-br841n"
      },
      "source": [
        "###Librerías"
      ]
    },
    {
      "cell_type": "code",
      "metadata": {
        "colab": {
          "base_uri": "https://localhost:8080/"
        },
        "id": "48ndCTAr815A",
        "outputId": "3f246564-2cb0-43c8-a5d8-48f38387bac6"
      },
      "source": [
        "\n",
        "import warnings\n",
        "warnings.filterwarnings(\"ignore\")\n",
        "import os\n",
        "import pandas as pd\n",
        "import numpy as np\n",
        "# Librerías para visualizacion\n",
        "import matplotlib.pyplot as plt\n",
        "import matplotlib.colors as colors\n",
        "from matplotlib import cm\n",
        "import re\n",
        "import networkx as nx\n",
        "from itertools import count\n",
        "from itertools import combinations\n",
        "from itertools import product\n",
        "import statsmodels.api as sm\n",
        "import urllib.request, json\n",
        "!pip3 install geopandas\n",
        "import geopandas\n",
        "# -- set scientific notation to display numbers fully rather than exponential\n",
        "pd.set_option('display.float_format', '{:.2f}'.format)\n",
        "from IPython.core.interactiveshell import InteractiveShell\n",
        "InteractiveShell.ast_node_interactivity = 'all' \n",
        "import seaborn as sns\n",
        "sns.set_style('whitegrid') # grids en dark background\n",
        "\n",
        "pd.set_option('display.max_columns', 500)\n",
        "pd.set_option('display.width', 100000)\n",
        "pd.set_option('display.max_rows', 500)\n",
        "pd.set_option('display.max_colwidth',300)\n",
        "print('librerías cargadas')"
      ],
      "execution_count": 83,
      "outputs": [
        {
          "output_type": "stream",
          "name": "stdout",
          "text": [
            "Requirement already satisfied: geopandas in /usr/local/lib/python3.7/dist-packages (0.10.2)\n",
            "Requirement already satisfied: fiona>=1.8 in /usr/local/lib/python3.7/dist-packages (from geopandas) (1.8.20)\n",
            "Requirement already satisfied: pandas>=0.25.0 in /usr/local/lib/python3.7/dist-packages (from geopandas) (1.1.5)\n",
            "Requirement already satisfied: shapely>=1.6 in /usr/local/lib/python3.7/dist-packages (from geopandas) (1.7.1)\n",
            "Requirement already satisfied: pyproj>=2.2.0 in /usr/local/lib/python3.7/dist-packages (from geopandas) (3.2.1)\n",
            "Requirement already satisfied: cligj>=0.5 in /usr/local/lib/python3.7/dist-packages (from fiona>=1.8->geopandas) (0.7.2)\n",
            "Requirement already satisfied: click>=4.0 in /usr/local/lib/python3.7/dist-packages (from fiona>=1.8->geopandas) (7.1.2)\n",
            "Requirement already satisfied: certifi in /usr/local/lib/python3.7/dist-packages (from fiona>=1.8->geopandas) (2021.5.30)\n",
            "Requirement already satisfied: attrs>=17 in /usr/local/lib/python3.7/dist-packages (from fiona>=1.8->geopandas) (21.2.0)\n",
            "Requirement already satisfied: six>=1.7 in /usr/local/lib/python3.7/dist-packages (from fiona>=1.8->geopandas) (1.15.0)\n",
            "Requirement already satisfied: setuptools in /usr/local/lib/python3.7/dist-packages (from fiona>=1.8->geopandas) (57.4.0)\n",
            "Requirement already satisfied: click-plugins>=1.0 in /usr/local/lib/python3.7/dist-packages (from fiona>=1.8->geopandas) (1.1.1)\n",
            "Requirement already satisfied: munch in /usr/local/lib/python3.7/dist-packages (from fiona>=1.8->geopandas) (2.5.0)\n",
            "Requirement already satisfied: numpy>=1.15.4 in /usr/local/lib/python3.7/dist-packages (from pandas>=0.25.0->geopandas) (1.19.5)\n",
            "Requirement already satisfied: pytz>=2017.2 in /usr/local/lib/python3.7/dist-packages (from pandas>=0.25.0->geopandas) (2018.9)\n",
            "Requirement already satisfied: python-dateutil>=2.7.3 in /usr/local/lib/python3.7/dist-packages (from pandas>=0.25.0->geopandas) (2.8.2)\n",
            "librerías cargadas\n"
          ]
        }
      ]
    },
    {
      "cell_type": "markdown",
      "metadata": {
        "id": "VPXBS7H6Qwc0"
      },
      "source": [
        "## Se importa la base preparada desde Drive"
      ]
    },
    {
      "cell_type": "code",
      "metadata": {
        "colab": {
          "base_uri": "https://localhost:8080/"
        },
        "id": "6hbSsB10-FlD",
        "outputId": "d8f93685-a06a-494e-bc42-280ebede0b02"
      },
      "source": [
        "from google.colab import drive\n",
        "drive.mount(\"/content/drive\")"
      ],
      "execution_count": 2,
      "outputs": [
        {
          "output_type": "stream",
          "name": "stdout",
          "text": [
            "Mounted at /content/drive\n"
          ]
        }
      ]
    },
    {
      "cell_type": "code",
      "metadata": {
        "id": "yA4kxsBo9_1D"
      },
      "source": [
        "## Importamos la base ya preparada desde drive\n",
        "df = pd.read_csv(\"/content/drive/MyDrive/eci/base/df_updated.csv\")\n",
        "print('dataframe cargado')"
      ],
      "execution_count": 3,
      "outputs": []
    },
    {
      "cell_type": "markdown",
      "metadata": {
        "id": "jY5dD89v_dDK"
      },
      "source": [
        "## Exploración del Data Frame"
      ]
    },
    {
      "cell_type": "markdown",
      "metadata": {
        "id": "G7IOmAwcA-9p"
      },
      "source": [
        "#### Estructura de la base"
      ]
    },
    {
      "cell_type": "code",
      "metadata": {
        "colab": {
          "base_uri": "https://localhost:8080/",
          "height": 235
        },
        "id": "cE-BT9Ty_hC_",
        "outputId": "ce34f260-b8ce-4491-cee0-69a0a21d62b9"
      },
      "source": [
        "df.sample(n=6)"
      ],
      "execution_count": 4,
      "outputs": [
        {
          "output_type": "execute_result",
          "data": {
            "text/html": [
              "<div>\n",
              "<style scoped>\n",
              "    .dataframe tbody tr th:only-of-type {\n",
              "        vertical-align: middle;\n",
              "    }\n",
              "\n",
              "    .dataframe tbody tr th {\n",
              "        vertical-align: top;\n",
              "    }\n",
              "\n",
              "    .dataframe thead th {\n",
              "        text-align: right;\n",
              "    }\n",
              "</style>\n",
              "<table border=\"1\" class=\"dataframe\">\n",
              "  <thead>\n",
              "    <tr style=\"text-align: right;\">\n",
              "      <th></th>\n",
              "      <th>year</th>\n",
              "      <th>country_code</th>\n",
              "      <th>country_name</th>\n",
              "      <th>product_code</th>\n",
              "      <th>product_name</th>\n",
              "      <th>export_value</th>\n",
              "    </tr>\n",
              "  </thead>\n",
              "  <tbody>\n",
              "    <tr>\n",
              "      <th>313548</th>\n",
              "      <td>2015</td>\n",
              "      <td>AZE</td>\n",
              "      <td>Azerbaijan</td>\n",
              "      <td>706</td>\n",
              "      <td>Carrots, turnips, salad beetroot, salsify, celeriac, radishes and similar edible roots; fresh or chilled</td>\n",
              "      <td>344462</td>\n",
              "    </tr>\n",
              "    <tr>\n",
              "      <th>2034284</th>\n",
              "      <td>2001</td>\n",
              "      <td>AIA</td>\n",
              "      <td>Anguilla</td>\n",
              "      <td>2925</td>\n",
              "      <td>Carboxyimide-function compounds (including saccharin and its salts) and imine-function compounds</td>\n",
              "      <td>0</td>\n",
              "    </tr>\n",
              "    <tr>\n",
              "      <th>675810</th>\n",
              "      <td>2019</td>\n",
              "      <td>TKM</td>\n",
              "      <td>Turkmenistan</td>\n",
              "      <td>1211</td>\n",
              "      <td>Plants and parts of plants (including seeds and fruits), used primarily in perfumery, pharmacy; for insecticidal, fungicidal or similar purposes, fresh or dried, whether or not crushed or powdered</td>\n",
              "      <td>2103911</td>\n",
              "    </tr>\n",
              "    <tr>\n",
              "      <th>5470584</th>\n",
              "      <td>2004</td>\n",
              "      <td>BRN</td>\n",
              "      <td>Brunei Darussalam</td>\n",
              "      <td>7906</td>\n",
              "      <td>Zinc; tubes, pipes and tube or pipe fittings (eg couplings, elbows, sleeves)</td>\n",
              "      <td>1262</td>\n",
              "    </tr>\n",
              "    <tr>\n",
              "      <th>5437539</th>\n",
              "      <td>2013</td>\n",
              "      <td>MNP</td>\n",
              "      <td>Northern Mariana Islands</td>\n",
              "      <td>7806</td>\n",
              "      <td>Lead; articles n.e.s. in chapter 78</td>\n",
              "      <td>0</td>\n",
              "    </tr>\n",
              "    <tr>\n",
              "      <th>3822330</th>\n",
              "      <td>2005</td>\n",
              "      <td>LVA</td>\n",
              "      <td>Latvia</td>\n",
              "      <td>5601</td>\n",
              "      <td>Wadding of textile materials and articles thereof; textile fibres, not exceeding 5 mm in length (flock), textile dust and mill neps</td>\n",
              "      <td>188289</td>\n",
              "    </tr>\n",
              "  </tbody>\n",
              "</table>\n",
              "</div>"
            ],
            "text/plain": [
              "         year country_code              country_name  product_code                                                                                                                                                                                          product_name  export_value\n",
              "313548   2015          AZE                Azerbaijan           706                                                                                              Carrots, turnips, salad beetroot, salsify, celeriac, radishes and similar edible roots; fresh or chilled        344462\n",
              "2034284  2001          AIA                  Anguilla          2925                                                                                                      Carboxyimide-function compounds (including saccharin and its salts) and imine-function compounds             0\n",
              "675810   2019          TKM              Turkmenistan          1211  Plants and parts of plants (including seeds and fruits), used primarily in perfumery, pharmacy; for insecticidal, fungicidal or similar purposes, fresh or dried, whether or not crushed or powdered       2103911\n",
              "5470584  2004          BRN         Brunei Darussalam          7906                                                                                                                          Zinc; tubes, pipes and tube or pipe fittings (eg couplings, elbows, sleeves)          1262\n",
              "5437539  2013          MNP  Northern Mariana Islands          7806                                                                                                                                                                   Lead; articles n.e.s. in chapter 78             0\n",
              "3822330  2005          LVA                    Latvia          5601                                                                   Wadding of textile materials and articles thereof; textile fibres, not exceeding 5 mm in length (flock), textile dust and mill neps        188289"
            ]
          },
          "metadata": {},
          "execution_count": 4
        }
      ]
    },
    {
      "cell_type": "markdown",
      "metadata": {
        "id": "FABnti0PE2RI"
      },
      "source": [
        "#### Agrego un leading zero al product_code de la base para cumplir con la nomenclatura del HS"
      ]
    },
    {
      "cell_type": "code",
      "metadata": {
        "id": "so_q1vmzFG_G"
      },
      "source": [
        "df['product_code']  = df['product_code'].apply(lambda x: '{0:0>4}'.format(x))\n"
      ],
      "execution_count": 5,
      "outputs": []
    },
    {
      "cell_type": "code",
      "metadata": {
        "colab": {
          "base_uri": "https://localhost:8080/",
          "height": 204
        },
        "id": "iiibderv_n-_",
        "outputId": "319fa679-9ebb-46f2-9c66-df532b20c981"
      },
      "source": [
        "df.head()"
      ],
      "execution_count": 6,
      "outputs": [
        {
          "output_type": "execute_result",
          "data": {
            "text/html": [
              "<div>\n",
              "<style scoped>\n",
              "    .dataframe tbody tr th:only-of-type {\n",
              "        vertical-align: middle;\n",
              "    }\n",
              "\n",
              "    .dataframe tbody tr th {\n",
              "        vertical-align: top;\n",
              "    }\n",
              "\n",
              "    .dataframe thead th {\n",
              "        text-align: right;\n",
              "    }\n",
              "</style>\n",
              "<table border=\"1\" class=\"dataframe\">\n",
              "  <thead>\n",
              "    <tr style=\"text-align: right;\">\n",
              "      <th></th>\n",
              "      <th>year</th>\n",
              "      <th>country_code</th>\n",
              "      <th>country_name</th>\n",
              "      <th>product_code</th>\n",
              "      <th>product_name</th>\n",
              "      <th>export_value</th>\n",
              "    </tr>\n",
              "  </thead>\n",
              "  <tbody>\n",
              "    <tr>\n",
              "      <th>0</th>\n",
              "      <td>1995</td>\n",
              "      <td>ABW</td>\n",
              "      <td>Aruba</td>\n",
              "      <td>0101</td>\n",
              "      <td>Horses, asses, mules and hinnies; live</td>\n",
              "      <td>18008</td>\n",
              "    </tr>\n",
              "    <tr>\n",
              "      <th>1</th>\n",
              "      <td>1996</td>\n",
              "      <td>ABW</td>\n",
              "      <td>Aruba</td>\n",
              "      <td>0101</td>\n",
              "      <td>Horses, asses, mules and hinnies; live</td>\n",
              "      <td>0</td>\n",
              "    </tr>\n",
              "    <tr>\n",
              "      <th>2</th>\n",
              "      <td>1997</td>\n",
              "      <td>ABW</td>\n",
              "      <td>Aruba</td>\n",
              "      <td>0101</td>\n",
              "      <td>Horses, asses, mules and hinnies; live</td>\n",
              "      <td>0</td>\n",
              "    </tr>\n",
              "    <tr>\n",
              "      <th>3</th>\n",
              "      <td>1998</td>\n",
              "      <td>ABW</td>\n",
              "      <td>Aruba</td>\n",
              "      <td>0101</td>\n",
              "      <td>Horses, asses, mules and hinnies; live</td>\n",
              "      <td>0</td>\n",
              "    </tr>\n",
              "    <tr>\n",
              "      <th>4</th>\n",
              "      <td>1999</td>\n",
              "      <td>ABW</td>\n",
              "      <td>Aruba</td>\n",
              "      <td>0101</td>\n",
              "      <td>Horses, asses, mules and hinnies; live</td>\n",
              "      <td>14473</td>\n",
              "    </tr>\n",
              "  </tbody>\n",
              "</table>\n",
              "</div>"
            ],
            "text/plain": [
              "   year country_code country_name product_code                            product_name  export_value\n",
              "0  1995          ABW        Aruba         0101  Horses, asses, mules and hinnies; live         18008\n",
              "1  1996          ABW        Aruba         0101  Horses, asses, mules and hinnies; live             0\n",
              "2  1997          ABW        Aruba         0101  Horses, asses, mules and hinnies; live             0\n",
              "3  1998          ABW        Aruba         0101  Horses, asses, mules and hinnies; live             0\n",
              "4  1999          ABW        Aruba         0101  Horses, asses, mules and hinnies; live         14473"
            ]
          },
          "metadata": {},
          "execution_count": 6
        }
      ]
    },
    {
      "cell_type": "markdown",
      "metadata": {
        "id": "Z6GzbftH_zm2"
      },
      "source": [
        "#### ¿Cuántos años existen en la base? "
      ]
    },
    {
      "cell_type": "code",
      "metadata": {
        "colab": {
          "base_uri": "https://localhost:8080/"
        },
        "id": "Fv5F3qrR_tG3",
        "outputId": "6c3a7aa6-d77c-4008-d778-dc01fbe5accf"
      },
      "source": [
        "df['year'].unique()"
      ],
      "execution_count": 7,
      "outputs": [
        {
          "output_type": "execute_result",
          "data": {
            "text/plain": [
              "array([1995, 1996, 1997, 1998, 1999, 2000, 2001, 2002, 2003, 2004, 2005,\n",
              "       2006, 2007, 2008, 2009, 2010, 2011, 2012, 2013, 2014, 2015, 2016,\n",
              "       2017, 2018, 2019, 2020])"
            ]
          },
          "metadata": {},
          "execution_count": 7
        }
      ]
    },
    {
      "cell_type": "markdown",
      "metadata": {
        "id": "vA3yuUnXAo0s"
      },
      "source": [
        "#### Cuántos productos contiene la base?"
      ]
    },
    {
      "cell_type": "code",
      "metadata": {
        "colab": {
          "base_uri": "https://localhost:8080/"
        },
        "id": "I0UKxAP4AtTB",
        "outputId": "563020c6-018c-4ed4-ef5d-d5605c846e21"
      },
      "source": [
        "df['product_name'].nunique()\n"
      ],
      "execution_count": 8,
      "outputs": [
        {
          "output_type": "execute_result",
          "data": {
            "text/plain": [
              "1242"
            ]
          },
          "metadata": {},
          "execution_count": 8
        }
      ]
    },
    {
      "cell_type": "markdown",
      "metadata": {
        "id": "TFWzbtQGBKrV"
      },
      "source": [
        "#### Ejercicio: ¿Cuáles fueron los productos de mayor exportación de Uruguay en el 2019 ? \n"
      ]
    },
    {
      "cell_type": "code",
      "metadata": {
        "colab": {
          "base_uri": "https://localhost:8080/",
          "height": 514
        },
        "id": "ytIW0tn5BUwD",
        "outputId": "c49fba06-6bba-4480-92cf-6537e5a56d52"
      },
      "source": [
        "# Creo un dataframe temporal (tmp_y) solo para Uruguay en el año 2019\n",
        "df_tmp_uy = df[ (df['country_code']=='URY') & (df['year'] == 2019) ].copy()\n",
        "# Creo un dataframe 'df_uy' que contenga la suma de las exportaciones por producto \n",
        "df_uy = df_tmp_uy.groupby(['product_code','product_name'],as_index=False)['export_value'].sum()\n",
        "# Ordeno la base df_uy\n",
        "df_uy.sort_values(by=['export_value'],ascending=False,inplace=True)\n",
        "# show first 10 rows\n",
        "df_uy[0:15]"
      ],
      "execution_count": 9,
      "outputs": [
        {
          "output_type": "execute_result",
          "data": {
            "text/html": [
              "<div>\n",
              "<style scoped>\n",
              "    .dataframe tbody tr th:only-of-type {\n",
              "        vertical-align: middle;\n",
              "    }\n",
              "\n",
              "    .dataframe tbody tr th {\n",
              "        vertical-align: top;\n",
              "    }\n",
              "\n",
              "    .dataframe thead th {\n",
              "        text-align: right;\n",
              "    }\n",
              "</style>\n",
              "<table border=\"1\" class=\"dataframe\">\n",
              "  <thead>\n",
              "    <tr style=\"text-align: right;\">\n",
              "      <th></th>\n",
              "      <th>product_code</th>\n",
              "      <th>product_name</th>\n",
              "      <th>export_value</th>\n",
              "    </tr>\n",
              "  </thead>\n",
              "  <tbody>\n",
              "    <tr>\n",
              "      <th>101</th>\n",
              "      <td>1201</td>\n",
              "      <td>Soya beans; whether or not broken</td>\n",
              "      <td>1359592960</td>\n",
              "    </tr>\n",
              "    <tr>\n",
              "      <th>530</th>\n",
              "      <td>4703</td>\n",
              "      <td>Chemical wood pulp, soda or sulphate, other than dissolving grades</td>\n",
              "      <td>1304880128</td>\n",
              "    </tr>\n",
              "    <tr>\n",
              "      <th>7</th>\n",
              "      <td>0202</td>\n",
              "      <td>Meat of bovine animals; frozen</td>\n",
              "      <td>1181618176</td>\n",
              "    </tr>\n",
              "    <tr>\n",
              "      <th>503</th>\n",
              "      <td>4403</td>\n",
              "      <td>Wood in the rough, whether or not stripped of bark or sapwood, or roughly squared</td>\n",
              "      <td>706908224</td>\n",
              "    </tr>\n",
              "    <tr>\n",
              "      <th>24</th>\n",
              "      <td>0402</td>\n",
              "      <td>Milk and cream; concentrated or containing added sugar or other sweetening matter</td>\n",
              "      <td>431324608</td>\n",
              "    </tr>\n",
              "    <tr>\n",
              "      <th>89</th>\n",
              "      <td>1006</td>\n",
              "      <td>Rice</td>\n",
              "      <td>331513728</td>\n",
              "    </tr>\n",
              "    <tr>\n",
              "      <th>98</th>\n",
              "      <td>1107</td>\n",
              "      <td>Malt; whether or not roasted</td>\n",
              "      <td>293003072</td>\n",
              "    </tr>\n",
              "    <tr>\n",
              "      <th>6</th>\n",
              "      <td>0201</td>\n",
              "      <td>Meat of bovine animals; fresh or chilled</td>\n",
              "      <td>267780832</td>\n",
              "    </tr>\n",
              "    <tr>\n",
              "      <th>1</th>\n",
              "      <td>0102</td>\n",
              "      <td>Bovine animals; live</td>\n",
              "      <td>180433152</td>\n",
              "    </tr>\n",
              "    <tr>\n",
              "      <th>1217</th>\n",
              "      <td>9999</td>\n",
              "      <td>Commodities not specified according to kind</td>\n",
              "      <td>169718416</td>\n",
              "    </tr>\n",
              "    <tr>\n",
              "      <th>484</th>\n",
              "      <td>4104</td>\n",
              "      <td>Leather of bovine or equine animals, without hair on, excluding leather of heading no. 4108 or 4109</td>\n",
              "      <td>150977312</td>\n",
              "    </tr>\n",
              "    <tr>\n",
              "      <th>358</th>\n",
              "      <td>3004</td>\n",
              "      <td>Medicaments; (not goods of heading no. 3002, 3005 or 3006) consisting of mixed or unmixed products for therapeutic or prophylactic use, put up in measured doses or in forms or packings for retail sale</td>\n",
              "      <td>114442032</td>\n",
              "    </tr>\n",
              "    <tr>\n",
              "      <th>501</th>\n",
              "      <td>4401</td>\n",
              "      <td>Fuel wood, in logs, billets, twigs, faggots or similar forms; wood in chip or particles; sawdust and wood waste and scrap, whether or not agglomerated in logs, briquettes, pellets or similar forms</td>\n",
              "      <td>105904768</td>\n",
              "    </tr>\n",
              "    <tr>\n",
              "      <th>1094</th>\n",
              "      <td>8704</td>\n",
              "      <td>Vehicles; for the transport of goods</td>\n",
              "      <td>103656680</td>\n",
              "    </tr>\n",
              "    <tr>\n",
              "      <th>579</th>\n",
              "      <td>5105</td>\n",
              "      <td>Wool and fine or coarse animal hair; carded or combed (including combed wool in fragments)</td>\n",
              "      <td>99739640</td>\n",
              "    </tr>\n",
              "  </tbody>\n",
              "</table>\n",
              "</div>"
            ],
            "text/plain": [
              "     product_code                                                                                                                                                                                              product_name  export_value\n",
              "101          1201                                                                                                                                                                         Soya beans; whether or not broken    1359592960\n",
              "530          4703                                                                                                                                        Chemical wood pulp, soda or sulphate, other than dissolving grades    1304880128\n",
              "7            0202                                                                                                                                                                            Meat of bovine animals; frozen    1181618176\n",
              "503          4403                                                                                                                         Wood in the rough, whether or not stripped of bark or sapwood, or roughly squared     706908224\n",
              "24           0402                                                                                                                         Milk and cream; concentrated or containing added sugar or other sweetening matter     431324608\n",
              "89           1006                                                                                                                                                                                                      Rice     331513728\n",
              "98           1107                                                                                                                                                                              Malt; whether or not roasted     293003072\n",
              "6            0201                                                                                                                                                                  Meat of bovine animals; fresh or chilled     267780832\n",
              "1            0102                                                                                                                                                                                      Bovine animals; live     180433152\n",
              "1217         9999                                                                                                                                                               Commodities not specified according to kind     169718416\n",
              "484          4104                                                                                                       Leather of bovine or equine animals, without hair on, excluding leather of heading no. 4108 or 4109     150977312\n",
              "358          3004  Medicaments; (not goods of heading no. 3002, 3005 or 3006) consisting of mixed or unmixed products for therapeutic or prophylactic use, put up in measured doses or in forms or packings for retail sale     114442032\n",
              "501          4401      Fuel wood, in logs, billets, twigs, faggots or similar forms; wood in chip or particles; sawdust and wood waste and scrap, whether or not agglomerated in logs, briquettes, pellets or similar forms     105904768\n",
              "1094         8704                                                                                                                                                                      Vehicles; for the transport of goods     103656680\n",
              "579          5105                                                                                                                Wool and fine or coarse animal hair; carded or combed (including combed wool in fragments)      99739640"
            ]
          },
          "metadata": {},
          "execution_count": 9
        }
      ]
    },
    {
      "cell_type": "markdown",
      "metadata": {
        "id": "3cBNbBe7Cu8p"
      },
      "source": [
        "#### ¿Cómo fué la exportación de productos \"Meat of bovine animals; frozen\" de Uruguay durante todos los años de la base? "
      ]
    },
    {
      "cell_type": "code",
      "metadata": {
        "colab": {
          "base_uri": "https://localhost:8080/",
          "height": 511
        },
        "id": "sRWN8k5_EOvt",
        "outputId": "3795cb4c-c8a9-41dd-e639-4ad39973a43a"
      },
      "source": [
        "daf_uy = df[ (df['country_code']=='URY')].copy()\n",
        "#df3 = df2[df2['product_name']=='Cars']\n",
        "df1_uy = daf_uy[daf_uy['product_code']=='0202']\n",
        "plt.figure(figsize=(8,8))\n",
        "\n",
        "plt.plot(\"year\", \"export_value\", data=df1_uy, label = \"Meat of bovine animals; frozen\")\n",
        "\n",
        "plt.legend()\n",
        "plt.show()"
      ],
      "execution_count": 10,
      "outputs": [
        {
          "output_type": "execute_result",
          "data": {
            "text/plain": [
              "<Figure size 576x576 with 0 Axes>"
            ]
          },
          "metadata": {},
          "execution_count": 10
        },
        {
          "output_type": "execute_result",
          "data": {
            "text/plain": [
              "[<matplotlib.lines.Line2D at 0x7f3397cdd810>]"
            ]
          },
          "metadata": {},
          "execution_count": 10
        },
        {
          "output_type": "execute_result",
          "data": {
            "text/plain": [
              "<matplotlib.legend.Legend at 0x7f3397d0ad50>"
            ]
          },
          "metadata": {},
          "execution_count": 10
        },
        {
          "output_type": "display_data",
          "data": {
            "image/png": "[encoded data removed]",
            "text/plain": [
              "<Figure size 576x576 with 1 Axes>"
            ]
          },
          "metadata": {
            "needs_background": "light"
          }
        }
      ]
    },
    {
      "cell_type": "markdown",
      "metadata": {
        "id": "i354qhiKH72q"
      },
      "source": [
        "#### **¿Cómo fueron los comportamientos de los Top 5 de productos de exportación de Uruguay durante todos los años de la base?**"
      ]
    },
    {
      "cell_type": "code",
      "metadata": {
        "colab": {
          "base_uri": "https://localhost:8080/",
          "height": 728
        },
        "id": "SIPMnFA-DH-w",
        "outputId": "f20f78a3-6102-4601-ccae-db05bf7c7ef7"
      },
      "source": [
        "daf_uy = df[ (df['country_code']=='URY')].copy()\n",
        "#df3 = df2[df2['product_name']=='Cars']\n",
        "\n",
        "df1_uy = daf_uy[daf_uy['product_code']=='1201']\n",
        "df2_uy = daf_uy[daf_uy['product_code']=='4703']\n",
        "df3_uy = daf_uy[daf_uy['product_code']=='0202']\n",
        "df4_uy = daf_uy[daf_uy['product_code']=='4403']\n",
        "df5_uy = daf_uy[daf_uy['product_code']=='0402']\n",
        "#df5_uy = daf_uy[daf_uy['product_code']=='travel']\n",
        "#df6_uy = daf_uy[daf_uy['product_code']=='1006'] --> refiere a Rice\n",
        "\n",
        "\n",
        "plt.figure(figsize=(12,12))\n",
        "\n",
        "plt.plot(\"year\", \"export_value\", data=df1_uy, label=\"Soya beans; whether or not broken\")\n",
        "plt.plot(\"year\", \"export_value\", data=df2_uy, label = \"Chemical wood pulp, soda or sulphate, other than dissolving grades\")\n",
        "plt.plot(\"year\", \"export_value\", data=df3_uy, label = \"Meat of bovine animals; frozen\")\n",
        "#plt.plot(\"year\", \"export_value\", data=df4_uy, label = \"Travel and tourism\t\")\n",
        "plt.plot(\"year\", \"export_value\", data=df4_uy, label = \"Wood in the rough, whether or not stripped of bark or sapwood, or roughly squared\")\n",
        "plt.plot(\"year\", \"export_value\", data=df5_uy, label=\"Milk and cream; concentrated or containing added sugar or other sweetening matter\")\n",
        "\n",
        "\n",
        "plt.legend()\n",
        "plt.show()\n"
      ],
      "execution_count": 11,
      "outputs": [
        {
          "output_type": "execute_result",
          "data": {
            "text/plain": [
              "<Figure size 864x864 with 0 Axes>"
            ]
          },
          "metadata": {},
          "execution_count": 11
        },
        {
          "output_type": "execute_result",
          "data": {
            "text/plain": [
              "[<matplotlib.lines.Line2D at 0x7f33977e31d0>]"
            ]
          },
          "metadata": {},
          "execution_count": 11
        },
        {
          "output_type": "execute_result",
          "data": {
            "text/plain": [
              "[<matplotlib.lines.Line2D at 0x7f33977e3890>]"
            ]
          },
          "metadata": {},
          "execution_count": 11
        },
        {
          "output_type": "execute_result",
          "data": {
            "text/plain": [
              "[<matplotlib.lines.Line2D at 0x7f33977e3ed0>]"
            ]
          },
          "metadata": {},
          "execution_count": 11
        },
        {
          "output_type": "execute_result",
          "data": {
            "text/plain": [
              "[<matplotlib.lines.Line2D at 0x7f33977e9390>]"
            ]
          },
          "metadata": {},
          "execution_count": 11
        },
        {
          "output_type": "execute_result",
          "data": {
            "text/plain": [
              "[<matplotlib.lines.Line2D at 0x7f33977e9910>]"
            ]
          },
          "metadata": {},
          "execution_count": 11
        },
        {
          "output_type": "execute_result",
          "data": {
            "text/plain": [
              "<matplotlib.legend.Legend at 0x7f339780a810>"
            ]
          },
          "metadata": {},
          "execution_count": 11
        },
        {
          "output_type": "display_data",
          "data": {
            "image/png": "[encoded data removed]",
            "text/plain": [
              "<Figure size 864x864 with 1 Axes>"
            ]
          },
          "metadata": {
            "needs_background": "light"
          }
        }
      ]
    },
    {
      "cell_type": "code",
      "metadata": {
        "id": "q982F0mmKJbp"
      },
      "source": [
        ""
      ],
      "execution_count": null,
      "outputs": []
    },
    {
      "cell_type": "markdown",
      "metadata": {
        "id": "4ZwYsidBIP98"
      },
      "source": [
        "#### **¿y medicamentos ?**"
      ]
    },
    {
      "cell_type": "code",
      "metadata": {
        "colab": {
          "base_uri": "https://localhost:8080/",
          "height": 745
        },
        "id": "53HShypAIX8j",
        "outputId": "26c5d9f5-de01-4e19-98f0-5a1fec5942a5"
      },
      "source": [
        "daf_uy = df[ (df['country_code']=='URY')].copy()\n",
        "#df3 = df2[df2['product_name']=='Cars']\n",
        "\n",
        "df1_uy = daf_uy[daf_uy['product_code']=='1201']\n",
        "df2_uy = daf_uy[daf_uy['product_code']=='4703']\n",
        "df3_uy = daf_uy[daf_uy['product_code']=='0202']\n",
        "df4_uy = daf_uy[daf_uy['product_code']=='4403']\n",
        "df5_uy = daf_uy[daf_uy['product_code']=='0402']\n",
        "df6_uy = daf_uy[daf_uy['product_code']=='3004']\n",
        "#df7_uy = daf_uy[daf_uy['product_code']=='1006'] --> refiere a Rice\n",
        "\n",
        "\n",
        "plt.figure(figsize=(12,12))\n",
        "\n",
        "plt.plot(\"year\", \"export_value\", data=df1_uy, label=\"Soya beans; whether or not broken\")\n",
        "plt.plot(\"year\", \"export_value\", data=df2_uy, label = \"Chemical wood pulp, soda or sulphate, other than dissolving grades\")\n",
        "plt.plot(\"year\", \"export_value\", data=df3_uy, label = \"Meat of bovine animals; frozen\")\n",
        "plt.plot(\"year\", \"export_value\", data=df4_uy, label = \"Wood in the rough, whether or not stripped of bark or sapwood, or roughly squared\")\n",
        "plt.plot(\"year\", \"export_value\", data=df5_uy, label=\"Milk and cream; concentrated or containing added sugar or other sweetening matter\")\n",
        "plt.plot(\"year\", \"export_value\", data=df6_uy, label = \"Medicaments; (not goods of heading no. 3002, 3005 or 3006) consisting of mixed or unmixed products for therapeutic or prophylactic use, put up in measured doses or in forms or packings for retail sale\t\")\n",
        "\n",
        "\n",
        "\n",
        "plt.legend()\n",
        "plt.show()\n"
      ],
      "execution_count": 12,
      "outputs": [
        {
          "output_type": "execute_result",
          "data": {
            "text/plain": [
              "<Figure size 864x864 with 0 Axes>"
            ]
          },
          "metadata": {},
          "execution_count": 12
        },
        {
          "output_type": "execute_result",
          "data": {
            "text/plain": [
              "[<matplotlib.lines.Line2D at 0x7f3395f0b490>]"
            ]
          },
          "metadata": {},
          "execution_count": 12
        },
        {
          "output_type": "execute_result",
          "data": {
            "text/plain": [
              "[<matplotlib.lines.Line2D at 0x7f3395f0b9d0>]"
            ]
          },
          "metadata": {},
          "execution_count": 12
        },
        {
          "output_type": "execute_result",
          "data": {
            "text/plain": [
              "[<matplotlib.lines.Line2D at 0x7f3395f0ba10>]"
            ]
          },
          "metadata": {},
          "execution_count": 12
        },
        {
          "output_type": "execute_result",
          "data": {
            "text/plain": [
              "[<matplotlib.lines.Line2D at 0x7f3395f1f090>]"
            ]
          },
          "metadata": {},
          "execution_count": 12
        },
        {
          "output_type": "execute_result",
          "data": {
            "text/plain": [
              "[<matplotlib.lines.Line2D at 0x7f3395f1f550>]"
            ]
          },
          "metadata": {},
          "execution_count": 12
        },
        {
          "output_type": "execute_result",
          "data": {
            "text/plain": [
              "[<matplotlib.lines.Line2D at 0x7f3395f2b0d0>]"
            ]
          },
          "metadata": {},
          "execution_count": 12
        },
        {
          "output_type": "execute_result",
          "data": {
            "text/plain": [
              "<matplotlib.legend.Legend at 0x7f3397797cd0>"
            ]
          },
          "metadata": {},
          "execution_count": 12
        },
        {
          "output_type": "display_data",
          "data": {
            "image/png": "[encoded data removed]",
            "text/plain": [
              "<Figure size 864x864 with 1 Axes>"
            ]
          },
          "metadata": {
            "needs_background": "light"
          }
        }
      ]
    },
    {
      "cell_type": "markdown",
      "metadata": {
        "id": "m7bUnHziL3hS"
      },
      "source": [
        "##**Ventaja Comparativa Revelada (RCA)**"
      ]
    },
    {
      "cell_type": "markdown",
      "metadata": {
        "id": "3_Mj_f6sKeDs"
      },
      "source": [
        "###¿En qué productos están especializados los países? Tomando como referencia a Hidalgo et al. (2007), se calcula la Ventaja Comparativa Revelada (RCA) de cada par país-producto. Es decir, ¿cuánto un país \"sobreexporta\" un producto en comparación con todos los demás países? \n",
        "\n",
        "###Técnicamente, este es el índice de ventaja comparativa de Balassa, calculado de la siguiente manera para el producto py el país c en el momento t:\n",
        "\n",
        "##RCAcpt=Xcpt/XctXpt/Xt(1)\n",
        "\n",
        "###donde Xcpt representa el valor total de las exportaciones del producto \"p\" del país \"c\" en el tiempo \"t\" entre todos los importadores. Un subíndice omitido indica una suma sobre la dimensión omitida, por ejemplo: Xt = ∑c, p, tXcpt.\n",
        "\n",
        "### Un par producto-país con RCA> 1 significa que el producto está sobrerrepresentado en la canasta de exportación del país.\n",
        "\n",
        "###Usamos el conjunto de datos comerciales original (\"df\") que se encuentra ya cargado:"
      ]
    },
    {
      "cell_type": "code",
      "metadata": {
        "id": "RGXGDEfUKhL_"
      },
      "source": [
        "## Función para el cálcula de RCA\n",
        "\n",
        "def calc_rca(data,pais_col,prod_col,anio_col,value_col):\n",
        "    \"\"\"\n",
        "      La función que calcula la RCA\n",
        "    \n",
        "    \"\"\"\n",
        "    print('Creando las combinaciones de país-producto-tiempo')\n",
        "    df_all = pd.DataFrame(list(product(data[anio_col].unique(), data[pais_col].unique(),data[prod_col].unique())))\n",
        "    df_all.columns=[anio_col,pais_col,prod_col]\n",
        "    print('Se procede a fusionar los datos')\n",
        "    df_all = pd.merge(df_all,data[[anio_col,pais_col,prod_col,value_col]],how='left',on=[anio_col,pais_col,prod_col])\n",
        "    df_all.loc[df_all[value_col].isnull(),value_col] = 0\n",
        "\n",
        "    # En esta parte se calculan propiedades\n",
        "    print('calculando')\n",
        "    df_all['Xcpt'] = df_all[value_col]\n",
        "    df_all['Xct'] = df_all.groupby([pais_col, anio_col])[value_col].transform(sum)\n",
        "    df_all['Xpt'] = df_all.groupby([prod_col, anio_col])[value_col].transform(sum)\n",
        "    df_all['Xt'] = df_all.groupby([anio_col])[value_col].transform('sum')\n",
        "\n",
        "    df_all['RCAcpt'] = (df_all['Xcpt']/df_all['Xct'])/(df_all['Xpt']/df_all['Xt']) #--> ecuación de las ventaja comparativa revelada RCA\n",
        "    \n",
        "    ## 0 si el producto / país tiene 0 exportaciones\n",
        "    df_all.loc[df_all['RCAcpt'].isnull(),'RCAcpt'] = 0 \n",
        "    # drop the properties \n",
        "    df_all.drop(['Xcpt','Xct','Xpt','Xt'],axis=1,inplace=True,errors='ignore')\n",
        "\n",
        "    return df_all\n",
        "\n"
      ],
      "execution_count": 17,
      "outputs": []
    },
    {
      "cell_type": "code",
      "metadata": {
        "colab": {
          "base_uri": "https://localhost:8080/",
          "height": 427
        },
        "id": "3EMkDFdXM7q1",
        "outputId": "16e31126-f8de-4498-9e5d-f0428f189825"
      },
      "source": [
        "df_rca = calc_rca(data=df,pais_col='country_name',prod_col='product_name',anio_col='year',value_col='export_value')\n",
        "\n",
        "print('rca listo!!')\n",
        "\n",
        "# show results\n",
        "df_rca[0:10]"
      ],
      "execution_count": 18,
      "outputs": [
        {
          "output_type": "stream",
          "name": "stdout",
          "text": [
            "Creando las combinaciones de país-producto-tiempo\n",
            "Se procede a fusionar los datos\n",
            "calculando\n",
            "rca listo\n"
          ]
        },
        {
          "output_type": "execute_result",
          "data": {
            "text/html": [
              "<div>\n",
              "<style scoped>\n",
              "    .dataframe tbody tr th:only-of-type {\n",
              "        vertical-align: middle;\n",
              "    }\n",
              "\n",
              "    .dataframe tbody tr th {\n",
              "        vertical-align: top;\n",
              "    }\n",
              "\n",
              "    .dataframe thead th {\n",
              "        text-align: right;\n",
              "    }\n",
              "</style>\n",
              "<table border=\"1\" class=\"dataframe\">\n",
              "  <thead>\n",
              "    <tr style=\"text-align: right;\">\n",
              "      <th></th>\n",
              "      <th>year</th>\n",
              "      <th>country_name</th>\n",
              "      <th>product_name</th>\n",
              "      <th>export_value</th>\n",
              "      <th>RCAcpt</th>\n",
              "    </tr>\n",
              "  </thead>\n",
              "  <tbody>\n",
              "    <tr>\n",
              "      <th>0</th>\n",
              "      <td>1995</td>\n",
              "      <td>Aruba</td>\n",
              "      <td>Horses, asses, mules and hinnies; live</td>\n",
              "      <td>18008.00</td>\n",
              "      <td>0.13</td>\n",
              "    </tr>\n",
              "    <tr>\n",
              "      <th>1</th>\n",
              "      <td>1995</td>\n",
              "      <td>Aruba</td>\n",
              "      <td>Bovine animals; live</td>\n",
              "      <td>0.00</td>\n",
              "      <td>0.00</td>\n",
              "    </tr>\n",
              "    <tr>\n",
              "      <th>2</th>\n",
              "      <td>1995</td>\n",
              "      <td>Aruba</td>\n",
              "      <td>Swine; live</td>\n",
              "      <td>0.00</td>\n",
              "      <td>0.00</td>\n",
              "    </tr>\n",
              "    <tr>\n",
              "      <th>3</th>\n",
              "      <td>1995</td>\n",
              "      <td>Aruba</td>\n",
              "      <td>Sheep and goats; live</td>\n",
              "      <td>0.00</td>\n",
              "      <td>0.00</td>\n",
              "    </tr>\n",
              "    <tr>\n",
              "      <th>4</th>\n",
              "      <td>1995</td>\n",
              "      <td>Aruba</td>\n",
              "      <td>Poultry; live, fowls of the species gallus domesticus, ducks, geese, turkeys and guinea fowls</td>\n",
              "      <td>0.00</td>\n",
              "      <td>0.00</td>\n",
              "    </tr>\n",
              "    <tr>\n",
              "      <th>5</th>\n",
              "      <td>1995</td>\n",
              "      <td>Aruba</td>\n",
              "      <td>Animals, n.e.s. in chapter 01; live</td>\n",
              "      <td>2336.00</td>\n",
              "      <td>0.05</td>\n",
              "    </tr>\n",
              "    <tr>\n",
              "      <th>6</th>\n",
              "      <td>1995</td>\n",
              "      <td>Aruba</td>\n",
              "      <td>Meat of bovine animals; fresh or chilled</td>\n",
              "      <td>0.00</td>\n",
              "      <td>0.00</td>\n",
              "    </tr>\n",
              "    <tr>\n",
              "      <th>7</th>\n",
              "      <td>1995</td>\n",
              "      <td>Aruba</td>\n",
              "      <td>Meat of bovine animals; frozen</td>\n",
              "      <td>0.00</td>\n",
              "      <td>0.00</td>\n",
              "    </tr>\n",
              "    <tr>\n",
              "      <th>8</th>\n",
              "      <td>1995</td>\n",
              "      <td>Aruba</td>\n",
              "      <td>Meat of swine; fresh, chilled or frozen</td>\n",
              "      <td>0.00</td>\n",
              "      <td>0.00</td>\n",
              "    </tr>\n",
              "    <tr>\n",
              "      <th>9</th>\n",
              "      <td>1995</td>\n",
              "      <td>Aruba</td>\n",
              "      <td>Meat of sheep or goats; fresh, chilled or frozen</td>\n",
              "      <td>0.00</td>\n",
              "      <td>0.00</td>\n",
              "    </tr>\n",
              "  </tbody>\n",
              "</table>\n",
              "</div>"
            ],
            "text/plain": [
              "   year country_name                                                                                   product_name  export_value  RCAcpt\n",
              "0  1995        Aruba                                                         Horses, asses, mules and hinnies; live      18008.00    0.13\n",
              "1  1995        Aruba                                                                           Bovine animals; live          0.00    0.00\n",
              "2  1995        Aruba                                                                                    Swine; live          0.00    0.00\n",
              "3  1995        Aruba                                                                          Sheep and goats; live          0.00    0.00\n",
              "4  1995        Aruba  Poultry; live, fowls of the species gallus domesticus, ducks, geese, turkeys and guinea fowls          0.00    0.00\n",
              "5  1995        Aruba                                                            Animals, n.e.s. in chapter 01; live       2336.00    0.05\n",
              "6  1995        Aruba                                                       Meat of bovine animals; fresh or chilled          0.00    0.00\n",
              "7  1995        Aruba                                                                 Meat of bovine animals; frozen          0.00    0.00\n",
              "8  1995        Aruba                                                        Meat of swine; fresh, chilled or frozen          0.00    0.00\n",
              "9  1995        Aruba                                               Meat of sheep or goats; fresh, chilled or frozen          0.00    0.00"
            ]
          },
          "metadata": {},
          "execution_count": 18
        }
      ]
    },
    {
      "cell_type": "markdown",
      "metadata": {
        "id": "z0UE8hNuN3wE"
      },
      "source": [
        "###**¿Qué productos se especializó Noruega, Uruguay y Nueva Zelanda en el 2019?** "
      ]
    },
    {
      "cell_type": "code",
      "metadata": {
        "colab": {
          "base_uri": "https://localhost:8080/",
          "height": 1000
        },
        "id": "DY6pPpJ2OBzh",
        "outputId": "1f7763e7-e3b1-4af6-dd04-1d3934003e1a"
      },
      "source": [
        "# Noruega\n",
        "print(\"\\n Norway: \\n\")\n",
        "\n",
        "df_rca[ (df_rca['year']==2019) & (df_rca['country_name']=='Norway')].sort_values(by=['RCAcpt'],ascending=False)[['product_name','RCAcpt','year']][0:5]\n",
        "\n",
        "print(\"\\n Uruguay:\\n\")\n",
        "\n",
        "# Uruguay\n",
        "df_rca[ (df_rca['year']==2019) & (df_rca['country_name']=='Uruguay')].sort_values(by=['RCAcpt'],ascending=False)[['product_name','RCAcpt','year']][0:10]\n",
        "\n",
        "print(\"\\n New Zealand:\\n\")\n",
        "\n",
        "# Nueva Zelanda\n",
        "df_rca[ (df_rca['year']==2019) & (df_rca['country_name']=='New Zealand')].sort_values(by=['RCAcpt'],ascending=False)[['product_name','RCAcpt','year']][0:10]"
      ],
      "execution_count": 40,
      "outputs": [
        {
          "output_type": "stream",
          "name": "stdout",
          "text": [
            "\n",
            " Norway: \n",
            "\n"
          ]
        },
        {
          "output_type": "execute_result",
          "data": {
            "text/html": [
              "<div>\n",
              "<style scoped>\n",
              "    .dataframe tbody tr th:only-of-type {\n",
              "        vertical-align: middle;\n",
              "    }\n",
              "\n",
              "    .dataframe tbody tr th {\n",
              "        vertical-align: top;\n",
              "    }\n",
              "\n",
              "    .dataframe thead th {\n",
              "        text-align: right;\n",
              "    }\n",
              "</style>\n",
              "<table border=\"1\" class=\"dataframe\">\n",
              "  <thead>\n",
              "    <tr style=\"text-align: right;\">\n",
              "      <th></th>\n",
              "      <th>product_name</th>\n",
              "      <th>RCAcpt</th>\n",
              "      <th>year</th>\n",
              "    </tr>\n",
              "  </thead>\n",
              "  <tbody>\n",
              "    <tr>\n",
              "      <th>7396127</th>\n",
              "      <td>Fish; fresh or chilled (excluding fish fillets and other fish meat of heading no. 0304)</td>\n",
              "      <td>63.21</td>\n",
              "      <td>2019</td>\n",
              "    </tr>\n",
              "    <tr>\n",
              "      <th>7396534</th>\n",
              "      <td>Residual lyes from the manufacture of wood pulp, whether or not concentrated, desugared or chemically treated, including lignin sulphonates, but excluding tall oil of heading no. 3803</td>\n",
              "      <td>43.55</td>\n",
              "      <td>2019</td>\n",
              "    </tr>\n",
              "    <tr>\n",
              "      <th>7396452</th>\n",
              "      <td>Carboxyamide-function compounds; amide-function compounds of carbonic acid</td>\n",
              "      <td>28.14</td>\n",
              "      <td>2019</td>\n",
              "    </tr>\n",
              "    <tr>\n",
              "      <th>7396130</th>\n",
              "      <td>Fish; dried, salted or in brine, smoked fish, whether or not cooked before or during the smoking process, fish meal fit for human consumption</td>\n",
              "      <td>25.18</td>\n",
              "      <td>2019</td>\n",
              "    </tr>\n",
              "    <tr>\n",
              "      <th>7397247</th>\n",
              "      <td>Vessels; other, including warships and lifeboats, other than rowing boats</td>\n",
              "      <td>19.65</td>\n",
              "      <td>2019</td>\n",
              "    </tr>\n",
              "  </tbody>\n",
              "</table>\n",
              "</div>"
            ],
            "text/plain": [
              "                                                                                                                                                                                    product_name  RCAcpt  year\n",
              "7396127                                                                                                  Fish; fresh or chilled (excluding fish fillets and other fish meat of heading no. 0304)   63.21  2019\n",
              "7396534  Residual lyes from the manufacture of wood pulp, whether or not concentrated, desugared or chemically treated, including lignin sulphonates, but excluding tall oil of heading no. 3803   43.55  2019\n",
              "7396452                                                                                                               Carboxyamide-function compounds; amide-function compounds of carbonic acid   28.14  2019\n",
              "7396130                                            Fish; dried, salted or in brine, smoked fish, whether or not cooked before or during the smoking process, fish meal fit for human consumption   25.18  2019\n",
              "7397247                                                                                                                Vessels; other, including warships and lifeboats, other than rowing boats   19.65  2019"
            ]
          },
          "metadata": {},
          "execution_count": 40
        },
        {
          "output_type": "stream",
          "name": "stdout",
          "text": [
            "\n",
            " Uruguay:\n",
            "\n"
          ]
        },
        {
          "output_type": "execute_result",
          "data": {
            "text/html": [
              "<div>\n",
              "<style scoped>\n",
              "    .dataframe tbody tr th:only-of-type {\n",
              "        vertical-align: middle;\n",
              "    }\n",
              "\n",
              "    .dataframe tbody tr th {\n",
              "        vertical-align: top;\n",
              "    }\n",
              "\n",
              "    .dataframe thead th {\n",
              "        text-align: right;\n",
              "    }\n",
              "</style>\n",
              "<table border=\"1\" class=\"dataframe\">\n",
              "  <thead>\n",
              "    <tr style=\"text-align: right;\">\n",
              "      <th></th>\n",
              "      <th>product_name</th>\n",
              "      <th>RCAcpt</th>\n",
              "      <th>year</th>\n",
              "    </tr>\n",
              "  </thead>\n",
              "  <tbody>\n",
              "    <tr>\n",
              "      <th>7465762</th>\n",
              "      <td>Malt; whether or not roasted</td>\n",
              "      <td>147.98</td>\n",
              "      <td>2019</td>\n",
              "    </tr>\n",
              "    <tr>\n",
              "      <th>7466249</th>\n",
              "      <td>Wool and fine or coarse animal hair; carded or combed (including combed wool in fragments)</td>\n",
              "      <td>104.06</td>\n",
              "      <td>2019</td>\n",
              "    </tr>\n",
              "    <tr>\n",
              "      <th>7465672</th>\n",
              "      <td>Meat of horses, asses, mules or hinnies; fresh, chilled or frozen</td>\n",
              "      <td>91.80</td>\n",
              "      <td>2019</td>\n",
              "    </tr>\n",
              "    <tr>\n",
              "      <th>7466172</th>\n",
              "      <td>Wood in the rough, whether or not stripped of bark or sapwood, or roughly squared</td>\n",
              "      <td>88.74</td>\n",
              "      <td>2019</td>\n",
              "    </tr>\n",
              "    <tr>\n",
              "      <th>7465669</th>\n",
              "      <td>Meat of bovine animals; frozen</td>\n",
              "      <td>88.22</td>\n",
              "      <td>2019</td>\n",
              "    </tr>\n",
              "    <tr>\n",
              "      <th>7466199</th>\n",
              "      <td>Chemical wood pulp, soda or sulphate, other than dissolving grades</td>\n",
              "      <td>75.82</td>\n",
              "      <td>2019</td>\n",
              "    </tr>\n",
              "    <tr>\n",
              "      <th>7466247</th>\n",
              "      <td>Waste of wool or of fine or coarse animal hair, including yarn waste but excluding garnetted stock</td>\n",
              "      <td>72.41</td>\n",
              "      <td>2019</td>\n",
              "    </tr>\n",
              "    <tr>\n",
              "      <th>7465786</th>\n",
              "      <td>Fats of bovine animals, sheep or goats; raw or rendered, whether or not pressed or solvent-extracted</td>\n",
              "      <td>51.05</td>\n",
              "      <td>2019</td>\n",
              "    </tr>\n",
              "    <tr>\n",
              "      <th>7465765</th>\n",
              "      <td>Soya beans; whether or not broken</td>\n",
              "      <td>48.38</td>\n",
              "      <td>2019</td>\n",
              "    </tr>\n",
              "    <tr>\n",
              "      <th>7466245</th>\n",
              "      <td>Wool, not carded or combed</td>\n",
              "      <td>47.30</td>\n",
              "      <td>2019</td>\n",
              "    </tr>\n",
              "  </tbody>\n",
              "</table>\n",
              "</div>"
            ],
            "text/plain": [
              "                                                                                                 product_name  RCAcpt  year\n",
              "7465762                                                                          Malt; whether or not roasted  147.98  2019\n",
              "7466249            Wool and fine or coarse animal hair; carded or combed (including combed wool in fragments)  104.06  2019\n",
              "7465672                                     Meat of horses, asses, mules or hinnies; fresh, chilled or frozen   91.80  2019\n",
              "7466172                     Wood in the rough, whether or not stripped of bark or sapwood, or roughly squared   88.74  2019\n",
              "7465669                                                                        Meat of bovine animals; frozen   88.22  2019\n",
              "7466199                                    Chemical wood pulp, soda or sulphate, other than dissolving grades   75.82  2019\n",
              "7466247    Waste of wool or of fine or coarse animal hair, including yarn waste but excluding garnetted stock   72.41  2019\n",
              "7465786  Fats of bovine animals, sheep or goats; raw or rendered, whether or not pressed or solvent-extracted   51.05  2019\n",
              "7465765                                                                     Soya beans; whether or not broken   48.38  2019\n",
              "7466245                                                                            Wool, not carded or combed   47.30  2019"
            ]
          },
          "metadata": {},
          "execution_count": 40
        },
        {
          "output_type": "stream",
          "name": "stdout",
          "text": [
            "\n",
            " New Zealand:\n",
            "\n"
          ]
        },
        {
          "output_type": "execute_result",
          "data": {
            "text/html": [
              "<div>\n",
              "<style scoped>\n",
              "    .dataframe tbody tr th:only-of-type {\n",
              "        vertical-align: middle;\n",
              "    }\n",
              "\n",
              "    .dataframe tbody tr th {\n",
              "        vertical-align: top;\n",
              "    }\n",
              "\n",
              "    .dataframe thead th {\n",
              "        text-align: right;\n",
              "    }\n",
              "</style>\n",
              "<table border=\"1\" class=\"dataframe\">\n",
              "  <thead>\n",
              "    <tr style=\"text-align: right;\">\n",
              "      <th></th>\n",
              "      <th>product_name</th>\n",
              "      <th>RCAcpt</th>\n",
              "      <th>year</th>\n",
              "    </tr>\n",
              "  </thead>\n",
              "  <tbody>\n",
              "    <tr>\n",
              "      <th>7399845</th>\n",
              "      <td>Meat of sheep or goats; fresh, chilled or frozen</td>\n",
              "      <td>155.94</td>\n",
              "      <td>2019</td>\n",
              "    </tr>\n",
              "    <tr>\n",
              "      <th>7400371</th>\n",
              "      <td>Wood pulp, mechanical wood pulp</td>\n",
              "      <td>153.59</td>\n",
              "      <td>2019</td>\n",
              "    </tr>\n",
              "    <tr>\n",
              "      <th>7400237</th>\n",
              "      <td>Casein, caseinates and other casein derivatives; casein glues</td>\n",
              "      <td>138.75</td>\n",
              "      <td>2019</td>\n",
              "    </tr>\n",
              "    <tr>\n",
              "      <th>7399860</th>\n",
              "      <td>Milk and cream; concentrated or containing added sugar or other sweetening matter</td>\n",
              "      <td>127.45</td>\n",
              "      <td>2019</td>\n",
              "    </tr>\n",
              "    <tr>\n",
              "      <th>7399875</th>\n",
              "      <td>Ivory, tortoise-shell, whalebone and whalebone hair, horns, antlers, hooves, nails, claws and beaks unworked or simply prepared, not cut to shape; waste and powder of these products</td>\n",
              "      <td>117.01</td>\n",
              "      <td>2019</td>\n",
              "    </tr>\n",
              "    <tr>\n",
              "      <th>7399863</th>\n",
              "      <td>Butter and other fats and oils derived from milk</td>\n",
              "      <td>104.59</td>\n",
              "      <td>2019</td>\n",
              "    </tr>\n",
              "    <tr>\n",
              "      <th>7400346</th>\n",
              "      <td>Wood in the rough, whether or not stripped of bark or sapwood, or roughly squared</td>\n",
              "      <td>68.26</td>\n",
              "      <td>2019</td>\n",
              "    </tr>\n",
              "    <tr>\n",
              "      <th>7399849</th>\n",
              "      <td>Meat and edible meat offal, n.e.s. in chapter 2; fresh, chilled or frozen</td>\n",
              "      <td>68.15</td>\n",
              "      <td>2019</td>\n",
              "    </tr>\n",
              "    <tr>\n",
              "      <th>7399983</th>\n",
              "      <td>Extracts and juices of meat, fish or crustaceans, molluscs or other aquatic invertebrates</td>\n",
              "      <td>56.10</td>\n",
              "      <td>2019</td>\n",
              "    </tr>\n",
              "    <tr>\n",
              "      <th>7399867</th>\n",
              "      <td>Honey; natural</td>\n",
              "      <td>55.36</td>\n",
              "      <td>2019</td>\n",
              "    </tr>\n",
              "  </tbody>\n",
              "</table>\n",
              "</div>"
            ],
            "text/plain": [
              "                                                                                                                                                                                  product_name  RCAcpt  year\n",
              "7399845                                                                                                                                       Meat of sheep or goats; fresh, chilled or frozen  155.94  2019\n",
              "7400371                                                                                                                                                        Wood pulp, mechanical wood pulp  153.59  2019\n",
              "7400237                                                                                                                          Casein, caseinates and other casein derivatives; casein glues  138.75  2019\n",
              "7399860                                                                                                      Milk and cream; concentrated or containing added sugar or other sweetening matter  127.45  2019\n",
              "7399875  Ivory, tortoise-shell, whalebone and whalebone hair, horns, antlers, hooves, nails, claws and beaks unworked or simply prepared, not cut to shape; waste and powder of these products  117.01  2019\n",
              "7399863                                                                                                                                       Butter and other fats and oils derived from milk  104.59  2019\n",
              "7400346                                                                                                      Wood in the rough, whether or not stripped of bark or sapwood, or roughly squared   68.26  2019\n",
              "7399849                                                                                                              Meat and edible meat offal, n.e.s. in chapter 2; fresh, chilled or frozen   68.15  2019\n",
              "7399983                                                                                              Extracts and juices of meat, fish or crustaceans, molluscs or other aquatic invertebrates   56.10  2019\n",
              "7399867                                                                                                                                                                         Honey; natural   55.36  2019"
            ]
          },
          "metadata": {},
          "execution_count": 40
        }
      ]
    },
    {
      "cell_type": "markdown",
      "metadata": {
        "id": "gUWaRwD4RE3g"
      },
      "source": [
        "##**CALCULO DE PROXIMIDADES ENTRE PRODUCTOS**"
      ]
    },
    {
      "cell_type": "markdown",
      "metadata": {
        "id": "QILpI5qsXJMn"
      },
      "source": [
        "###Teniendo los RCA para cada país, pasamos hacer el cálculo de proximidades entre productos. \n",
        "###Tomando como referencia el documento de Hidalgo (2007):\n",
        "\n",
        "![](https://drive.google.com/uc?export=view&id=1X28TNOgSLwReetxgk569vcu26TANkm4V\n",
        ")\n",
        "\n",
        "\n",
        "\n",
        "\n"
      ]
    },
    {
      "cell_type": "markdown",
      "metadata": {
        "id": "tds9Pm3q6qie"
      },
      "source": [
        "### La medición de similitud entre productos i y j basado en la probabilidad condicional de tener RCA, que mide si un país es un exportador efectivo (RCA>1) de  un bien i o no (RCA<1). \n",
        "###Se crea el umbral Mcp que refiere a una nueva columna de tipo binaria donde asigna 0 cuando RCA<1 y 1 cuando RCA>1\n",
        "\n"
      ]
    },
    {
      "cell_type": "code",
      "metadata": {
        "id": "lNl7PhXlUPaQ"
      },
      "source": [
        "\n",
        "df_rca['Mcp'] = 0\n",
        "df_rca.loc[df_rca['RCAcpt']>1,'Mcp'] = 1"
      ],
      "execution_count": 34,
      "outputs": []
    },
    {
      "cell_type": "code",
      "metadata": {
        "colab": {
          "base_uri": "https://localhost:8080/",
          "height": 419
        },
        "id": "-_Ejuhg_2X2F",
        "outputId": "14da665d-e0a6-406c-ccd5-edbd836e8da2"
      },
      "source": [
        "df_rca.sort_values(by=['year','RCAcpt'], ascending=False)"
      ],
      "execution_count": 35,
      "outputs": [
        {
          "output_type": "execute_result",
          "data": {
            "text/html": [
              "<div>\n",
              "<style scoped>\n",
              "    .dataframe tbody tr th:only-of-type {\n",
              "        vertical-align: middle;\n",
              "    }\n",
              "\n",
              "    .dataframe tbody tr th {\n",
              "        vertical-align: top;\n",
              "    }\n",
              "\n",
              "    .dataframe thead th {\n",
              "        text-align: right;\n",
              "    }\n",
              "</style>\n",
              "<table border=\"1\" class=\"dataframe\">\n",
              "  <thead>\n",
              "    <tr style=\"text-align: right;\">\n",
              "      <th></th>\n",
              "      <th>year</th>\n",
              "      <th>country_name</th>\n",
              "      <th>product_name</th>\n",
              "      <th>export_value</th>\n",
              "      <th>RCAcpt</th>\n",
              "      <th>Mcp</th>\n",
              "    </tr>\n",
              "  </thead>\n",
              "  <tbody>\n",
              "    <tr>\n",
              "      <th>7518739</th>\n",
              "      <td>2020</td>\n",
              "      <td>Anguilla</td>\n",
              "      <td>Lead; plates, sheets, strip and foil, lead powders and flakes</td>\n",
              "      <td>2146256.00</td>\n",
              "      <td>20973.04</td>\n",
              "      <td>1</td>\n",
              "    </tr>\n",
              "    <tr>\n",
              "      <th>7568830</th>\n",
              "      <td>2020</td>\n",
              "      <td>Comoros</td>\n",
              "      <td>Cloves; (whole fruit, cloves and stems)</td>\n",
              "      <td>17140862.00</td>\n",
              "      <td>16496.34</td>\n",
              "      <td>1</td>\n",
              "    </tr>\n",
              "    <tr>\n",
              "      <th>7717340</th>\n",
              "      <td>2020</td>\n",
              "      <td>French Polynesia</td>\n",
              "      <td>Pearls; natural or cultured, whether or not worked or graded but not strung, mounted or set; ungraded pearls, natural or cultured, temporarily strung for convenience of transport</td>\n",
              "      <td>24010362.00</td>\n",
              "      <td>14899.72</td>\n",
              "      <td>1</td>\n",
              "    </tr>\n",
              "    <tr>\n",
              "      <th>7756330</th>\n",
              "      <td>2020</td>\n",
              "      <td>Tonga</td>\n",
              "      <td>Coral and similar materials, unworked or simply prepared, shells of molluscs, crustaceans or echinoderms and cuttle-bone, not cut to shape powder and waste thereof</td>\n",
              "      <td>809310.00</td>\n",
              "      <td>11043.86</td>\n",
              "      <td>1</td>\n",
              "    </tr>\n",
              "    <tr>\n",
              "      <th>7710233</th>\n",
              "      <td>2020</td>\n",
              "      <td>Palau</td>\n",
              "      <td>Vessels and other floating structures; for breaking up</td>\n",
              "      <td>7225117.00</td>\n",
              "      <td>10304.04</td>\n",
              "      <td>1</td>\n",
              "    </tr>\n",
              "    <tr>\n",
              "      <th>...</th>\n",
              "      <td>...</td>\n",
              "      <td>...</td>\n",
              "      <td>...</td>\n",
              "      <td>...</td>\n",
              "      <td>...</td>\n",
              "      <td>...</td>\n",
              "    </tr>\n",
              "    <tr>\n",
              "      <th>300559</th>\n",
              "      <td>1995</td>\n",
              "      <td>Saint Barthélemy</td>\n",
              "      <td>Sculptures and statuary; original, in any material</td>\n",
              "      <td>0.00</td>\n",
              "      <td>0.00</td>\n",
              "      <td>0</td>\n",
              "    </tr>\n",
              "    <tr>\n",
              "      <th>300560</th>\n",
              "      <td>1995</td>\n",
              "      <td>Saint Barthélemy</td>\n",
              "      <td>Stamps, postage or revenue; stamp-postmarks, first-day covers, postal stationery (stamped paper) and like, used, or if unused not of current or new issue in the country to which they are destined</td>\n",
              "      <td>0.00</td>\n",
              "      <td>0.00</td>\n",
              "      <td>0</td>\n",
              "    </tr>\n",
              "    <tr>\n",
              "      <th>300561</th>\n",
              "      <td>1995</td>\n",
              "      <td>Saint Barthélemy</td>\n",
              "      <td>Collections and collectors' pieces; of zoological, botanical, mineralogical, anatomical, historical, archaeological, palaeontological, ethnographic or numismatic interest</td>\n",
              "      <td>0.00</td>\n",
              "      <td>0.00</td>\n",
              "      <td>0</td>\n",
              "    </tr>\n",
              "    <tr>\n",
              "      <th>300562</th>\n",
              "      <td>1995</td>\n",
              "      <td>Saint Barthélemy</td>\n",
              "      <td>Antiques; of an age exceeding one hundred years</td>\n",
              "      <td>0.00</td>\n",
              "      <td>0.00</td>\n",
              "      <td>0</td>\n",
              "    </tr>\n",
              "    <tr>\n",
              "      <th>300563</th>\n",
              "      <td>1995</td>\n",
              "      <td>Saint Barthélemy</td>\n",
              "      <td>Commodities not specified according to kind</td>\n",
              "      <td>0.00</td>\n",
              "      <td>0.00</td>\n",
              "      <td>0</td>\n",
              "    </tr>\n",
              "  </tbody>\n",
              "</table>\n",
              "<p>7814664 rows × 6 columns</p>\n",
              "</div>"
            ],
            "text/plain": [
              "         year      country_name                                                                                                                                                                                         product_name  export_value   RCAcpt  Mcp\n",
              "7518739  2020          Anguilla                                                                                                                                        Lead; plates, sheets, strip and foil, lead powders and flakes    2146256.00 20973.04    1\n",
              "7568830  2020           Comoros                                                                                                                                                              Cloves; (whole fruit, cloves and stems)   17140862.00 16496.34    1\n",
              "7717340  2020  French Polynesia                   Pearls; natural or cultured, whether or not worked or graded but not strung, mounted or set; ungraded pearls, natural or cultured, temporarily strung for convenience of transport   24010362.00 14899.72    1\n",
              "7756330  2020             Tonga                                  Coral and similar materials, unworked or simply prepared, shells of molluscs, crustaceans or echinoderms and cuttle-bone, not cut to shape powder and waste thereof     809310.00 11043.86    1\n",
              "7710233  2020             Palau                                                                                                                                               Vessels and other floating structures; for breaking up    7225117.00 10304.04    1\n",
              "...       ...               ...                                                                                                                                                                                                  ...           ...      ...  ...\n",
              "300559   1995  Saint Barthélemy                                                                                                                                                   Sculptures and statuary; original, in any material          0.00     0.00    0\n",
              "300560   1995  Saint Barthélemy  Stamps, postage or revenue; stamp-postmarks, first-day covers, postal stationery (stamped paper) and like, used, or if unused not of current or new issue in the country to which they are destined          0.00     0.00    0\n",
              "300561   1995  Saint Barthélemy                           Collections and collectors' pieces; of zoological, botanical, mineralogical, anatomical, historical, archaeological, palaeontological, ethnographic or numismatic interest          0.00     0.00    0\n",
              "300562   1995  Saint Barthélemy                                                                                                                                                      Antiques; of an age exceeding one hundred years          0.00     0.00    0\n",
              "300563   1995  Saint Barthélemy                                                                                                                                                          Commodities not specified according to kind          0.00     0.00    0\n",
              "\n",
              "[7814664 rows x 6 columns]"
            ]
          },
          "metadata": {},
          "execution_count": 35
        }
      ]
    },
    {
      "cell_type": "markdown",
      "metadata": {
        "id": "P34FhCZXCHcj"
      },
      "source": [
        "###A continuación, se procede a calcular la frecuencia con la que dos productos están presentes en los mismos países, utilizando el umbral de Mcp:\n",
        "\n",
        "\\begin{equation} \n",
        "C_{pp'} = \\sum \\limits_{c} M_{cp} M_{cp'}\n",
        "\\tag{1}\n",
        "\\end{equation}\n",
        "\n",
        "###Para obtener un valor exacto de la proximidad del producto, se requiere corregir estos números en función de la medida en que los productos están presentes en general en los flujos comerciales entre países. Para ello, Hidalgo et al. (2007), calculan la proximidad del producto de la siguiente manera, definiéndola como el mínimo de dos probabilidades condicionales:\n",
        "\n",
        "\\begin{equation}\n",
        "C_{ppt'}  = \\min \\left( \\frac{C_{pp'}}{C_{p}},\\frac{C_{pp'}}{C_{p'}} \\right)\n",
        "\\tag{2}\n",
        "\\end{equation}\n",
        "\n",
        "###Finalmente, la proximidad entre dos productos i y j se define como el mínimo de la probabilidad condicional de tener ventaja comparativa en uno de los dos, dado que se exporta el otro bien.Es decir,\n",
        "\n",
        "\n",
        "![](https://drive.google.com/uc?export=view&id=1jzeSlcQbEqRZFXbRBIV78Jv89A8WcoSV\n",
        ") \n"
      ]
    },
    {
      "cell_type": "code",
      "metadata": {
        "id": "7PCa-innV3zV"
      },
      "source": [
        "def calc_cppt(data,country_col,product_col):\n",
        "    \"\"\"\n",
        "    Función para el cálcula de las co-ocurrencias en los países\n",
        "    Retorna:\n",
        "        Dataframe con valores de co-ocurrencias para cada par de producto\n",
        "    \"\"\"\n",
        "\n",
        "    # Se crea combinaciones dentro del country_col (i.e. paises) por productos (i.e. products)\n",
        "    dft = (data.groupby(country_col)[product_col].apply(lambda x: pd.DataFrame(list(combinations(x,2))))\n",
        "            .reset_index(level=1, drop=True)\n",
        "            .reset_index())\n",
        "    dft.rename(columns={0:f'{product_col}_1'}, inplace=True)\n",
        "    dft.rename(columns={1:f'{product_col}_2'}, inplace=True)\n",
        "\n",
        "    # -- {product_col} 1 X {product_col} 2 == {product_col} 2 X {product_col} 1\n",
        "    dft2 = dft.copy()\n",
        "    dft2.rename(columns={f'{product_col}_1':f'{product_col}_2t'}, inplace=True)\n",
        "    dft2.rename(columns={f'{product_col}_2':f'{product_col}_1'}, inplace=True)\n",
        "    dft2.rename(columns={f'{product_col}_2t':f'{product_col}_2'}, inplace=True)\n",
        "    # -- add second half\n",
        "    dft3 = pd.concat([dft,dft2],axis=0,sort=False)\n",
        "\n",
        "    # retiro de diagonales en caso de que estén presentes\n",
        "    dft3 = dft3[ dft3[f'{product_col}_1'] != dft3[f'{product_col}_2'] ]\n",
        "\n",
        "    # se calcula la cantindad N veces que los {product_col}s ocurren simultáneamente\n",
        "    dft3['count'] = 1\n",
        "    dft3 = dft3.groupby([f'{product_col}_1',f'{product_col}_2'],as_index=False)['count'].sum()\n",
        "    dft3.rename(columns={f'count':f'Cpp'}, inplace=True)\n",
        "\n",
        "    # Calculo de Ubicuidad\n",
        "    df_ub = data.groupby(product_col,as_index=False)['Mcp'].sum()\n",
        "\n",
        "    # merge del calculo de ubicuidad en la matriz de cpp \n",
        "    df_ub.rename(columns={f'{product_col}':f'{product_col}_1'}, inplace=True)\n",
        "    dft3 = pd.merge(dft3,df_ub,how='left',on=f'{product_col}_1')\n",
        "\n",
        "    df_ub.rename(columns={f'{product_col}_1':f'{product_col}_2'}, inplace=True)\n",
        "    dft3 = pd.merge(dft3,df_ub,how='left',on=f'{product_col}_2')\n",
        "\n",
        "    # Toma el min de probabilidades condicionales\n",
        "    dft3['kpi'] = dft3['Cpp']/dft3['Mcp_x']\n",
        "    dft3['kpj'] = dft3['Cpp']/dft3['Mcp_y']\n",
        "    dft3['phi'] = dft3['kpi']\n",
        "    dft3.loc[dft3['kpj']<dft3['kpi'],'phi'] = dft3['kpj']\n",
        "    \n",
        "    return dft3\n",
        "\n"
      ],
      "execution_count": 84,
      "outputs": []
    },
    {
      "cell_type": "code",
      "metadata": {
        "id": "nVGlvalFG3Vi",
        "colab": {
          "base_uri": "https://localhost:8080/"
        },
        "outputId": "8195909f-fdef-41a6-b99f-9f17808dac6b"
      },
      "source": [
        "\n",
        "# Filtro la base para el año 2019\n",
        "dft = df_rca[df_rca['year']==2019].copy()\n",
        "\n",
        "# Se mantienen las combinaciones de país-producto donde Mcp == 1 ( RCAcp> 1)\n",
        "dft = dft[dft['Mcp']==1]\n",
        "\n",
        "# Se calcula cpp con la función df_cppt\n",
        "df_cppt = calc_cppt(dft,country_col='country_name',product_col='product_name')\n",
        "\n",
        "print('dataframe de productos co-ocurrentes y aproximados se encuentra listo')"
      ],
      "execution_count": 85,
      "outputs": [
        {
          "output_type": "stream",
          "name": "stdout",
          "text": [
            "dataframe de productos co-ocurrentes y aproximados se encuentra listo\n"
          ]
        }
      ]
    },
    {
      "cell_type": "code",
      "metadata": {
        "id": "FVJMaRsVccF7"
      },
      "source": [
        ""
      ],
      "execution_count": 64,
      "outputs": []
    },
    {
      "cell_type": "markdown",
      "metadata": {
        "id": "0y-7T-D_86TU"
      },
      "source": [
        "####Productos que co-ocurren más amenudo"
      ]
    },
    {
      "cell_type": "code",
      "metadata": {
        "colab": {
          "base_uri": "https://localhost:8080/",
          "height": 359
        },
        "id": "z2uMRVtk8ir9",
        "outputId": "d1e0d46f-0d93-4745-8794-cc9d96feadc9"
      },
      "source": [
        "\n",
        "## Se ordena el dataframe de acuerdo a los valores de Cpp\n",
        "df_cppt.sort_values(by=['Cpp'],ascending=False)[0:10]"
      ],
      "execution_count": 81,
      "outputs": [
        {
          "output_type": "execute_result",
          "data": {
            "text/html": [
              "<div>\n",
              "<style scoped>\n",
              "    .dataframe tbody tr th:only-of-type {\n",
              "        vertical-align: middle;\n",
              "    }\n",
              "\n",
              "    .dataframe tbody tr th {\n",
              "        vertical-align: top;\n",
              "    }\n",
              "\n",
              "    .dataframe thead th {\n",
              "        text-align: right;\n",
              "    }\n",
              "</style>\n",
              "<table border=\"1\" class=\"dataframe\">\n",
              "  <thead>\n",
              "    <tr style=\"text-align: right;\">\n",
              "      <th></th>\n",
              "      <th>product_name_1</th>\n",
              "      <th>product_name_2</th>\n",
              "      <th>Cpp</th>\n",
              "      <th>Mcp_x</th>\n",
              "      <th>Mcp_y</th>\n",
              "      <th>kpi</th>\n",
              "      <th>kpj</th>\n",
              "      <th>phi</th>\n",
              "    </tr>\n",
              "  </thead>\n",
              "  <tbody>\n",
              "    <tr>\n",
              "      <th>53711</th>\n",
              "      <td>Aluminium; waste and scrap</td>\n",
              "      <td>Copper; waste and scrap</td>\n",
              "      <td>81</td>\n",
              "      <td>108</td>\n",
              "      <td>112</td>\n",
              "      <td>0.75</td>\n",
              "      <td>0.72</td>\n",
              "      <td>0.72</td>\n",
              "    </tr>\n",
              "    <tr>\n",
              "      <th>313981</th>\n",
              "      <td>Copper; waste and scrap</td>\n",
              "      <td>Aluminium; waste and scrap</td>\n",
              "      <td>81</td>\n",
              "      <td>112</td>\n",
              "      <td>108</td>\n",
              "      <td>0.72</td>\n",
              "      <td>0.75</td>\n",
              "      <td>0.72</td>\n",
              "    </tr>\n",
              "    <tr>\n",
              "      <th>53797</th>\n",
              "      <td>Aluminium; waste and scrap</td>\n",
              "      <td>Ferrous waste and scrap; remelting scrap ingots of iron or steel</td>\n",
              "      <td>78</td>\n",
              "      <td>108</td>\n",
              "      <td>104</td>\n",
              "      <td>0.72</td>\n",
              "      <td>0.75</td>\n",
              "      <td>0.72</td>\n",
              "    </tr>\n",
              "    <tr>\n",
              "      <th>413369</th>\n",
              "      <td>Ferrous waste and scrap; remelting scrap ingots of iron or steel</td>\n",
              "      <td>Aluminium; waste and scrap</td>\n",
              "      <td>78</td>\n",
              "      <td>104</td>\n",
              "      <td>108</td>\n",
              "      <td>0.75</td>\n",
              "      <td>0.72</td>\n",
              "      <td>0.72</td>\n",
              "    </tr>\n",
              "    <tr>\n",
              "      <th>314292</th>\n",
              "      <td>Copper; waste and scrap</td>\n",
              "      <td>Ferrous waste and scrap; remelting scrap ingots of iron or steel</td>\n",
              "      <td>74</td>\n",
              "      <td>112</td>\n",
              "      <td>104</td>\n",
              "      <td>0.66</td>\n",
              "      <td>0.71</td>\n",
              "      <td>0.66</td>\n",
              "    </tr>\n",
              "    <tr>\n",
              "      <th>413595</th>\n",
              "      <td>Ferrous waste and scrap; remelting scrap ingots of iron or steel</td>\n",
              "      <td>Copper; waste and scrap</td>\n",
              "      <td>74</td>\n",
              "      <td>104</td>\n",
              "      <td>112</td>\n",
              "      <td>0.71</td>\n",
              "      <td>0.66</td>\n",
              "      <td>0.66</td>\n",
              "    </tr>\n",
              "    <tr>\n",
              "      <th>315072</th>\n",
              "      <td>Copper; waste and scrap</td>\n",
              "      <td>Waste, parings and scrap, of plastics</td>\n",
              "      <td>55</td>\n",
              "      <td>112</td>\n",
              "      <td>76</td>\n",
              "      <td>0.49</td>\n",
              "      <td>0.72</td>\n",
              "      <td>0.49</td>\n",
              "    </tr>\n",
              "    <tr>\n",
              "      <th>1316427</th>\n",
              "      <td>Waste, parings and scrap, of plastics</td>\n",
              "      <td>Copper; waste and scrap</td>\n",
              "      <td>55</td>\n",
              "      <td>76</td>\n",
              "      <td>112</td>\n",
              "      <td>0.72</td>\n",
              "      <td>0.49</td>\n",
              "      <td>0.49</td>\n",
              "    </tr>\n",
              "    <tr>\n",
              "      <th>414460</th>\n",
              "      <td>Ferrous waste and scrap; remelting scrap ingots of iron or steel</td>\n",
              "      <td>Waste, parings and scrap, of plastics</td>\n",
              "      <td>51</td>\n",
              "      <td>104</td>\n",
              "      <td>76</td>\n",
              "      <td>0.49</td>\n",
              "      <td>0.67</td>\n",
              "      <td>0.49</td>\n",
              "    </tr>\n",
              "    <tr>\n",
              "      <th>314731</th>\n",
              "      <td>Copper; waste and scrap</td>\n",
              "      <td>Plastic articles for the conveyance or packing of goods; stoppers, lids, caps and other closures of plastics</td>\n",
              "      <td>51</td>\n",
              "      <td>112</td>\n",
              "      <td>65</td>\n",
              "      <td>0.46</td>\n",
              "      <td>0.78</td>\n",
              "      <td>0.46</td>\n",
              "    </tr>\n",
              "  </tbody>\n",
              "</table>\n",
              "</div>"
            ],
            "text/plain": [
              "                                                           product_name_1                                                                                                product_name_2  Cpp  Mcp_x  Mcp_y  kpi  kpj  phi\n",
              "53711                                          Aluminium; waste and scrap                                                                                       Copper; waste and scrap   81    108    112 0.75 0.72 0.72\n",
              "313981                                            Copper; waste and scrap                                                                                    Aluminium; waste and scrap   81    112    108 0.72 0.75 0.72\n",
              "53797                                          Aluminium; waste and scrap                                              Ferrous waste and scrap; remelting scrap ingots of iron or steel   78    108    104 0.72 0.75 0.72\n",
              "413369   Ferrous waste and scrap; remelting scrap ingots of iron or steel                                                                                    Aluminium; waste and scrap   78    104    108 0.75 0.72 0.72\n",
              "314292                                            Copper; waste and scrap                                              Ferrous waste and scrap; remelting scrap ingots of iron or steel   74    112    104 0.66 0.71 0.66\n",
              "413595   Ferrous waste and scrap; remelting scrap ingots of iron or steel                                                                                       Copper; waste and scrap   74    104    112 0.71 0.66 0.66\n",
              "315072                                            Copper; waste and scrap                                                                         Waste, parings and scrap, of plastics   55    112     76 0.49 0.72 0.49\n",
              "1316427                             Waste, parings and scrap, of plastics                                                                                       Copper; waste and scrap   55     76    112 0.72 0.49 0.49\n",
              "414460   Ferrous waste and scrap; remelting scrap ingots of iron or steel                                                                         Waste, parings and scrap, of plastics   51    104     76 0.49 0.67 0.49\n",
              "314731                                            Copper; waste and scrap  Plastic articles for the conveyance or packing of goods; stoppers, lids, caps and other closures of plastics   51    112     65 0.46 0.78 0.46"
            ]
          },
          "metadata": {},
          "execution_count": 81
        }
      ]
    },
    {
      "cell_type": "markdown",
      "metadata": {
        "id": "0JsjzekIG2vt"
      },
      "source": [
        "### Los productos más próximos"
      ]
    },
    {
      "cell_type": "code",
      "metadata": {
        "colab": {
          "base_uri": "https://localhost:8080/",
          "height": 359
        },
        "id": "wLpbF5288i-a",
        "outputId": "3289fb61-0977-48e7-d13a-063932570e2b"
      },
      "source": [
        "## Se ordena el dataframe de acuerdo a los valores de phi que refiere al min de probabilidades condicionales\n",
        "\n",
        "df_cppt.sort_values(by=['phi'],ascending=False)[0:10]"
      ],
      "execution_count": 82,
      "outputs": [
        {
          "output_type": "execute_result",
          "data": {
            "text/html": [
              "<div>\n",
              "<style scoped>\n",
              "    .dataframe tbody tr th:only-of-type {\n",
              "        vertical-align: middle;\n",
              "    }\n",
              "\n",
              "    .dataframe tbody tr th {\n",
              "        vertical-align: top;\n",
              "    }\n",
              "\n",
              "    .dataframe thead th {\n",
              "        text-align: right;\n",
              "    }\n",
              "</style>\n",
              "<table border=\"1\" class=\"dataframe\">\n",
              "  <thead>\n",
              "    <tr style=\"text-align: right;\">\n",
              "      <th></th>\n",
              "      <th>product_name_1</th>\n",
              "      <th>product_name_2</th>\n",
              "      <th>Cpp</th>\n",
              "      <th>Mcp_x</th>\n",
              "      <th>Mcp_y</th>\n",
              "      <th>kpi</th>\n",
              "      <th>kpj</th>\n",
              "      <th>phi</th>\n",
              "    </tr>\n",
              "  </thead>\n",
              "  <tbody>\n",
              "    <tr>\n",
              "      <th>134171</th>\n",
              "      <td>Blouses, shirts and shirt-blouses; women's or girls', knitted or crocheted</td>\n",
              "      <td>Suits, ensembles, jackets, dresses, skirts, divided skirts, trousers, bib and brace overalls, breeches and shorts (not swimwear), women's or girls', knitted or crocheted</td>\n",
              "      <td>41</td>\n",
              "      <td>48</td>\n",
              "      <td>46</td>\n",
              "      <td>0.85</td>\n",
              "      <td>0.89</td>\n",
              "      <td>0.85</td>\n",
              "    </tr>\n",
              "    <tr>\n",
              "      <th>1125956</th>\n",
              "      <td>Suits, ensembles, jackets, dresses, skirts, divided skirts, trousers, bib and brace overalls, breeches and shorts (not swimwear), women's or girls', knitted or crocheted</td>\n",
              "      <td>Blouses, shirts and shirt-blouses; women's or girls', knitted or crocheted</td>\n",
              "      <td>41</td>\n",
              "      <td>46</td>\n",
              "      <td>48</td>\n",
              "      <td>0.89</td>\n",
              "      <td>0.85</td>\n",
              "      <td>0.85</td>\n",
              "    </tr>\n",
              "    <tr>\n",
              "      <th>1128003</th>\n",
              "      <td>Suits, ensembles, jackets, dresses, skirts, divided skirts, trousers, bib and brace overalls, breeches and shorts (other than swimwear); women's or girls' (not knitted or crocheted)</td>\n",
              "      <td>Suits, ensembles, jackets, dresses, skirts, divided skirts, trousers, bib and brace overalls, breeches and shorts (not swimwear), women's or girls', knitted or crocheted</td>\n",
              "      <td>40</td>\n",
              "      <td>47</td>\n",
              "      <td>46</td>\n",
              "      <td>0.85</td>\n",
              "      <td>0.87</td>\n",
              "      <td>0.85</td>\n",
              "    </tr>\n",
              "    <tr>\n",
              "      <th>1126800</th>\n",
              "      <td>Suits, ensembles, jackets, dresses, skirts, divided skirts, trousers, bib and brace overalls, breeches and shorts (not swimwear), women's or girls', knitted or crocheted</td>\n",
              "      <td>Suits, ensembles, jackets, dresses, skirts, divided skirts, trousers, bib and brace overalls, breeches and shorts (other than swimwear); women's or girls' (not knitted or crocheted)</td>\n",
              "      <td>40</td>\n",
              "      <td>46</td>\n",
              "      <td>47</td>\n",
              "      <td>0.87</td>\n",
              "      <td>0.85</td>\n",
              "      <td>0.85</td>\n",
              "    </tr>\n",
              "    <tr>\n",
              "      <th>1125546</th>\n",
              "      <td>Suits, ensembles, jackets, blazers, trousers, bib and brace overalls, breeches, shorts (not swimwear); men's or boys', knitted or crocheted</td>\n",
              "      <td>Shirts; men's or boys', knitted or crocheted</td>\n",
              "      <td>38</td>\n",
              "      <td>45</td>\n",
              "      <td>44</td>\n",
              "      <td>0.84</td>\n",
              "      <td>0.86</td>\n",
              "      <td>0.84</td>\n",
              "    </tr>\n",
              "    <tr>\n",
              "      <th>1058851</th>\n",
              "      <td>Shirts; men's or boys', knitted or crocheted</td>\n",
              "      <td>Suits, ensembles, jackets, blazers, trousers, bib and brace overalls, breeches, shorts (not swimwear); men's or boys', knitted or crocheted</td>\n",
              "      <td>38</td>\n",
              "      <td>44</td>\n",
              "      <td>45</td>\n",
              "      <td>0.86</td>\n",
              "      <td>0.84</td>\n",
              "      <td>0.84</td>\n",
              "    </tr>\n",
              "    <tr>\n",
              "      <th>1127153</th>\n",
              "      <td>Suits, ensembles, jackets, dresses, skirts, divided skirts, trousers, bib and brace overalls, breeches and shorts (other than swimwear); women's or girls' (not knitted or crocheted)</td>\n",
              "      <td>Blouses, shirts and shirt-blouses; women's or girls', knitted or crocheted</td>\n",
              "      <td>39</td>\n",
              "      <td>47</td>\n",
              "      <td>48</td>\n",
              "      <td>0.83</td>\n",
              "      <td>0.81</td>\n",
              "      <td>0.81</td>\n",
              "    </tr>\n",
              "    <tr>\n",
              "      <th>134172</th>\n",
              "      <td>Blouses, shirts and shirt-blouses; women's or girls', knitted or crocheted</td>\n",
              "      <td>Suits, ensembles, jackets, dresses, skirts, divided skirts, trousers, bib and brace overalls, breeches and shorts (other than swimwear); women's or girls' (not knitted or crocheted)</td>\n",
              "      <td>39</td>\n",
              "      <td>48</td>\n",
              "      <td>47</td>\n",
              "      <td>0.81</td>\n",
              "      <td>0.83</td>\n",
              "      <td>0.81</td>\n",
              "    </tr>\n",
              "    <tr>\n",
              "      <th>111260</th>\n",
              "      <td>Barley</td>\n",
              "      <td>Wheat and meslin</td>\n",
              "      <td>17</td>\n",
              "      <td>21</td>\n",
              "      <td>20</td>\n",
              "      <td>0.81</td>\n",
              "      <td>0.85</td>\n",
              "      <td>0.81</td>\n",
              "    </tr>\n",
              "    <tr>\n",
              "      <th>1327724</th>\n",
              "      <td>Wheat and meslin</td>\n",
              "      <td>Barley</td>\n",
              "      <td>17</td>\n",
              "      <td>20</td>\n",
              "      <td>21</td>\n",
              "      <td>0.85</td>\n",
              "      <td>0.81</td>\n",
              "      <td>0.81</td>\n",
              "    </tr>\n",
              "  </tbody>\n",
              "</table>\n",
              "</div>"
            ],
            "text/plain": [
              "                                                                                                                                                                                product_name_1                                                                                                                                                                         product_name_2  Cpp  Mcp_x  Mcp_y  kpi  kpj  phi\n",
              "134171                                                                                                              Blouses, shirts and shirt-blouses; women's or girls', knitted or crocheted              Suits, ensembles, jackets, dresses, skirts, divided skirts, trousers, bib and brace overalls, breeches and shorts (not swimwear), women's or girls', knitted or crocheted   41     48     46 0.85 0.89 0.85\n",
              "1125956              Suits, ensembles, jackets, dresses, skirts, divided skirts, trousers, bib and brace overalls, breeches and shorts (not swimwear), women's or girls', knitted or crocheted                                                                                                             Blouses, shirts and shirt-blouses; women's or girls', knitted or crocheted   41     46     48 0.89 0.85 0.85\n",
              "1128003  Suits, ensembles, jackets, dresses, skirts, divided skirts, trousers, bib and brace overalls, breeches and shorts (other than swimwear); women's or girls' (not knitted or crocheted)              Suits, ensembles, jackets, dresses, skirts, divided skirts, trousers, bib and brace overalls, breeches and shorts (not swimwear), women's or girls', knitted or crocheted   40     47     46 0.85 0.87 0.85\n",
              "1126800              Suits, ensembles, jackets, dresses, skirts, divided skirts, trousers, bib and brace overalls, breeches and shorts (not swimwear), women's or girls', knitted or crocheted  Suits, ensembles, jackets, dresses, skirts, divided skirts, trousers, bib and brace overalls, breeches and shorts (other than swimwear); women's or girls' (not knitted or crocheted)   40     46     47 0.87 0.85 0.85\n",
              "1125546                                            Suits, ensembles, jackets, blazers, trousers, bib and brace overalls, breeches, shorts (not swimwear); men's or boys', knitted or crocheted                                                                                                                                           Shirts; men's or boys', knitted or crocheted   38     45     44 0.84 0.86 0.84\n",
              "1058851                                                                                                                                           Shirts; men's or boys', knitted or crocheted                                            Suits, ensembles, jackets, blazers, trousers, bib and brace overalls, breeches, shorts (not swimwear); men's or boys', knitted or crocheted   38     44     45 0.86 0.84 0.84\n",
              "1127153  Suits, ensembles, jackets, dresses, skirts, divided skirts, trousers, bib and brace overalls, breeches and shorts (other than swimwear); women's or girls' (not knitted or crocheted)                                                                                                             Blouses, shirts and shirt-blouses; women's or girls', knitted or crocheted   39     47     48 0.83 0.81 0.81\n",
              "134172                                                                                                              Blouses, shirts and shirt-blouses; women's or girls', knitted or crocheted  Suits, ensembles, jackets, dresses, skirts, divided skirts, trousers, bib and brace overalls, breeches and shorts (other than swimwear); women's or girls' (not knitted or crocheted)   39     48     47 0.81 0.83 0.81\n",
              "111260                                                                                                                                                                                  Barley                                                                                                                                                                       Wheat and meslin   17     21     20 0.81 0.85 0.81\n",
              "1327724                                                                                                                                                                       Wheat and meslin                                                                                                                                                                                 Barley   17     20     21 0.85 0.81 0.81"
            ]
          },
          "metadata": {},
          "execution_count": 82
        }
      ]
    },
    {
      "cell_type": "markdown",
      "metadata": {
        "id": "mnxwEx8HjIre"
      },
      "source": [
        "###**¿Qué producto está más relacionado al producto:\"Meat of horses, asses, mules or hinnies; fresh, chilled or frozen\"**"
      ]
    },
    {
      "cell_type": "code",
      "metadata": {
        "colab": {
          "base_uri": "https://localhost:8080/",
          "height": 80
        },
        "id": "o-xCCSS7jA3h",
        "outputId": "bd152707-51fb-41f7-f301-633350849908"
      },
      "source": [
        "PRODUCT = 'Meat of horses, asses, mules or hinnies; fresh, chilled or frozen'\n",
        "# select only this product\n",
        "dft = df_cppt[df_cppt['product_name_1']==PRODUCT].copy()\n",
        "# sort from high to low on phi\n",
        "dft.sort_values(by=['phi'],ascending=False,inplace=True)\n",
        "# show only first row\n",
        "dft[0:1]"
      ],
      "execution_count": 86,
      "outputs": [
        {
          "output_type": "execute_result",
          "data": {
            "text/html": [
              "<div>\n",
              "<style scoped>\n",
              "    .dataframe tbody tr th:only-of-type {\n",
              "        vertical-align: middle;\n",
              "    }\n",
              "\n",
              "    .dataframe tbody tr th {\n",
              "        vertical-align: top;\n",
              "    }\n",
              "\n",
              "    .dataframe thead th {\n",
              "        text-align: right;\n",
              "    }\n",
              "</style>\n",
              "<table border=\"1\" class=\"dataframe\">\n",
              "  <thead>\n",
              "    <tr style=\"text-align: right;\">\n",
              "      <th></th>\n",
              "      <th>product_name_1</th>\n",
              "      <th>product_name_2</th>\n",
              "      <th>Cpp</th>\n",
              "      <th>Mcp_x</th>\n",
              "      <th>Mcp_y</th>\n",
              "      <th>kpi</th>\n",
              "      <th>kpj</th>\n",
              "      <th>phi</th>\n",
              "    </tr>\n",
              "  </thead>\n",
              "  <tbody>\n",
              "    <tr>\n",
              "      <th>731681</th>\n",
              "      <td>Meat of horses, asses, mules or hinnies; fresh, chilled or frozen</td>\n",
              "      <td>Rape or colza seeds; whether or not broken</td>\n",
              "      <td>12</td>\n",
              "      <td>24</td>\n",
              "      <td>22</td>\n",
              "      <td>0.50</td>\n",
              "      <td>0.55</td>\n",
              "      <td>0.50</td>\n",
              "    </tr>\n",
              "  </tbody>\n",
              "</table>\n",
              "</div>"
            ],
            "text/plain": [
              "                                                           product_name_1                              product_name_2  Cpp  Mcp_x  Mcp_y  kpi  kpj  phi\n",
              "731681  Meat of horses, asses, mules or hinnies; fresh, chilled or frozen  Rape or colza seeds; whether or not broken   12     24     22 0.50 0.55 0.50"
            ]
          },
          "metadata": {},
          "execution_count": 86
        }
      ]
    },
    {
      "cell_type": "markdown",
      "metadata": {
        "id": "FgkpGRDGi8XO"
      },
      "source": [
        "##**ESPACIO DE PRODUCTOS**"
      ]
    },
    {
      "cell_type": "markdown",
      "metadata": {
        "id": "UI1AJEfBfYhD"
      },
      "source": [
        "## The Product Space Conditions the Development of Nations (C. A. HIDALGO, B.KLINGERA.-L. BARABÁSIAND R. HAUSMANN)\n",
        "\n",
        "### Para la construcción del gráfico del Espacio de Productos, la matriz de proximidad se simplifica, extrayendo aquellas conexiones más importantes y que permiten mantener todos los nodos del grafo conectados, utilizando como en Hidalgo et al. (2007) un algoritmo de MaximumSpanningTree, y agregando a este las principales n conexiones adicionales, donde n es el número de nodos (productos).\n",
        "\n",
        "![](https://drive.google.com/uc?export=view&id=1YuGs1Y2oNIm9nTa8W1hRtdPXKuTlZ_qZ\n",
        ")\n",
        "\n",
        "\n"
      ]
    },
    {
      "cell_type": "markdown",
      "metadata": {
        "id": "n7T8k5Pxi3v3"
      },
      "source": [
        "**Cada nodo es un producto:**\n",
        "\n",
        "Para posicionarlos en el espacio del producto, Hidalgo et al. (2007) utilizaron un algoritmo MaximumSpanningTree (que coloca los nodos de tal manera que haya la menor cantidad posible de lazos cruzados, utilizando simulaciones físicas con algoritmos dirigidos por la fuerza), seguido de la elaboración a mano del resultado para separar visualmente distintos ' agrupaciones de productos.\n",
        "\n",
        "**Tamaño de los nodos:**\n",
        "\n",
        "El tamaño en el espacio del producto representa el $ total en el comercio mundial, pero también se pueden usar otros atributos de los nodos (por ejemplo, si los nodos son industrias, el tamaño podría ser el empleo total).\n",
        "\n",
        "**Color de los nodos**\n",
        "\n",
        "En el espacio de productos, el color del nodo representa los principales grupos de productos (por ejemplo, agricultura, productos químicos) siguiendo la clasificación de Leamer."
      ]
    },
    {
      "cell_type": "code",
      "metadata": {
        "id": "KXJpSwlybWDO"
      },
      "source": [
        "\n"
      ],
      "execution_count": null,
      "outputs": []
    }
  ]
}