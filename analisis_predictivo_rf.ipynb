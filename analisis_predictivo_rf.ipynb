{
  "nbformat": 4,
  "nbformat_minor": 0,
  "metadata": {
    "colab": {
      "name": "analisis_predictivo_rf.ipynb",
      "provenance": [],
      "authorship_tag": "ABX9TyPWCUhwxP6Us07tkTBLJ7Yu",
      "include_colab_link": true
    },
    "kernelspec": {
      "name": "python3",
      "display_name": "Python 3"
    },
    "language_info": {
      "name": "python"
    }
  },
  "cells": [
    {
      "cell_type": "markdown",
      "metadata": {
        "id": "view-in-github",
        "colab_type": "text"
      },
      "source": [
        "<a href=\"https://colab.research.google.com/github/descandon88/Analisis-de-Redes/blob/main/analisis_predictivo_rf.ipynb\" target=\"_parent\"><img src=\"https://colab.research.google.com/assets/colab-badge.svg\" alt=\"Open In Colab\"/></a>"
      ]
    },
    {
      "cell_type": "code",
      "metadata": {
        "id": "4BJklMpnqLf0"
      },
      "source": [
        "import pandas as pd\n",
        "import numpy as np\n",
        "from sklearn.impute import SimpleImputer\n",
        "from sklearn.compose import ColumnTransformer\n",
        "from sklearn.preprocessing import OneHotEncoder\n",
        "from sklearn.preprocessing import LabelEncoder\n",
        "from sklearn.ensemble import RandomForestRegressor\n",
        "from sklearn.datasets import make_regression\n",
        "import seaborn as sns\n",
        "\n",
        "from sklearn.model_selection import train_test_split\n",
        "import matplotlib.pyplot as plt \n",
        "from matplotlib.lines import Line2D\n",
        "from scipy.stats import pearsonr\n",
        "\n",
        "from sklearn import metrics\n",
        "from sklearn.metrics import accuracy_score\n",
        "\n",
        "import seaborn as sns; sns.set()\n",
        "from sklearn.datasets import make_blobs"
      ],
      "execution_count": null,
      "outputs": []
    },
    {
      "cell_type": "code",
      "metadata": {
        "id": "wb81wMWgqWYZ",
        "colab": {
          "base_uri": "https://localhost:8080/"
        },
        "outputId": "34dc1b22-bd07-4a35-b58a-b61bafa0362f"
      },
      "source": [
        "from google.colab import drive\n",
        "drive.mount(\"/content/drive\")\n",
        "print(\"conexión con drive listo!\")"
      ],
      "execution_count": null,
      "outputs": [
        {
          "output_type": "stream",
          "name": "stdout",
          "text": [
            "Drive already mounted at /content/drive; to attempt to forcibly remount, call drive.mount(\"/content/drive\", force_remount=True).\n",
            "conexión con drive listo!\n"
          ]
        }
      ]
    },
    {
      "cell_type": "markdown",
      "metadata": {
        "id": "0El43079F6RQ"
      },
      "source": [
        "####Traemos las bases de Complejidad Económica que obtuvimos en el blog de notas anterior"
      ]
    },
    {
      "cell_type": "code",
      "metadata": {
        "id": "MRL9bDUgqfPR"
      },
      "source": [
        "df_pci = pd.read_csv(\"/content/drive/MyDrive/eci/base/df_pci.csv\")\n",
        "df_location= pd.read_csv(\"/content/drive/MyDrive/eci/base/df_updated.csv\")\n",
        "df_country_code= pd.read_csv(\"/content/drive/MyDrive/eci/base/df_country_code.csv\")\n"
      ],
      "execution_count": null,
      "outputs": []
    },
    {
      "cell_type": "code",
      "metadata": {
        "colab": {
          "base_uri": "https://localhost:8080/",
          "height": 224
        },
        "id": "oGe9IS2kJEGf",
        "outputId": "da1f0e56-cb99-4f79-bfd2-22a1f3839f4d"
      },
      "source": [
        "result_pci_country_code = pd.merge(df_country_code, df_pci , on=\"country_name\")\n",
        "df_new = result_pci_country_code.copy()\n",
        "column_names = [\"location_id\", \"country_code\", \"country_name\",\"product_code\",\"export_value\",\"year\",\"eci\",\"pci\"]\n",
        "print(\"Se reordenan el orden de las columnas\")\n",
        "\n",
        "df_c = df_new.reindex(columns=column_names)\n",
        "df_c.head()"
      ],
      "execution_count": null,
      "outputs": [
        {
          "output_type": "stream",
          "name": "stdout",
          "text": [
            "Se reordenan el orden de las columnas\n"
          ]
        },
        {
          "output_type": "execute_result",
          "data": {
            "text/html": [
              "<div>\n",
              "<style scoped>\n",
              "    .dataframe tbody tr th:only-of-type {\n",
              "        vertical-align: middle;\n",
              "    }\n",
              "\n",
              "    .dataframe tbody tr th {\n",
              "        vertical-align: top;\n",
              "    }\n",
              "\n",
              "    .dataframe thead th {\n",
              "        text-align: right;\n",
              "    }\n",
              "</style>\n",
              "<table border=\"1\" class=\"dataframe\">\n",
              "  <thead>\n",
              "    <tr style=\"text-align: right;\">\n",
              "      <th></th>\n",
              "      <th>location_id</th>\n",
              "      <th>country_code</th>\n",
              "      <th>country_name</th>\n",
              "      <th>product_code</th>\n",
              "      <th>export_value</th>\n",
              "      <th>year</th>\n",
              "      <th>eci</th>\n",
              "      <th>pci</th>\n",
              "    </tr>\n",
              "  </thead>\n",
              "  <tbody>\n",
              "    <tr>\n",
              "      <th>0</th>\n",
              "      <td>0</td>\n",
              "      <td>ABW</td>\n",
              "      <td>Aruba</td>\n",
              "      <td>6805</td>\n",
              "      <td>0</td>\n",
              "      <td>1995</td>\n",
              "      <td>-0.149358</td>\n",
              "      <td>3.005267</td>\n",
              "    </tr>\n",
              "    <tr>\n",
              "      <th>1</th>\n",
              "      <td>0</td>\n",
              "      <td>ABW</td>\n",
              "      <td>Aruba</td>\n",
              "      <td>9204</td>\n",
              "      <td>0</td>\n",
              "      <td>1995</td>\n",
              "      <td>-0.149358</td>\n",
              "      <td>3.880273</td>\n",
              "    </tr>\n",
              "    <tr>\n",
              "      <th>2</th>\n",
              "      <td>0</td>\n",
              "      <td>ABW</td>\n",
              "      <td>Aruba</td>\n",
              "      <td>2911</td>\n",
              "      <td>0</td>\n",
              "      <td>1995</td>\n",
              "      <td>-0.149358</td>\n",
              "      <td>3.770268</td>\n",
              "    </tr>\n",
              "    <tr>\n",
              "      <th>3</th>\n",
              "      <td>0</td>\n",
              "      <td>ABW</td>\n",
              "      <td>Aruba</td>\n",
              "      <td>2918</td>\n",
              "      <td>0</td>\n",
              "      <td>1995</td>\n",
              "      <td>-0.149358</td>\n",
              "      <td>2.371247</td>\n",
              "    </tr>\n",
              "    <tr>\n",
              "      <th>4</th>\n",
              "      <td>0</td>\n",
              "      <td>ABW</td>\n",
              "      <td>Aruba</td>\n",
              "      <td>2917</td>\n",
              "      <td>0</td>\n",
              "      <td>1995</td>\n",
              "      <td>-0.149358</td>\n",
              "      <td>1.504703</td>\n",
              "    </tr>\n",
              "  </tbody>\n",
              "</table>\n",
              "</div>"
            ],
            "text/plain": [
              "   location_id country_code country_name  ...  year       eci       pci\n",
              "0            0          ABW        Aruba  ...  1995 -0.149358  3.005267\n",
              "1            0          ABW        Aruba  ...  1995 -0.149358  3.880273\n",
              "2            0          ABW        Aruba  ...  1995 -0.149358  3.770268\n",
              "3            0          ABW        Aruba  ...  1995 -0.149358  2.371247\n",
              "4            0          ABW        Aruba  ...  1995 -0.149358  1.504703\n",
              "\n",
              "[5 rows x 8 columns]"
            ]
          },
          "metadata": {},
          "execution_count": 11
        }
      ]
    },
    {
      "cell_type": "code",
      "metadata": {
        "id": "4IO3WgXhNY4Y",
        "colab": {
          "base_uri": "https://localhost:8080/",
          "height": 206
        },
        "outputId": "a71176c5-369e-41ca-8daa-19a8460564dd"
      },
      "source": [
        "df=df_c.copy()\n",
        "df.head()"
      ],
      "execution_count": null,
      "outputs": [
        {
          "output_type": "execute_result",
          "data": {
            "text/html": [
              "<div>\n",
              "<style scoped>\n",
              "    .dataframe tbody tr th:only-of-type {\n",
              "        vertical-align: middle;\n",
              "    }\n",
              "\n",
              "    .dataframe tbody tr th {\n",
              "        vertical-align: top;\n",
              "    }\n",
              "\n",
              "    .dataframe thead th {\n",
              "        text-align: right;\n",
              "    }\n",
              "</style>\n",
              "<table border=\"1\" class=\"dataframe\">\n",
              "  <thead>\n",
              "    <tr style=\"text-align: right;\">\n",
              "      <th></th>\n",
              "      <th>location_id</th>\n",
              "      <th>country_code</th>\n",
              "      <th>country_name</th>\n",
              "      <th>product_code</th>\n",
              "      <th>export_value</th>\n",
              "      <th>year</th>\n",
              "      <th>eci</th>\n",
              "      <th>pci</th>\n",
              "    </tr>\n",
              "  </thead>\n",
              "  <tbody>\n",
              "    <tr>\n",
              "      <th>0</th>\n",
              "      <td>0</td>\n",
              "      <td>ABW</td>\n",
              "      <td>Aruba</td>\n",
              "      <td>6805</td>\n",
              "      <td>0</td>\n",
              "      <td>1995</td>\n",
              "      <td>-0.149358</td>\n",
              "      <td>3.005267</td>\n",
              "    </tr>\n",
              "    <tr>\n",
              "      <th>1</th>\n",
              "      <td>0</td>\n",
              "      <td>ABW</td>\n",
              "      <td>Aruba</td>\n",
              "      <td>9204</td>\n",
              "      <td>0</td>\n",
              "      <td>1995</td>\n",
              "      <td>-0.149358</td>\n",
              "      <td>3.880273</td>\n",
              "    </tr>\n",
              "    <tr>\n",
              "      <th>2</th>\n",
              "      <td>0</td>\n",
              "      <td>ABW</td>\n",
              "      <td>Aruba</td>\n",
              "      <td>2911</td>\n",
              "      <td>0</td>\n",
              "      <td>1995</td>\n",
              "      <td>-0.149358</td>\n",
              "      <td>3.770268</td>\n",
              "    </tr>\n",
              "    <tr>\n",
              "      <th>3</th>\n",
              "      <td>0</td>\n",
              "      <td>ABW</td>\n",
              "      <td>Aruba</td>\n",
              "      <td>2918</td>\n",
              "      <td>0</td>\n",
              "      <td>1995</td>\n",
              "      <td>-0.149358</td>\n",
              "      <td>2.371247</td>\n",
              "    </tr>\n",
              "    <tr>\n",
              "      <th>4</th>\n",
              "      <td>0</td>\n",
              "      <td>ABW</td>\n",
              "      <td>Aruba</td>\n",
              "      <td>2917</td>\n",
              "      <td>0</td>\n",
              "      <td>1995</td>\n",
              "      <td>-0.149358</td>\n",
              "      <td>1.504703</td>\n",
              "    </tr>\n",
              "  </tbody>\n",
              "</table>\n",
              "</div>"
            ],
            "text/plain": [
              "   location_id country_code country_name  ...  year       eci       pci\n",
              "0            0          ABW        Aruba  ...  1995 -0.149358  3.005267\n",
              "1            0          ABW        Aruba  ...  1995 -0.149358  3.880273\n",
              "2            0          ABW        Aruba  ...  1995 -0.149358  3.770268\n",
              "3            0          ABW        Aruba  ...  1995 -0.149358  2.371247\n",
              "4            0          ABW        Aruba  ...  1995 -0.149358  1.504703\n",
              "\n",
              "[5 rows x 8 columns]"
            ]
          },
          "metadata": {},
          "execution_count": 12
        }
      ]
    },
    {
      "cell_type": "code",
      "metadata": {
        "id": "D9IEpmVuOGpz"
      },
      "source": [
        "df=df.drop(columns=['country_code', 'country_name'])\n",
        "df=df.sort_values(by=['location_id','product_code','year'])"
      ],
      "execution_count": null,
      "outputs": []
    },
    {
      "cell_type": "code",
      "metadata": {
        "colab": {
          "base_uri": "https://localhost:8080/",
          "height": 363
        },
        "id": "0rYMGFmoJsqk",
        "outputId": "4ba76c31-78fe-405a-b624-f93d3c961596"
      },
      "source": [
        "df.head(10)"
      ],
      "execution_count": null,
      "outputs": [
        {
          "output_type": "execute_result",
          "data": {
            "text/html": [
              "<div>\n",
              "<style scoped>\n",
              "    .dataframe tbody tr th:only-of-type {\n",
              "        vertical-align: middle;\n",
              "    }\n",
              "\n",
              "    .dataframe tbody tr th {\n",
              "        vertical-align: top;\n",
              "    }\n",
              "\n",
              "    .dataframe thead th {\n",
              "        text-align: right;\n",
              "    }\n",
              "</style>\n",
              "<table border=\"1\" class=\"dataframe\">\n",
              "  <thead>\n",
              "    <tr style=\"text-align: right;\">\n",
              "      <th></th>\n",
              "      <th>location_id</th>\n",
              "      <th>product_code</th>\n",
              "      <th>export_value</th>\n",
              "      <th>year</th>\n",
              "      <th>eci</th>\n",
              "      <th>pci</th>\n",
              "    </tr>\n",
              "  </thead>\n",
              "  <tbody>\n",
              "    <tr>\n",
              "      <th>490</th>\n",
              "      <td>0</td>\n",
              "      <td>101</td>\n",
              "      <td>18008</td>\n",
              "      <td>1995</td>\n",
              "      <td>-0.149358</td>\n",
              "      <td>1.204200</td>\n",
              "    </tr>\n",
              "    <tr>\n",
              "      <th>1731</th>\n",
              "      <td>0</td>\n",
              "      <td>101</td>\n",
              "      <td>0</td>\n",
              "      <td>1996</td>\n",
              "      <td>-0.376153</td>\n",
              "      <td>1.016136</td>\n",
              "    </tr>\n",
              "    <tr>\n",
              "      <th>2972</th>\n",
              "      <td>0</td>\n",
              "      <td>101</td>\n",
              "      <td>0</td>\n",
              "      <td>1997</td>\n",
              "      <td>-0.664343</td>\n",
              "      <td>1.118762</td>\n",
              "    </tr>\n",
              "    <tr>\n",
              "      <th>4213</th>\n",
              "      <td>0</td>\n",
              "      <td>101</td>\n",
              "      <td>0</td>\n",
              "      <td>1998</td>\n",
              "      <td>0.330030</td>\n",
              "      <td>1.180892</td>\n",
              "    </tr>\n",
              "    <tr>\n",
              "      <th>5454</th>\n",
              "      <td>0</td>\n",
              "      <td>101</td>\n",
              "      <td>14473</td>\n",
              "      <td>1999</td>\n",
              "      <td>0.006876</td>\n",
              "      <td>0.954775</td>\n",
              "    </tr>\n",
              "    <tr>\n",
              "      <th>6696</th>\n",
              "      <td>0</td>\n",
              "      <td>101</td>\n",
              "      <td>0</td>\n",
              "      <td>2000</td>\n",
              "      <td>0.312097</td>\n",
              "      <td>1.246471</td>\n",
              "    </tr>\n",
              "    <tr>\n",
              "      <th>7938</th>\n",
              "      <td>0</td>\n",
              "      <td>101</td>\n",
              "      <td>11249</td>\n",
              "      <td>2001</td>\n",
              "      <td>0.141701</td>\n",
              "      <td>1.019034</td>\n",
              "    </tr>\n",
              "    <tr>\n",
              "      <th>9180</th>\n",
              "      <td>0</td>\n",
              "      <td>101</td>\n",
              "      <td>9019</td>\n",
              "      <td>2002</td>\n",
              "      <td>-0.189418</td>\n",
              "      <td>1.277552</td>\n",
              "    </tr>\n",
              "    <tr>\n",
              "      <th>10422</th>\n",
              "      <td>0</td>\n",
              "      <td>101</td>\n",
              "      <td>8613</td>\n",
              "      <td>2003</td>\n",
              "      <td>-0.199274</td>\n",
              "      <td>1.358104</td>\n",
              "    </tr>\n",
              "    <tr>\n",
              "      <th>11664</th>\n",
              "      <td>0</td>\n",
              "      <td>101</td>\n",
              "      <td>0</td>\n",
              "      <td>2004</td>\n",
              "      <td>-0.468775</td>\n",
              "      <td>1.252575</td>\n",
              "    </tr>\n",
              "  </tbody>\n",
              "</table>\n",
              "</div>"
            ],
            "text/plain": [
              "       location_id  product_code  export_value  year       eci       pci\n",
              "490              0           101         18008  1995 -0.149358  1.204200\n",
              "1731             0           101             0  1996 -0.376153  1.016136\n",
              "2972             0           101             0  1997 -0.664343  1.118762\n",
              "4213             0           101             0  1998  0.330030  1.180892\n",
              "5454             0           101         14473  1999  0.006876  0.954775\n",
              "6696             0           101             0  2000  0.312097  1.246471\n",
              "7938             0           101         11249  2001  0.141701  1.019034\n",
              "9180             0           101          9019  2002 -0.189418  1.277552\n",
              "10422            0           101          8613  2003 -0.199274  1.358104\n",
              "11664            0           101             0  2004 -0.468775  1.252575"
            ]
          },
          "metadata": {},
          "execution_count": 7
        }
      ]
    },
    {
      "cell_type": "markdown",
      "metadata": {
        "id": "-OXO3mYoGLrZ"
      },
      "source": [
        "###modificamos la base, donde agregamos columnas que refieran a la variable ECI y PCI desde t-1 hasta t-5."
      ]
    },
    {
      "cell_type": "code",
      "metadata": {
        "id": "kwJZhnvYRmPO"
      },
      "source": [
        "#df_1 = df.groupby([\"location_id\",\"product_code\",\"year\"],as_index = True)\n",
        "df['pcit-1'] = df.groupby(['location_id','product_code'])['pci'].shift(+1)\n",
        "df['pcit-2'] = df.groupby(['location_id','product_code'])['pci'].shift(+2)\n",
        "df['pcit-3'] = df.groupby(['location_id','product_code'])['pci'].shift(+3)\n",
        "df['pcit-4'] = df.groupby(['location_id','product_code'])['pci'].shift(+4)\n",
        "df['pcit-5'] = df.groupby(['location_id','product_code'])['pci'].shift(+5)\n",
        "df['ecit-1'] = df.groupby(['location_id','product_code'])['eci'].shift(+1)\n",
        "df['ecit-2'] = df.groupby(['location_id','product_code'])['eci'].shift(+2)\n",
        "df['ecit-3'] = df.groupby(['location_id','product_code'])['eci'].shift(+3)\n",
        "df['ecit-4'] = df.groupby(['location_id','product_code'])['eci'].shift(+4)\n",
        "df['ecit-5'] = df.groupby(['location_id','product_code'])['eci'].shift(+5)\n",
        "df=df.fillna(0)\n",
        "df = df[df.year != 2020]\n",
        "df1 = df.copy()"
      ],
      "execution_count": null,
      "outputs": []
    },
    {
      "cell_type": "code",
      "metadata": {
        "colab": {
          "base_uri": "https://localhost:8080/",
          "height": 175
        },
        "id": "81gBRwRZQr8S",
        "outputId": "1bb605f9-b22f-4a1c-873b-90cde79dd730"
      },
      "source": [
        "df1.head(4)"
      ],
      "execution_count": null,
      "outputs": [
        {
          "output_type": "execute_result",
          "data": {
            "text/html": [
              "<div>\n",
              "<style scoped>\n",
              "    .dataframe tbody tr th:only-of-type {\n",
              "        vertical-align: middle;\n",
              "    }\n",
              "\n",
              "    .dataframe tbody tr th {\n",
              "        vertical-align: top;\n",
              "    }\n",
              "\n",
              "    .dataframe thead th {\n",
              "        text-align: right;\n",
              "    }\n",
              "</style>\n",
              "<table border=\"1\" class=\"dataframe\">\n",
              "  <thead>\n",
              "    <tr style=\"text-align: right;\">\n",
              "      <th></th>\n",
              "      <th>location_id</th>\n",
              "      <th>product_code</th>\n",
              "      <th>export_value</th>\n",
              "      <th>year</th>\n",
              "      <th>eci</th>\n",
              "      <th>pci</th>\n",
              "      <th>pcit-1</th>\n",
              "      <th>pcit-2</th>\n",
              "      <th>pcit-3</th>\n",
              "      <th>pcit-4</th>\n",
              "      <th>pcit-5</th>\n",
              "      <th>ecit-1</th>\n",
              "      <th>ecit-2</th>\n",
              "      <th>ecit-3</th>\n",
              "      <th>ecit-4</th>\n",
              "      <th>ecit-5</th>\n",
              "    </tr>\n",
              "  </thead>\n",
              "  <tbody>\n",
              "    <tr>\n",
              "      <th>490</th>\n",
              "      <td>0</td>\n",
              "      <td>101</td>\n",
              "      <td>18008</td>\n",
              "      <td>1995</td>\n",
              "      <td>-0.149358</td>\n",
              "      <td>1.204200</td>\n",
              "      <td>0.000000</td>\n",
              "      <td>0.000000</td>\n",
              "      <td>0.0000</td>\n",
              "      <td>0.0</td>\n",
              "      <td>0.0</td>\n",
              "      <td>0.000000</td>\n",
              "      <td>0.000000</td>\n",
              "      <td>0.000000</td>\n",
              "      <td>0.0</td>\n",
              "      <td>0.0</td>\n",
              "    </tr>\n",
              "    <tr>\n",
              "      <th>1731</th>\n",
              "      <td>0</td>\n",
              "      <td>101</td>\n",
              "      <td>0</td>\n",
              "      <td>1996</td>\n",
              "      <td>-0.376153</td>\n",
              "      <td>1.016136</td>\n",
              "      <td>1.204200</td>\n",
              "      <td>0.000000</td>\n",
              "      <td>0.0000</td>\n",
              "      <td>0.0</td>\n",
              "      <td>0.0</td>\n",
              "      <td>-0.149358</td>\n",
              "      <td>0.000000</td>\n",
              "      <td>0.000000</td>\n",
              "      <td>0.0</td>\n",
              "      <td>0.0</td>\n",
              "    </tr>\n",
              "    <tr>\n",
              "      <th>2972</th>\n",
              "      <td>0</td>\n",
              "      <td>101</td>\n",
              "      <td>0</td>\n",
              "      <td>1997</td>\n",
              "      <td>-0.664343</td>\n",
              "      <td>1.118762</td>\n",
              "      <td>1.016136</td>\n",
              "      <td>1.204200</td>\n",
              "      <td>0.0000</td>\n",
              "      <td>0.0</td>\n",
              "      <td>0.0</td>\n",
              "      <td>-0.376153</td>\n",
              "      <td>-0.149358</td>\n",
              "      <td>0.000000</td>\n",
              "      <td>0.0</td>\n",
              "      <td>0.0</td>\n",
              "    </tr>\n",
              "    <tr>\n",
              "      <th>4213</th>\n",
              "      <td>0</td>\n",
              "      <td>101</td>\n",
              "      <td>0</td>\n",
              "      <td>1998</td>\n",
              "      <td>0.330030</td>\n",
              "      <td>1.180892</td>\n",
              "      <td>1.118762</td>\n",
              "      <td>1.016136</td>\n",
              "      <td>1.2042</td>\n",
              "      <td>0.0</td>\n",
              "      <td>0.0</td>\n",
              "      <td>-0.664343</td>\n",
              "      <td>-0.376153</td>\n",
              "      <td>-0.149358</td>\n",
              "      <td>0.0</td>\n",
              "      <td>0.0</td>\n",
              "    </tr>\n",
              "  </tbody>\n",
              "</table>\n",
              "</div>"
            ],
            "text/plain": [
              "      location_id  product_code  export_value  ...    ecit-3  ecit-4  ecit-5\n",
              "490             0           101         18008  ...  0.000000     0.0     0.0\n",
              "1731            0           101             0  ...  0.000000     0.0     0.0\n",
              "2972            0           101             0  ...  0.000000     0.0     0.0\n",
              "4213            0           101             0  ... -0.149358     0.0     0.0\n",
              "\n",
              "[4 rows x 16 columns]"
            ]
          },
          "metadata": {},
          "execution_count": 15
        }
      ]
    },
    {
      "cell_type": "code",
      "metadata": {
        "colab": {
          "base_uri": "https://localhost:8080/",
          "height": 206
        },
        "id": "p9OEXhvGGG1M",
        "outputId": "46e26093-97f2-41f6-824c-5d4ef147e699"
      },
      "source": [
        "df2=df.sort_values(by=['year','location_id','product_code']).copy()\n",
        "df2 = df2[df2.export_value != 0]\n",
        "\n",
        "df2.head()"
      ],
      "execution_count": null,
      "outputs": [
        {
          "output_type": "execute_result",
          "data": {
            "text/html": [
              "<div>\n",
              "<style scoped>\n",
              "    .dataframe tbody tr th:only-of-type {\n",
              "        vertical-align: middle;\n",
              "    }\n",
              "\n",
              "    .dataframe tbody tr th {\n",
              "        vertical-align: top;\n",
              "    }\n",
              "\n",
              "    .dataframe thead th {\n",
              "        text-align: right;\n",
              "    }\n",
              "</style>\n",
              "<table border=\"1\" class=\"dataframe\">\n",
              "  <thead>\n",
              "    <tr style=\"text-align: right;\">\n",
              "      <th></th>\n",
              "      <th>location_id</th>\n",
              "      <th>product_code</th>\n",
              "      <th>export_value</th>\n",
              "      <th>year</th>\n",
              "      <th>eci</th>\n",
              "      <th>pci</th>\n",
              "      <th>pcit-1</th>\n",
              "      <th>pcit-2</th>\n",
              "      <th>pcit-3</th>\n",
              "      <th>pcit-4</th>\n",
              "      <th>pcit-5</th>\n",
              "      <th>ecit-1</th>\n",
              "      <th>ecit-2</th>\n",
              "      <th>ecit-3</th>\n",
              "      <th>ecit-4</th>\n",
              "      <th>ecit-5</th>\n",
              "    </tr>\n",
              "  </thead>\n",
              "  <tbody>\n",
              "    <tr>\n",
              "      <th>490</th>\n",
              "      <td>0</td>\n",
              "      <td>101</td>\n",
              "      <td>18008</td>\n",
              "      <td>1995</td>\n",
              "      <td>-0.149358</td>\n",
              "      <td>1.204200</td>\n",
              "      <td>0.0</td>\n",
              "      <td>0.0</td>\n",
              "      <td>0.0</td>\n",
              "      <td>0.0</td>\n",
              "      <td>0.0</td>\n",
              "      <td>0.0</td>\n",
              "      <td>0.0</td>\n",
              "      <td>0.0</td>\n",
              "      <td>0.0</td>\n",
              "      <td>0.0</td>\n",
              "    </tr>\n",
              "    <tr>\n",
              "      <th>57</th>\n",
              "      <td>0</td>\n",
              "      <td>106</td>\n",
              "      <td>2336</td>\n",
              "      <td>1995</td>\n",
              "      <td>-0.149358</td>\n",
              "      <td>-2.112441</td>\n",
              "      <td>0.0</td>\n",
              "      <td>0.0</td>\n",
              "      <td>0.0</td>\n",
              "      <td>0.0</td>\n",
              "      <td>0.0</td>\n",
              "      <td>0.0</td>\n",
              "      <td>0.0</td>\n",
              "      <td>0.0</td>\n",
              "      <td>0.0</td>\n",
              "      <td>0.0</td>\n",
              "    </tr>\n",
              "    <tr>\n",
              "      <th>1173</th>\n",
              "      <td>0</td>\n",
              "      <td>404</td>\n",
              "      <td>46234</td>\n",
              "      <td>1995</td>\n",
              "      <td>-0.149358</td>\n",
              "      <td>2.508095</td>\n",
              "      <td>0.0</td>\n",
              "      <td>0.0</td>\n",
              "      <td>0.0</td>\n",
              "      <td>0.0</td>\n",
              "      <td>0.0</td>\n",
              "      <td>0.0</td>\n",
              "      <td>0.0</td>\n",
              "      <td>0.0</td>\n",
              "      <td>0.0</td>\n",
              "      <td>0.0</td>\n",
              "    </tr>\n",
              "    <tr>\n",
              "      <th>192</th>\n",
              "      <td>0</td>\n",
              "      <td>406</td>\n",
              "      <td>566704</td>\n",
              "      <td>1995</td>\n",
              "      <td>-0.149358</td>\n",
              "      <td>1.680372</td>\n",
              "      <td>0.0</td>\n",
              "      <td>0.0</td>\n",
              "      <td>0.0</td>\n",
              "      <td>0.0</td>\n",
              "      <td>0.0</td>\n",
              "      <td>0.0</td>\n",
              "      <td>0.0</td>\n",
              "      <td>0.0</td>\n",
              "      <td>0.0</td>\n",
              "      <td>0.0</td>\n",
              "    </tr>\n",
              "    <tr>\n",
              "      <th>398</th>\n",
              "      <td>0</td>\n",
              "      <td>604</td>\n",
              "      <td>20855</td>\n",
              "      <td>1995</td>\n",
              "      <td>-0.149358</td>\n",
              "      <td>-0.592346</td>\n",
              "      <td>0.0</td>\n",
              "      <td>0.0</td>\n",
              "      <td>0.0</td>\n",
              "      <td>0.0</td>\n",
              "      <td>0.0</td>\n",
              "      <td>0.0</td>\n",
              "      <td>0.0</td>\n",
              "      <td>0.0</td>\n",
              "      <td>0.0</td>\n",
              "      <td>0.0</td>\n",
              "    </tr>\n",
              "  </tbody>\n",
              "</table>\n",
              "</div>"
            ],
            "text/plain": [
              "      location_id  product_code  export_value  ...  ecit-3  ecit-4  ecit-5\n",
              "490             0           101         18008  ...     0.0     0.0     0.0\n",
              "57              0           106          2336  ...     0.0     0.0     0.0\n",
              "1173            0           404         46234  ...     0.0     0.0     0.0\n",
              "192             0           406        566704  ...     0.0     0.0     0.0\n",
              "398             0           604         20855  ...     0.0     0.0     0.0\n",
              "\n",
              "[5 rows x 16 columns]"
            ]
          },
          "metadata": {},
          "execution_count": 16
        }
      ]
    },
    {
      "cell_type": "markdown",
      "source": [
        "###Selecciono y segmento las variables \"y\" de predicción"
      ],
      "metadata": {
        "id": "XHWa3hCgVF2A"
      }
    },
    {
      "cell_type": "code",
      "metadata": {
        "colab": {
          "base_uri": "https://localhost:8080/",
          "height": 206
        },
        "id": "0uZWZWrBTlHV",
        "outputId": "58f4cc5b-f67c-4ad7-9121-14a09842b965"
      },
      "source": [
        "df_y=df2.loc[(df2['year']>1999)&(df2['year']<=2019)]\n",
        "Y =  df_y.iloc[:,[5]]\n",
        "#Y =  df_y.loc[:,['pci']].values\n",
        "df_y17=df2.loc[(df2['year']>1999)&(df2['year']<=2017)]\n",
        "Y17 =  df_y17.iloc[:,[5]]\n",
        "df_y18=df2.loc[(df2['year']==2018)]\n",
        "Y18 =  df_y18.iloc[:,[5]]\n",
        "df_y19=df2.loc[(df2['year']==2019)]\n",
        "Y19 =  df_y19.iloc[:,[5]]\n",
        "Y.tail()\n",
        "\n",
        "Y17.tail()"
      ],
      "execution_count": null,
      "outputs": [
        {
          "output_type": "execute_result",
          "data": {
            "text/html": [
              "<div>\n",
              "<style scoped>\n",
              "    .dataframe tbody tr th:only-of-type {\n",
              "        vertical-align: middle;\n",
              "    }\n",
              "\n",
              "    .dataframe tbody tr th {\n",
              "        vertical-align: top;\n",
              "    }\n",
              "\n",
              "    .dataframe thead th {\n",
              "        text-align: right;\n",
              "    }\n",
              "</style>\n",
              "<table border=\"1\" class=\"dataframe\">\n",
              "  <thead>\n",
              "    <tr style=\"text-align: right;\">\n",
              "      <th></th>\n",
              "      <th>pci</th>\n",
              "    </tr>\n",
              "  </thead>\n",
              "  <tbody>\n",
              "    <tr>\n",
              "      <th>7310987</th>\n",
              "      <td>1.004752</td>\n",
              "    </tr>\n",
              "    <tr>\n",
              "      <th>7311043</th>\n",
              "      <td>0.634849</td>\n",
              "    </tr>\n",
              "    <tr>\n",
              "      <th>7310325</th>\n",
              "      <td>-0.366895</td>\n",
              "    </tr>\n",
              "    <tr>\n",
              "      <th>7310146</th>\n",
              "      <td>-0.862501</td>\n",
              "    </tr>\n",
              "    <tr>\n",
              "      <th>7310332</th>\n",
              "      <td>0.572796</td>\n",
              "    </tr>\n",
              "  </tbody>\n",
              "</table>\n",
              "</div>"
            ],
            "text/plain": [
              "              pci\n",
              "7310987  1.004752\n",
              "7311043  0.634849\n",
              "7310325 -0.366895\n",
              "7310146 -0.862501\n",
              "7310332  0.572796"
            ]
          },
          "metadata": {},
          "execution_count": 17
        }
      ]
    },
    {
      "cell_type": "code",
      "metadata": {
        "id": "I-WRLZUe5Tv6"
      },
      "source": [
        ""
      ],
      "execution_count": null,
      "outputs": []
    },
    {
      "cell_type": "markdown",
      "source": [
        ""
      ],
      "metadata": {
        "id": "DmmXJTsHVP0s"
      }
    },
    {
      "cell_type": "code",
      "metadata": {
        "colab": {
          "base_uri": "https://localhost:8080/",
          "height": 206
        },
        "id": "17JzHIoTTlRV",
        "outputId": "a210baf8-4cd0-4f81-ce56-dc085f5d0ebb"
      },
      "source": [
        "df_x_train=df2.loc[ (df2['year']>1999)&(df2['year']<=2019)]\n",
        "\n",
        "dfx_17=df2.loc[ (df2['year']>1999)&(df2['year']<=2017)]\n",
        "dfx_18=df2.loc[ (df2['year']==2018)]\n",
        "dfx_19=df2.loc[ (df2['year']==2019)]\n",
        "\n",
        "df_x_train=df_x_train.iloc[:, [i for i in range(df_x_train.shape[1]) if i != 5]]\n",
        "dfx_17=dfx_17.iloc[:, [i for i in range(dfx_17.shape[1]) if i != 5]]\n",
        "dfx_18=dfx_18.iloc[:, [i for i in range(dfx_18.shape[1]) if i != 5]]\n",
        "dfx_19=dfx_19.iloc[:, [i for i in range(dfx_19.shape[1]) if i != 5]]\n",
        "\n",
        "X = df_x_train.iloc[:,0:16]\n",
        "X17=dfx_17.iloc[:,0:16]\n",
        "X18=dfx_18.iloc[:,0:16]\n",
        "X19=dfx_19.iloc[:,0:16]\n",
        "X.tail()\n",
        "X17.tail()\n",
        "X19.tail()\n",
        "#X[0,0:14]\n",
        "#df_x.head(5)\n",
        "#type(X)"
      ],
      "execution_count": null,
      "outputs": [
        {
          "output_type": "execute_result",
          "data": {
            "text/html": [
              "<div>\n",
              "<style scoped>\n",
              "    .dataframe tbody tr th:only-of-type {\n",
              "        vertical-align: middle;\n",
              "    }\n",
              "\n",
              "    .dataframe tbody tr th {\n",
              "        vertical-align: top;\n",
              "    }\n",
              "\n",
              "    .dataframe thead th {\n",
              "        text-align: right;\n",
              "    }\n",
              "</style>\n",
              "<table border=\"1\" class=\"dataframe\">\n",
              "  <thead>\n",
              "    <tr style=\"text-align: right;\">\n",
              "      <th></th>\n",
              "      <th>location_id</th>\n",
              "      <th>product_code</th>\n",
              "      <th>export_value</th>\n",
              "      <th>year</th>\n",
              "      <th>eci</th>\n",
              "      <th>pcit-1</th>\n",
              "      <th>pcit-2</th>\n",
              "      <th>pcit-3</th>\n",
              "      <th>pcit-4</th>\n",
              "      <th>pcit-5</th>\n",
              "      <th>ecit-1</th>\n",
              "      <th>ecit-2</th>\n",
              "      <th>ecit-3</th>\n",
              "      <th>ecit-4</th>\n",
              "      <th>ecit-5</th>\n",
              "    </tr>\n",
              "  </thead>\n",
              "  <tbody>\n",
              "    <tr>\n",
              "      <th>7313427</th>\n",
              "      <td>250</td>\n",
              "      <td>9703</td>\n",
              "      <td>22774132</td>\n",
              "      <td>2019</td>\n",
              "      <td>1.250292</td>\n",
              "      <td>0.211592</td>\n",
              "      <td>1.004752</td>\n",
              "      <td>0.077898</td>\n",
              "      <td>0.435453</td>\n",
              "      <td>0.414686</td>\n",
              "      <td>0.673645</td>\n",
              "      <td>0.669892</td>\n",
              "      <td>0.732298</td>\n",
              "      <td>0.659868</td>\n",
              "      <td>0.486857</td>\n",
              "    </tr>\n",
              "    <tr>\n",
              "      <th>7313483</th>\n",
              "      <td>250</td>\n",
              "      <td>9704</td>\n",
              "      <td>272016</td>\n",
              "      <td>2019</td>\n",
              "      <td>1.250292</td>\n",
              "      <td>0.382832</td>\n",
              "      <td>0.634849</td>\n",
              "      <td>0.316733</td>\n",
              "      <td>0.040149</td>\n",
              "      <td>0.309810</td>\n",
              "      <td>0.673645</td>\n",
              "      <td>0.669892</td>\n",
              "      <td>0.732298</td>\n",
              "      <td>0.659868</td>\n",
              "      <td>0.486857</td>\n",
              "    </tr>\n",
              "    <tr>\n",
              "      <th>7312766</th>\n",
              "      <td>250</td>\n",
              "      <td>9705</td>\n",
              "      <td>29850106</td>\n",
              "      <td>2019</td>\n",
              "      <td>1.250292</td>\n",
              "      <td>-0.713955</td>\n",
              "      <td>-0.366895</td>\n",
              "      <td>0.057390</td>\n",
              "      <td>-0.929038</td>\n",
              "      <td>-0.273465</td>\n",
              "      <td>0.673645</td>\n",
              "      <td>0.669892</td>\n",
              "      <td>0.732298</td>\n",
              "      <td>0.659868</td>\n",
              "      <td>0.486857</td>\n",
              "    </tr>\n",
              "    <tr>\n",
              "      <th>7312587</th>\n",
              "      <td>250</td>\n",
              "      <td>9706</td>\n",
              "      <td>68972424</td>\n",
              "      <td>2019</td>\n",
              "      <td>1.250292</td>\n",
              "      <td>-2.189002</td>\n",
              "      <td>-0.862501</td>\n",
              "      <td>-1.476492</td>\n",
              "      <td>-1.447281</td>\n",
              "      <td>-1.443447</td>\n",
              "      <td>0.673645</td>\n",
              "      <td>0.669892</td>\n",
              "      <td>0.732298</td>\n",
              "      <td>0.659868</td>\n",
              "      <td>0.486857</td>\n",
              "    </tr>\n",
              "    <tr>\n",
              "      <th>7312773</th>\n",
              "      <td>250</td>\n",
              "      <td>9999</td>\n",
              "      <td>51257131008</td>\n",
              "      <td>2019</td>\n",
              "      <td>1.250292</td>\n",
              "      <td>0.571061</td>\n",
              "      <td>0.572796</td>\n",
              "      <td>1.020175</td>\n",
              "      <td>0.165245</td>\n",
              "      <td>0.754914</td>\n",
              "      <td>0.673645</td>\n",
              "      <td>0.669892</td>\n",
              "      <td>0.732298</td>\n",
              "      <td>0.659868</td>\n",
              "      <td>0.486857</td>\n",
              "    </tr>\n",
              "  </tbody>\n",
              "</table>\n",
              "</div>"
            ],
            "text/plain": [
              "         location_id  product_code  export_value  ...    ecit-3    ecit-4    ecit-5\n",
              "7313427          250          9703      22774132  ...  0.732298  0.659868  0.486857\n",
              "7313483          250          9704        272016  ...  0.732298  0.659868  0.486857\n",
              "7312766          250          9705      29850106  ...  0.732298  0.659868  0.486857\n",
              "7312587          250          9706      68972424  ...  0.732298  0.659868  0.486857\n",
              "7312773          250          9999   51257131008  ...  0.732298  0.659868  0.486857\n",
              "\n",
              "[5 rows x 15 columns]"
            ]
          },
          "metadata": {},
          "execution_count": 18
        }
      ]
    },
    {
      "cell_type": "code",
      "metadata": {
        "id": "nyUoUGE1P4if"
      },
      "source": [
        ""
      ],
      "execution_count": null,
      "outputs": []
    },
    {
      "cell_type": "markdown",
      "metadata": {
        "id": "9mmSlwCHQqWz"
      },
      "source": [
        "### Asignamos los sets de Train, Test y Validation según los años.\n",
        "\n",
        "\n",
        "*   Train: base desde 2000 - 2017\n",
        "*   Validation: Base para el 2018\n",
        "*   Test: Base para el 2019\n",
        "\n",
        "\n",
        "\n",
        "\n"
      ]
    },
    {
      "cell_type": "code",
      "metadata": {
        "colab": {
          "base_uri": "https://localhost:8080/",
          "height": 528
        },
        "id": "XCYM4ZY_RNiZ",
        "outputId": "1f0561cd-bc36-40a1-bc07-1d43ff879e22"
      },
      "source": [
        "from sklearn.model_selection import GroupShuffleSplit\n",
        "\n",
        "#gs = GroupShuffleSplit(n_splits=2, test_size=.1, random_state=0)\n",
        "\n",
        "#train_ix, test_ix = next(gs.split(X17, Y, groups=X['year']==2019))\n",
        "\n",
        "#X_train = X.iloc[train_ix]\n",
        "X_train =X17\n",
        "\n",
        "#y_train = Y.iloc[train_ix]\n",
        "y_train = Y17\n",
        "\n",
        "#X_test = X.iloc[test_ix]\n",
        "X_test = X19\n",
        "#y_test = Y.iloc[test_ix]\n",
        "y_test = Y19\n",
        "\n",
        "#X_val =   X.iloc[val_iy]\n",
        "X_val =   X18\n",
        "#y_val = Y.iloc[val_iy]\n",
        "y_val = Y18\n",
        "\n",
        "\n",
        "print(\"X_train shape: {}\".format(X_train.shape))\n",
        "print(\"X_test shape: {}\".format(X_test.shape))\n",
        "print(\"y_train shape: {}\".format(y_train.shape))\n",
        "print(\"y_test shape: {}\".format(y_test.shape))\n",
        "print(\"X_val shape: {}\".format(X_val.shape))\n",
        "print(\"y_val shape: {}\".format(y_val.shape))\n",
        "\n",
        "\n",
        "\n",
        "\n",
        "y_train"
      ],
      "execution_count": null,
      "outputs": [
        {
          "output_type": "stream",
          "name": "stdout",
          "text": [
            "X_train shape: (2664689, 15)\n",
            "X_test shape: (145843, 15)\n",
            "y_train shape: (2664689, 1)\n",
            "y_test shape: (145843, 1)\n",
            "X_val shape: (150884, 15)\n",
            "y_val shape: (150884, 1)\n"
          ]
        },
        {
          "output_type": "execute_result",
          "data": {
            "text/html": [
              "<div>\n",
              "<style scoped>\n",
              "    .dataframe tbody tr th:only-of-type {\n",
              "        vertical-align: middle;\n",
              "    }\n",
              "\n",
              "    .dataframe tbody tr th {\n",
              "        vertical-align: top;\n",
              "    }\n",
              "\n",
              "    .dataframe thead th {\n",
              "        text-align: right;\n",
              "    }\n",
              "</style>\n",
              "<table border=\"1\" class=\"dataframe\">\n",
              "  <thead>\n",
              "    <tr style=\"text-align: right;\">\n",
              "      <th></th>\n",
              "      <th>pci</th>\n",
              "    </tr>\n",
              "  </thead>\n",
              "  <tbody>\n",
              "    <tr>\n",
              "      <th>6262</th>\n",
              "      <td>-1.911484</td>\n",
              "    </tr>\n",
              "    <tr>\n",
              "      <th>6853</th>\n",
              "      <td>2.425090</td>\n",
              "    </tr>\n",
              "    <tr>\n",
              "      <th>6588</th>\n",
              "      <td>-2.059270</td>\n",
              "    </tr>\n",
              "    <tr>\n",
              "      <th>6584</th>\n",
              "      <td>-1.692482</td>\n",
              "    </tr>\n",
              "    <tr>\n",
              "      <th>6495</th>\n",
              "      <td>-2.553491</td>\n",
              "    </tr>\n",
              "    <tr>\n",
              "      <th>...</th>\n",
              "      <td>...</td>\n",
              "    </tr>\n",
              "    <tr>\n",
              "      <th>7310987</th>\n",
              "      <td>1.004752</td>\n",
              "    </tr>\n",
              "    <tr>\n",
              "      <th>7311043</th>\n",
              "      <td>0.634849</td>\n",
              "    </tr>\n",
              "    <tr>\n",
              "      <th>7310325</th>\n",
              "      <td>-0.366895</td>\n",
              "    </tr>\n",
              "    <tr>\n",
              "      <th>7310146</th>\n",
              "      <td>-0.862501</td>\n",
              "    </tr>\n",
              "    <tr>\n",
              "      <th>7310332</th>\n",
              "      <td>0.572796</td>\n",
              "    </tr>\n",
              "  </tbody>\n",
              "</table>\n",
              "<p>2664689 rows × 1 columns</p>\n",
              "</div>"
            ],
            "text/plain": [
              "              pci\n",
              "6262    -1.911484\n",
              "6853     2.425090\n",
              "6588    -2.059270\n",
              "6584    -1.692482\n",
              "6495    -2.553491\n",
              "...           ...\n",
              "7310987  1.004752\n",
              "7311043  0.634849\n",
              "7310325 -0.366895\n",
              "7310146 -0.862501\n",
              "7310332  0.572796\n",
              "\n",
              "[2664689 rows x 1 columns]"
            ]
          },
          "metadata": {},
          "execution_count": 19
        }
      ]
    },
    {
      "cell_type": "code",
      "metadata": {
        "id": "Tv-NMcjPb3hm",
        "colab": {
          "base_uri": "https://localhost:8080/"
        },
        "outputId": "6e71100c-a52f-4c97-a15e-1605b3f23a8e"
      },
      "source": [
        "from sklearn.ensemble import RandomForestRegressor\n",
        "\n",
        "#model = RandomForestRegressor(n_estimators=10, random_state=30)\n",
        "regressor = RandomForestRegressor(n_estimators=25,random_state=1)\n",
        "regressor.fit(X_train,y_train)\n"
      ],
      "execution_count": null,
      "outputs": [
        {
          "output_type": "stream",
          "name": "stderr",
          "text": [
            "/usr/local/lib/python3.7/dist-packages/ipykernel_launcher.py:6: DataConversionWarning: A column-vector y was passed when a 1d array was expected. Please change the shape of y to (n_samples,), for example using ravel().\n",
            "  \n"
          ]
        },
        {
          "output_type": "execute_result",
          "data": {
            "text/plain": [
              "RandomForestRegressor(n_estimators=25, random_state=1)"
            ]
          },
          "metadata": {},
          "execution_count": 20
        }
      ]
    },
    {
      "cell_type": "code",
      "metadata": {
        "colab": {
          "base_uri": "https://localhost:8080/"
        },
        "id": "J6lVizlfpRxD",
        "outputId": "5c650b50-eb01-4ddd-c72d-9673b7edc4c5"
      },
      "source": [
        "from sklearn.metrics import mean_absolute_error\n",
        "y_pred=regressor.predict(X_test)\n",
        "# Printing the metrics\n",
        "mae=metrics.mean_absolute_error(y_test, y_pred)\n",
        "mse=metrics.mean_squared_error(y_test, y_pred)\n",
        "print('Random Forest Regression Accuracy: ', regressor.score(X_test,y_test))\n",
        "print('R2 square:',metrics.r2_score(y_test, y_pred))\n",
        "print('MAE: ', mae)\n",
        "print('MSE: ', mse)"
      ],
      "execution_count": null,
      "outputs": [
        {
          "output_type": "stream",
          "name": "stdout",
          "text": [
            "Random Forest Regression Accuracy:  0.9067551334381808\n",
            "R2 square: 0.9067551334381808\n",
            "MAE:  0.3658379367959215\n",
            "MSE:  0.22957127020768434\n"
          ]
        }
      ]
    },
    {
      "cell_type": "code",
      "metadata": {
        "id": "UjsUgAc3b3tn",
        "colab": {
          "base_uri": "https://localhost:8080/"
        },
        "outputId": "9d4ba593-2e2a-463a-d86a-9acb597f614b"
      },
      "source": [
        "from sklearn.metrics import mean_absolute_error\n",
        "y_pred_val=regressor.predict(X_val)\n",
        "# Printing the metrics\n",
        "maev=metrics.mean_absolute_error(y_val, y_pred_val)\n",
        "msev=metrics.mean_squared_error(y_val, y_pred_val)\n",
        "print('Random Forest Regression Accuracy  (over validataion set): ', regressor.score(X_val,y_val))\n",
        "print('R2 square (validataion set):',metrics.r2_score(y_val, y_pred_val))\n",
        "print('MAE (validataion set): ', maev)\n",
        "print('MSE (validation set): ', msev)"
      ],
      "execution_count": null,
      "outputs": [
        {
          "output_type": "stream",
          "name": "stdout",
          "text": [
            "Random Forest Regression Accuracy  (over validataion set):  0.8998055329137451\n",
            "R2 square (validataion set): 0.8998055329137451\n",
            "MAE (validataion set):  0.353729886886925\n",
            "MSE (validation set):  0.27401038033911534\n"
          ]
        }
      ]
    },
    {
      "cell_type": "code",
      "metadata": {
        "colab": {
          "base_uri": "https://localhost:8080/",
          "height": 355
        },
        "id": "2pVE3IftkBpM",
        "outputId": "cccefc7b-ed45-4c65-da58-a936cd3ee789"
      },
      "source": [
        "plt.figure(figsize=(10,5))\n",
        "plt.scatter(y_pred, y_test, color= \"red\", label =\"Comparación entre valores predecidos y testeados\")\n",
        "plt.legend()\n",
        "plt.grid()\n",
        "plt.title(\"Random Forest Regression\")\n",
        "plt.xlabel(\"pci_pred\")\n",
        "plt.ylabel(\"pci_test\")\n",
        "plt.show()"
      ],
      "execution_count": null,
      "outputs": [
        {
          "output_type": "display_data",
          "data": {
            "image/png": "[encoded data removed]",
            "text/plain": [
              "<Figure size 720x360 with 1 Axes>"
            ]
          },
          "metadata": {}
        }
      ]
    },
    {
      "cell_type": "code",
      "metadata": {
        "colab": {
          "base_uri": "https://localhost:8080/",
          "height": 355
        },
        "id": "Q58Np6T-Gkwq",
        "outputId": "9fe2e485-50d8-4c5e-f46e-bdda0f453c0a"
      },
      "source": [
        "plt.figure(figsize=(10,5))\n",
        "plt.scatter(pci_test, pci_pred_val, color= \"blue\", label =\"Comparación entre pci predecidos y actuales\")\n",
        "plt.legend()\n",
        "plt.grid()\n",
        "plt.title(\"Random Forest Regression\")\n",
        "plt.xlabel(\"PCI_current\")\n",
        "plt.ylabel(\"PCI_predicted\")\n",
        "plt.show()"
      ],
      "execution_count": null,
      "outputs": [
        {
          "output_type": "display_data",
          "data": {
            "image/png": "[encoded data removed]",
            "text/plain": [
              "<Figure size 720x360 with 1 Axes>"
            ]
          },
          "metadata": {}
        }
      ]
    },
    {
      "cell_type": "code",
      "metadata": {
        "colab": {
          "base_uri": "https://localhost:8080/",
          "height": 841
        },
        "id": "IxdKu8OK54BD",
        "outputId": "ddde5784-66d0-4cfc-d62f-c88b88dabc8a"
      },
      "source": [
        "fig, axes =plt.subplots(figsize=(8,12))\n",
        "fig.suptitle('Residuals', fontweight=\"bold\", fontsize=15)\n",
        "# Random Forest ###############################\n",
        "axes= sns.residplot(ax=axes, x=y_pred, y=y_test, data=df1, \n",
        "                          lowess=True, \n",
        "                          color='darkcyan',\n",
        "                          scatter_kws={'alpha': 0.5}, \n",
        "                          line_kws={'color': 'red', 'lw': 1, 'alpha': 0.8})\n",
        "axes.set_xlim([-5, 6.5])\n",
        "axes.set_ylim([-6.5, 6.5])\n",
        "axes.set_title('Random Forest')\n",
        "axes.set_xlabel(' ')\n",
        "axes.set_ylabel('Residuals')\n",
        "\n",
        "plt.show()"
      ],
      "execution_count": null,
      "outputs": [
        {
          "output_type": "stream",
          "name": "stderr",
          "text": [
            "/usr/local/lib/python3.7/dist-packages/statsmodels/tools/_testing.py:19: FutureWarning: pandas.util.testing is deprecated. Use the functions in the public API at pandas.testing instead.\n",
            "  import pandas.util.testing as tm\n"
          ]
        },
        {
          "output_type": "display_data",
          "data": {
            "image/png": "[encoded data removed]",
            "text/plain": [
              "<Figure size 576x864 with 1 Axes>"
            ]
          },
          "metadata": {}
        }
      ]
    },
    {
      "cell_type": "code",
      "metadata": {
        "colab": {
          "base_uri": "https://localhost:8080/",
          "height": 268
        },
        "id": "aYeKHcOiw8Yb",
        "outputId": "45a9d226-1d2d-4ca3-fa51-34e28bb7da51"
      },
      "source": [
        "from matplotlib import pyplot\n",
        "# get importance\n",
        "importance_train = regressor.feature_importances_\n",
        "#importance_val = regressor_val.feature_importances_\n",
        "\n",
        "# summarize feature importance\n",
        "#for i,v in enumerate(importance):\n",
        "\t#print('Feature: %0d, Score: %.5f' % (i,v))\n",
        "# plot feature importance\n",
        "pyplot.bar([x for x in range(len(importance_train))], importance_train)\n",
        "#pyplot.bar([x for x in range(len(importance_val))], importance_val)\n",
        "\n",
        "pyplot.show()"
      ],
      "execution_count": null,
      "outputs": [
        {
          "output_type": "display_data",
          "data": {
            "image/png": "[encoded data removed]",
            "text/plain": [
              "<Figure size 432x288 with 1 Axes>"
            ]
          },
          "metadata": {}
        }
      ]
    },
    {
      "cell_type": "code",
      "metadata": {
        "colab": {
          "base_uri": "https://localhost:8080/"
        },
        "id": "SWLhbyt-w8kf",
        "outputId": "e912e3de-a3f0-40d3-8fde-99994785cf08"
      },
      "source": [
        "y_pred.shape"
      ],
      "execution_count": null,
      "outputs": [
        {
          "output_type": "execute_result",
          "data": {
            "text/plain": [
              "(592284,)"
            ]
          },
          "metadata": {},
          "execution_count": 111
        }
      ]
    }
  ]
}