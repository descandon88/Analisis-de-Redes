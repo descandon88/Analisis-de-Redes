{
  "nbformat": 4,
  "nbformat_minor": 0,
  "metadata": {
    "colab": {
      "name": "analisis_predictivo_eci.ipynb",
      "provenance": [],
      "authorship_tag": "ABX9TyNmPaUAYQ2REvtkqgrbiUhc",
      "include_colab_link": true
    },
    "kernelspec": {
      "display_name": "Python 3",
      "name": "python3"
    },
    "language_info": {
      "name": "python"
    }
  },
  "cells": [
    {
      "cell_type": "markdown",
      "metadata": {
        "id": "view-in-github",
        "colab_type": "text"
      },
      "source": [
        "<a href=\"https://colab.research.google.com/github/descandon88/Analisis-de-Redes/blob/proyecto/analisis_predictivo_eci.ipynb\" target=\"_parent\"><img src=\"https://colab.research.google.com/assets/colab-badge.svg\" alt=\"Open In Colab\"/></a>"
      ]
    },
    {
      "cell_type": "code",
      "metadata": {
        "id": "Lh5ifcX_yGJT"
      },
      "source": [
        "import pandas as pd\n",
        "import numpy as np\n",
        "from sklearn.impute import SimpleImputer\n",
        "from sklearn.compose import ColumnTransformer\n",
        "from sklearn.preprocessing import OneHotEncoder\n",
        "from sklearn.preprocessing import LabelEncoder\n",
        "from sklearn.ensemble import RandomForestRegressor\n",
        "from sklearn.datasets import make_regression\n",
        "import seaborn as sns\n",
        "\n",
        "from sklearn.model_selection import train_test_split\n",
        "import matplotlib.pyplot as plt \n",
        "from matplotlib.lines import Line2D\n",
        "from scipy.stats import pearsonr\n",
        "\n",
        "from sklearn import metrics\n",
        "from sklearn.metrics import accuracy_score\n",
        "\n",
        "import seaborn as sns; sns.set()\n",
        "from sklearn.datasets import make_blobs"
      ],
      "execution_count": 1,
      "outputs": []
    },
    {
      "cell_type": "code",
      "metadata": {
        "colab": {
          "base_uri": "https://localhost:8080/"
        },
        "id": "rsXxCsHXyOGq",
        "outputId": "6a763e29-8bca-4dc5-b1a7-f8be216bb791"
      },
      "source": [
        "from google.colab import drive\n",
        "drive.mount(\"/content/drive\")\n",
        "print(\"conexión con drive listo!\")"
      ],
      "execution_count": 2,
      "outputs": [
        {
          "output_type": "stream",
          "name": "stdout",
          "text": [
            "Mounted at /content/drive\n",
            "conexión con drive listo!\n"
          ]
        }
      ]
    },
    {
      "cell_type": "code",
      "metadata": {
        "id": "ZK7tV5dAyOL6"
      },
      "source": [
        "df_pci = pd.read_csv(\"/content/drive/MyDrive/eci/base/df_pci.csv\")\n",
        "#df_country = pd.read_csv(\"/content/drive/MyDrive/eci/base/df_updated.csv\")\n",
        "df_location= pd.read_csv(\"/content/drive/MyDrive/eci/base/df_updated.csv\")\n",
        "df_country_code= pd.read_csv(\"/content/drive/MyDrive/eci/base/df_country_code.csv\")"
      ],
      "execution_count": 3,
      "outputs": []
    },
    {
      "cell_type": "code",
      "metadata": {
        "colab": {
          "base_uri": "https://localhost:8080/",
          "height": 206
        },
        "id": "HN5WVYEl_QFD",
        "outputId": "cee437b4-1eba-4cef-a2d0-b5960c9406d4"
      },
      "source": [
        "df_country_code.head()"
      ],
      "execution_count": null,
      "outputs": [
        {
          "output_type": "execute_result",
          "data": {
            "text/html": [
              "<div>\n",
              "<style scoped>\n",
              "    .dataframe tbody tr th:only-of-type {\n",
              "        vertical-align: middle;\n",
              "    }\n",
              "\n",
              "    .dataframe tbody tr th {\n",
              "        vertical-align: top;\n",
              "    }\n",
              "\n",
              "    .dataframe thead th {\n",
              "        text-align: right;\n",
              "    }\n",
              "</style>\n",
              "<table border=\"1\" class=\"dataframe\">\n",
              "  <thead>\n",
              "    <tr style=\"text-align: right;\">\n",
              "      <th></th>\n",
              "      <th>location_id</th>\n",
              "      <th>country_code</th>\n",
              "      <th>country_name</th>\n",
              "    </tr>\n",
              "  </thead>\n",
              "  <tbody>\n",
              "    <tr>\n",
              "      <th>0</th>\n",
              "      <td>0</td>\n",
              "      <td>ABW</td>\n",
              "      <td>Aruba</td>\n",
              "    </tr>\n",
              "    <tr>\n",
              "      <th>1</th>\n",
              "      <td>1</td>\n",
              "      <td>AFG</td>\n",
              "      <td>Afghanistan</td>\n",
              "    </tr>\n",
              "    <tr>\n",
              "      <th>2</th>\n",
              "      <td>2</td>\n",
              "      <td>AGO</td>\n",
              "      <td>Angola</td>\n",
              "    </tr>\n",
              "    <tr>\n",
              "      <th>3</th>\n",
              "      <td>3</td>\n",
              "      <td>AIA</td>\n",
              "      <td>Anguilla</td>\n",
              "    </tr>\n",
              "    <tr>\n",
              "      <th>4</th>\n",
              "      <td>4</td>\n",
              "      <td>ALB</td>\n",
              "      <td>Albania</td>\n",
              "    </tr>\n",
              "  </tbody>\n",
              "</table>\n",
              "</div>"
            ],
            "text/plain": [
              "   location_id country_code country_name\n",
              "0            0          ABW        Aruba\n",
              "1            1          AFG  Afghanistan\n",
              "2            2          AGO       Angola\n",
              "3            3          AIA     Anguilla\n",
              "4            4          ALB      Albania"
            ]
          },
          "metadata": {},
          "execution_count": 64
        }
      ]
    },
    {
      "cell_type": "code",
      "metadata": {
        "colab": {
          "base_uri": "https://localhost:8080/",
          "height": 206
        },
        "id": "gnKuWElY_61-",
        "outputId": "6bff0415-615c-4841-da53-e60832e49c8e"
      },
      "source": [
        "df_pci.head()"
      ],
      "execution_count": null,
      "outputs": [
        {
          "output_type": "execute_result",
          "data": {
            "text/html": [
              "<div>\n",
              "<style scoped>\n",
              "    .dataframe tbody tr th:only-of-type {\n",
              "        vertical-align: middle;\n",
              "    }\n",
              "\n",
              "    .dataframe tbody tr th {\n",
              "        vertical-align: top;\n",
              "    }\n",
              "\n",
              "    .dataframe thead th {\n",
              "        text-align: right;\n",
              "    }\n",
              "</style>\n",
              "<table border=\"1\" class=\"dataframe\">\n",
              "  <thead>\n",
              "    <tr style=\"text-align: right;\">\n",
              "      <th></th>\n",
              "      <th>country_name</th>\n",
              "      <th>product_code</th>\n",
              "      <th>export_value</th>\n",
              "      <th>year</th>\n",
              "      <th>pci</th>\n",
              "      <th>eci</th>\n",
              "    </tr>\n",
              "  </thead>\n",
              "  <tbody>\n",
              "    <tr>\n",
              "      <th>0</th>\n",
              "      <td>Afghanistan</td>\n",
              "      <td>6805</td>\n",
              "      <td>1327</td>\n",
              "      <td>1995</td>\n",
              "      <td>3.005267</td>\n",
              "      <td>-0.330378</td>\n",
              "    </tr>\n",
              "    <tr>\n",
              "      <th>1</th>\n",
              "      <td>Afghanistan</td>\n",
              "      <td>9204</td>\n",
              "      <td>0</td>\n",
              "      <td>1995</td>\n",
              "      <td>3.880273</td>\n",
              "      <td>-0.330378</td>\n",
              "    </tr>\n",
              "    <tr>\n",
              "      <th>2</th>\n",
              "      <td>Afghanistan</td>\n",
              "      <td>2911</td>\n",
              "      <td>0</td>\n",
              "      <td>1995</td>\n",
              "      <td>3.770268</td>\n",
              "      <td>-0.330378</td>\n",
              "    </tr>\n",
              "    <tr>\n",
              "      <th>3</th>\n",
              "      <td>Afghanistan</td>\n",
              "      <td>2918</td>\n",
              "      <td>0</td>\n",
              "      <td>1995</td>\n",
              "      <td>2.371247</td>\n",
              "      <td>-0.330378</td>\n",
              "    </tr>\n",
              "    <tr>\n",
              "      <th>4</th>\n",
              "      <td>Afghanistan</td>\n",
              "      <td>2917</td>\n",
              "      <td>0</td>\n",
              "      <td>1995</td>\n",
              "      <td>1.504703</td>\n",
              "      <td>-0.330378</td>\n",
              "    </tr>\n",
              "  </tbody>\n",
              "</table>\n",
              "</div>"
            ],
            "text/plain": [
              "  country_name  product_code  export_value  year       pci       eci\n",
              "0  Afghanistan          6805          1327  1995  3.005267 -0.330378\n",
              "1  Afghanistan          9204             0  1995  3.880273 -0.330378\n",
              "2  Afghanistan          2911             0  1995  3.770268 -0.330378\n",
              "3  Afghanistan          2918             0  1995  2.371247 -0.330378\n",
              "4  Afghanistan          2917             0  1995  1.504703 -0.330378"
            ]
          },
          "metadata": {},
          "execution_count": 65
        }
      ]
    },
    {
      "cell_type": "code",
      "metadata": {
        "colab": {
          "base_uri": "https://localhost:8080/",
          "height": 206
        },
        "id": "eiEPn6eKzSO8",
        "outputId": "36754531-090e-4c67-b060-912cf95c43ef"
      },
      "source": [
        "result_pci_country_code = pd.merge(df_country_code, df_pci , on=\"country_name\")\n",
        "\n",
        "#df=df_pci.copy()\n",
        "#df.tail()\n",
        "df_new = result_pci_country_code.copy()\n",
        "df_new.head()"
      ],
      "execution_count": 4,
      "outputs": [
        {
          "output_type": "execute_result",
          "data": {
            "text/html": [
              "<div>\n",
              "<style scoped>\n",
              "    .dataframe tbody tr th:only-of-type {\n",
              "        vertical-align: middle;\n",
              "    }\n",
              "\n",
              "    .dataframe tbody tr th {\n",
              "        vertical-align: top;\n",
              "    }\n",
              "\n",
              "    .dataframe thead th {\n",
              "        text-align: right;\n",
              "    }\n",
              "</style>\n",
              "<table border=\"1\" class=\"dataframe\">\n",
              "  <thead>\n",
              "    <tr style=\"text-align: right;\">\n",
              "      <th></th>\n",
              "      <th>location_id</th>\n",
              "      <th>country_code</th>\n",
              "      <th>country_name</th>\n",
              "      <th>product_code</th>\n",
              "      <th>export_value</th>\n",
              "      <th>year</th>\n",
              "      <th>pci</th>\n",
              "      <th>eci</th>\n",
              "    </tr>\n",
              "  </thead>\n",
              "  <tbody>\n",
              "    <tr>\n",
              "      <th>0</th>\n",
              "      <td>0</td>\n",
              "      <td>ABW</td>\n",
              "      <td>Aruba</td>\n",
              "      <td>6805</td>\n",
              "      <td>0</td>\n",
              "      <td>1995</td>\n",
              "      <td>3.005267</td>\n",
              "      <td>-0.149358</td>\n",
              "    </tr>\n",
              "    <tr>\n",
              "      <th>1</th>\n",
              "      <td>0</td>\n",
              "      <td>ABW</td>\n",
              "      <td>Aruba</td>\n",
              "      <td>9204</td>\n",
              "      <td>0</td>\n",
              "      <td>1995</td>\n",
              "      <td>3.880273</td>\n",
              "      <td>-0.149358</td>\n",
              "    </tr>\n",
              "    <tr>\n",
              "      <th>2</th>\n",
              "      <td>0</td>\n",
              "      <td>ABW</td>\n",
              "      <td>Aruba</td>\n",
              "      <td>2911</td>\n",
              "      <td>0</td>\n",
              "      <td>1995</td>\n",
              "      <td>3.770268</td>\n",
              "      <td>-0.149358</td>\n",
              "    </tr>\n",
              "    <tr>\n",
              "      <th>3</th>\n",
              "      <td>0</td>\n",
              "      <td>ABW</td>\n",
              "      <td>Aruba</td>\n",
              "      <td>2918</td>\n",
              "      <td>0</td>\n",
              "      <td>1995</td>\n",
              "      <td>2.371247</td>\n",
              "      <td>-0.149358</td>\n",
              "    </tr>\n",
              "    <tr>\n",
              "      <th>4</th>\n",
              "      <td>0</td>\n",
              "      <td>ABW</td>\n",
              "      <td>Aruba</td>\n",
              "      <td>2917</td>\n",
              "      <td>0</td>\n",
              "      <td>1995</td>\n",
              "      <td>1.504703</td>\n",
              "      <td>-0.149358</td>\n",
              "    </tr>\n",
              "  </tbody>\n",
              "</table>\n",
              "</div>"
            ],
            "text/plain": [
              "   location_id country_code country_name  ...  year       pci       eci\n",
              "0            0          ABW        Aruba  ...  1995  3.005267 -0.149358\n",
              "1            0          ABW        Aruba  ...  1995  3.880273 -0.149358\n",
              "2            0          ABW        Aruba  ...  1995  3.770268 -0.149358\n",
              "3            0          ABW        Aruba  ...  1995  2.371247 -0.149358\n",
              "4            0          ABW        Aruba  ...  1995  1.504703 -0.149358\n",
              "\n",
              "[5 rows x 8 columns]"
            ]
          },
          "metadata": {},
          "execution_count": 4
        }
      ]
    },
    {
      "cell_type": "markdown",
      "metadata": {
        "id": "hznHpAF5sD8N"
      },
      "source": [
        "#####Elimino los productos que no se exportaron"
      ]
    },
    {
      "cell_type": "code",
      "metadata": {
        "colab": {
          "base_uri": "https://localhost:8080/",
          "height": 240
        },
        "id": "dSRLZzHt1noT",
        "outputId": "e2d1ccc4-89cb-4cab-ffec-0c578293485b"
      },
      "source": [
        "#df[\"country_name\"].hist(bins=15, figsize=(20, 20), layout=(2, 4));\n",
        "df_c = df_new[df_new.export_value != 0].copy()\n",
        "print(\"Se eliminan los productos que no se exportaron!\")\n",
        "#df_uy = df_c.loc[df[\"country_name\"] == \"Uruguay\"]\n",
        "#print(\"uruguay seleccionado! \")\n",
        "#sns.scatterplot(x=df_uy['year'], y=df_uy['eci'])\n",
        "\n",
        "column_names = [\"location_id\", \"country_code\", \"country_name\",\"product_code\",\"export_value\",\"year\",\"eci\",\"pci\"]\n",
        "print(\"Se reordenan el orden de las columnas\")\n",
        "\n",
        "df_c = df_c.reindex(columns=column_names)\n",
        "df_c.head()"
      ],
      "execution_count": 5,
      "outputs": [
        {
          "output_type": "stream",
          "name": "stdout",
          "text": [
            "Se eliminan los productos que no se exportaron!\n",
            "Se reordenan el orden de las columnas\n"
          ]
        },
        {
          "output_type": "execute_result",
          "data": {
            "text/html": [
              "<div>\n",
              "<style scoped>\n",
              "    .dataframe tbody tr th:only-of-type {\n",
              "        vertical-align: middle;\n",
              "    }\n",
              "\n",
              "    .dataframe tbody tr th {\n",
              "        vertical-align: top;\n",
              "    }\n",
              "\n",
              "    .dataframe thead th {\n",
              "        text-align: right;\n",
              "    }\n",
              "</style>\n",
              "<table border=\"1\" class=\"dataframe\">\n",
              "  <thead>\n",
              "    <tr style=\"text-align: right;\">\n",
              "      <th></th>\n",
              "      <th>location_id</th>\n",
              "      <th>country_code</th>\n",
              "      <th>country_name</th>\n",
              "      <th>product_code</th>\n",
              "      <th>export_value</th>\n",
              "      <th>year</th>\n",
              "      <th>eci</th>\n",
              "      <th>pci</th>\n",
              "    </tr>\n",
              "  </thead>\n",
              "  <tbody>\n",
              "    <tr>\n",
              "      <th>14</th>\n",
              "      <td>0</td>\n",
              "      <td>ABW</td>\n",
              "      <td>Aruba</td>\n",
              "      <td>8415</td>\n",
              "      <td>127324</td>\n",
              "      <td>1995</td>\n",
              "      <td>-0.149358</td>\n",
              "      <td>1.527974</td>\n",
              "    </tr>\n",
              "    <tr>\n",
              "      <th>30</th>\n",
              "      <td>0</td>\n",
              "      <td>ABW</td>\n",
              "      <td>Aruba</td>\n",
              "      <td>7612</td>\n",
              "      <td>141979</td>\n",
              "      <td>1995</td>\n",
              "      <td>-0.149358</td>\n",
              "      <td>2.224087</td>\n",
              "    </tr>\n",
              "    <tr>\n",
              "      <th>35</th>\n",
              "      <td>0</td>\n",
              "      <td>ABW</td>\n",
              "      <td>Aruba</td>\n",
              "      <td>7616</td>\n",
              "      <td>28035</td>\n",
              "      <td>1995</td>\n",
              "      <td>-0.149358</td>\n",
              "      <td>1.868267</td>\n",
              "    </tr>\n",
              "    <tr>\n",
              "      <th>57</th>\n",
              "      <td>0</td>\n",
              "      <td>ABW</td>\n",
              "      <td>Aruba</td>\n",
              "      <td>106</td>\n",
              "      <td>2336</td>\n",
              "      <td>1995</td>\n",
              "      <td>-0.149358</td>\n",
              "      <td>-2.112441</td>\n",
              "    </tr>\n",
              "    <tr>\n",
              "      <th>70</th>\n",
              "      <td>0</td>\n",
              "      <td>ABW</td>\n",
              "      <td>Aruba</td>\n",
              "      <td>4206</td>\n",
              "      <td>41677</td>\n",
              "      <td>1995</td>\n",
              "      <td>-0.149358</td>\n",
              "      <td>0.464937</td>\n",
              "    </tr>\n",
              "  </tbody>\n",
              "</table>\n",
              "</div>"
            ],
            "text/plain": [
              "    location_id country_code country_name  ...  year       eci       pci\n",
              "14            0          ABW        Aruba  ...  1995 -0.149358  1.527974\n",
              "30            0          ABW        Aruba  ...  1995 -0.149358  2.224087\n",
              "35            0          ABW        Aruba  ...  1995 -0.149358  1.868267\n",
              "57            0          ABW        Aruba  ...  1995 -0.149358 -2.112441\n",
              "70            0          ABW        Aruba  ...  1995 -0.149358  0.464937\n",
              "\n",
              "[5 rows x 8 columns]"
            ]
          },
          "metadata": {},
          "execution_count": 5
        }
      ]
    },
    {
      "cell_type": "code",
      "metadata": {
        "id": "V2KAxz8STPbF"
      },
      "source": [
        "df_c.dropna(inplace=True)"
      ],
      "execution_count": null,
      "outputs": []
    },
    {
      "cell_type": "code",
      "metadata": {
        "id": "4MyfElDmgpM_"
      },
      "source": [
        "#df_c.columns = df_c.columns.droplevel(0)\n",
        "\n",
        "#df2 = pd.melt(df_c,id_vars=['location_id','product_code','export_value','eci']).copy()\n",
        "df2 = (df_c.pivot_table(index=['location_id','product_code'], columns='year',\n",
        "                        values=['eci']).reset_index()\n",
        "                        ).copy()\n",
        "df3 = (df_c.pivot_table(index=['location_id','product_code'], columns='year',\n",
        "                        values=['pci']).reset_index()\n",
        "                        ).copy()\n"
      ],
      "execution_count": 68,
      "outputs": []
    },
    {
      "cell_type": "code",
      "metadata": {
        "colab": {
          "base_uri": "https://localhost:8080/",
          "height": 289
        },
        "id": "gysASSby0azf",
        "outputId": "0b826b02-ac5f-43fe-ddec-13b60763ab6d"
      },
      "source": [
        "\n",
        "df2=df2.fillna(0)\n",
        "df3=df3.fillna(0)\n",
        "\n",
        "df2.columns.set_levels(['eci_1995', 'eci_1996', 'eci_1997', 'eci_1998',\n",
        "                        'eci_1999','eci_2000','eci_2001','eci_2002',\n",
        "                        'eci_2003','eci_2004','eci_2005','eci_2006',\n",
        "                        'eci_2007', 'eci_2008','eci_2009','eci_2010',\n",
        "                        'eci_2011', 'eci_2012','eci_2013','eci_2014',\n",
        "                       'eci_2015','eci_2016','eci_2017', 'eci_2018',\n",
        "                         'eci_2019','eci_2020','location_id','product_code',\n",
        "                        ],level=1,inplace=True)\n",
        "\n",
        "df3.columns.set_levels(['pci_1995', 'pci_1996', 'pci_1997','pci_1998',\n",
        "                        'pci_1999','pci_2000','pci_2001','pci_2002',\n",
        "                        'pci_2003','pci_2004','pci_2005','pci_2006',\n",
        "                        'pci_2007', 'pci_2008','pci_2009','pci_2010',\n",
        "                        'pci_2011', 'pci_2012','pci_2013','pci_2014',\n",
        "                       'pci_2015','pci_2016','pci_2017', 'pci_2018',\n",
        "                         'pci_2019','pci_2020','location_id','product_code',\n",
        "                        ],level=1,inplace=True)\n",
        "\n",
        "#df2.sample(n=10)\n",
        "df3.head(6)"
      ],
      "execution_count": 69,
      "outputs": [
        {
          "output_type": "execute_result",
          "data": {
            "text/html": [
              "<div>\n",
              "<style scoped>\n",
              "    .dataframe tbody tr th:only-of-type {\n",
              "        vertical-align: middle;\n",
              "    }\n",
              "\n",
              "    .dataframe tbody tr th {\n",
              "        vertical-align: top;\n",
              "    }\n",
              "\n",
              "    .dataframe thead tr th {\n",
              "        text-align: left;\n",
              "    }\n",
              "</style>\n",
              "<table border=\"1\" class=\"dataframe\">\n",
              "  <thead>\n",
              "    <tr>\n",
              "      <th></th>\n",
              "      <th>location_id</th>\n",
              "      <th>product_code</th>\n",
              "      <th colspan=\"26\" halign=\"left\">pci</th>\n",
              "    </tr>\n",
              "    <tr>\n",
              "      <th>year</th>\n",
              "      <th>location_id</th>\n",
              "      <th>location_id</th>\n",
              "      <th>pci_1995</th>\n",
              "      <th>pci_1996</th>\n",
              "      <th>pci_1997</th>\n",
              "      <th>pci_1998</th>\n",
              "      <th>pci_1999</th>\n",
              "      <th>pci_2000</th>\n",
              "      <th>pci_2001</th>\n",
              "      <th>pci_2002</th>\n",
              "      <th>pci_2003</th>\n",
              "      <th>pci_2004</th>\n",
              "      <th>pci_2005</th>\n",
              "      <th>pci_2006</th>\n",
              "      <th>pci_2007</th>\n",
              "      <th>pci_2008</th>\n",
              "      <th>pci_2009</th>\n",
              "      <th>pci_2010</th>\n",
              "      <th>pci_2011</th>\n",
              "      <th>pci_2012</th>\n",
              "      <th>pci_2013</th>\n",
              "      <th>pci_2014</th>\n",
              "      <th>pci_2015</th>\n",
              "      <th>pci_2016</th>\n",
              "      <th>pci_2017</th>\n",
              "      <th>pci_2018</th>\n",
              "      <th>pci_2019</th>\n",
              "      <th>pci_2020</th>\n",
              "    </tr>\n",
              "  </thead>\n",
              "  <tbody>\n",
              "    <tr>\n",
              "      <th>0</th>\n",
              "      <td>0</td>\n",
              "      <td>101</td>\n",
              "      <td>1.204200</td>\n",
              "      <td>0.0</td>\n",
              "      <td>0.0</td>\n",
              "      <td>0.0</td>\n",
              "      <td>0.954775</td>\n",
              "      <td>0.000000</td>\n",
              "      <td>1.019034</td>\n",
              "      <td>1.277552</td>\n",
              "      <td>1.358104</td>\n",
              "      <td>0.000000</td>\n",
              "      <td>0.249181</td>\n",
              "      <td>0.490051</td>\n",
              "      <td>0.474802</td>\n",
              "      <td>0.394135</td>\n",
              "      <td>-0.173839</td>\n",
              "      <td>0.000000</td>\n",
              "      <td>1.121265</td>\n",
              "      <td>-0.199836</td>\n",
              "      <td>0.826207</td>\n",
              "      <td>0.091668</td>\n",
              "      <td>0.049549</td>\n",
              "      <td>0.000000</td>\n",
              "      <td>1.284984</td>\n",
              "      <td>0.300759</td>\n",
              "      <td>0.968301</td>\n",
              "      <td>1.022077</td>\n",
              "    </tr>\n",
              "    <tr>\n",
              "      <th>1</th>\n",
              "      <td>0</td>\n",
              "      <td>102</td>\n",
              "      <td>0.000000</td>\n",
              "      <td>0.0</td>\n",
              "      <td>0.0</td>\n",
              "      <td>0.0</td>\n",
              "      <td>0.000000</td>\n",
              "      <td>0.000000</td>\n",
              "      <td>0.000000</td>\n",
              "      <td>0.000000</td>\n",
              "      <td>-0.806104</td>\n",
              "      <td>0.000000</td>\n",
              "      <td>0.000000</td>\n",
              "      <td>0.000000</td>\n",
              "      <td>0.000000</td>\n",
              "      <td>0.000000</td>\n",
              "      <td>0.000000</td>\n",
              "      <td>0.000000</td>\n",
              "      <td>0.000000</td>\n",
              "      <td>0.000000</td>\n",
              "      <td>0.000000</td>\n",
              "      <td>0.000000</td>\n",
              "      <td>0.000000</td>\n",
              "      <td>0.000000</td>\n",
              "      <td>0.000000</td>\n",
              "      <td>0.000000</td>\n",
              "      <td>0.000000</td>\n",
              "      <td>0.000000</td>\n",
              "    </tr>\n",
              "    <tr>\n",
              "      <th>2</th>\n",
              "      <td>0</td>\n",
              "      <td>104</td>\n",
              "      <td>0.000000</td>\n",
              "      <td>0.0</td>\n",
              "      <td>0.0</td>\n",
              "      <td>0.0</td>\n",
              "      <td>0.000000</td>\n",
              "      <td>0.000000</td>\n",
              "      <td>0.000000</td>\n",
              "      <td>0.000000</td>\n",
              "      <td>0.000000</td>\n",
              "      <td>0.000000</td>\n",
              "      <td>0.000000</td>\n",
              "      <td>0.000000</td>\n",
              "      <td>0.000000</td>\n",
              "      <td>0.000000</td>\n",
              "      <td>0.000000</td>\n",
              "      <td>0.000000</td>\n",
              "      <td>0.000000</td>\n",
              "      <td>0.000000</td>\n",
              "      <td>-2.411759</td>\n",
              "      <td>0.000000</td>\n",
              "      <td>0.000000</td>\n",
              "      <td>0.000000</td>\n",
              "      <td>0.000000</td>\n",
              "      <td>0.000000</td>\n",
              "      <td>0.000000</td>\n",
              "      <td>0.000000</td>\n",
              "    </tr>\n",
              "    <tr>\n",
              "      <th>3</th>\n",
              "      <td>0</td>\n",
              "      <td>105</td>\n",
              "      <td>0.000000</td>\n",
              "      <td>0.0</td>\n",
              "      <td>0.0</td>\n",
              "      <td>0.0</td>\n",
              "      <td>1.197645</td>\n",
              "      <td>0.000000</td>\n",
              "      <td>0.000000</td>\n",
              "      <td>0.000000</td>\n",
              "      <td>0.000000</td>\n",
              "      <td>-0.078471</td>\n",
              "      <td>0.000000</td>\n",
              "      <td>0.000000</td>\n",
              "      <td>0.000000</td>\n",
              "      <td>1.246119</td>\n",
              "      <td>1.189713</td>\n",
              "      <td>0.798086</td>\n",
              "      <td>0.599276</td>\n",
              "      <td>0.752623</td>\n",
              "      <td>0.956265</td>\n",
              "      <td>0.747184</td>\n",
              "      <td>0.698812</td>\n",
              "      <td>1.069564</td>\n",
              "      <td>0.682853</td>\n",
              "      <td>0.946808</td>\n",
              "      <td>0.843696</td>\n",
              "      <td>0.552820</td>\n",
              "    </tr>\n",
              "    <tr>\n",
              "      <th>4</th>\n",
              "      <td>0</td>\n",
              "      <td>106</td>\n",
              "      <td>-2.112441</td>\n",
              "      <td>0.0</td>\n",
              "      <td>0.0</td>\n",
              "      <td>0.0</td>\n",
              "      <td>0.000000</td>\n",
              "      <td>-1.911484</td>\n",
              "      <td>0.000000</td>\n",
              "      <td>0.000000</td>\n",
              "      <td>0.000000</td>\n",
              "      <td>0.000000</td>\n",
              "      <td>-2.178663</td>\n",
              "      <td>-2.244232</td>\n",
              "      <td>-2.111827</td>\n",
              "      <td>0.000000</td>\n",
              "      <td>-2.217669</td>\n",
              "      <td>-2.307964</td>\n",
              "      <td>-2.640437</td>\n",
              "      <td>-1.334829</td>\n",
              "      <td>0.000000</td>\n",
              "      <td>-1.714427</td>\n",
              "      <td>-2.145250</td>\n",
              "      <td>-1.680247</td>\n",
              "      <td>-1.441735</td>\n",
              "      <td>-1.838082</td>\n",
              "      <td>-1.546296</td>\n",
              "      <td>-0.967672</td>\n",
              "    </tr>\n",
              "    <tr>\n",
              "      <th>5</th>\n",
              "      <td>0</td>\n",
              "      <td>201</td>\n",
              "      <td>0.000000</td>\n",
              "      <td>0.0</td>\n",
              "      <td>0.0</td>\n",
              "      <td>0.0</td>\n",
              "      <td>0.000000</td>\n",
              "      <td>0.000000</td>\n",
              "      <td>0.000000</td>\n",
              "      <td>0.000000</td>\n",
              "      <td>0.000000</td>\n",
              "      <td>0.000000</td>\n",
              "      <td>0.000000</td>\n",
              "      <td>0.000000</td>\n",
              "      <td>0.000000</td>\n",
              "      <td>0.385978</td>\n",
              "      <td>0.000000</td>\n",
              "      <td>0.531470</td>\n",
              "      <td>0.000000</td>\n",
              "      <td>0.000000</td>\n",
              "      <td>0.000000</td>\n",
              "      <td>0.000000</td>\n",
              "      <td>0.000000</td>\n",
              "      <td>-0.106353</td>\n",
              "      <td>0.000000</td>\n",
              "      <td>0.000000</td>\n",
              "      <td>0.000000</td>\n",
              "      <td>0.000000</td>\n",
              "    </tr>\n",
              "  </tbody>\n",
              "</table>\n",
              "</div>"
            ],
            "text/plain": [
              "     location_id product_code       pci  ...                              \n",
              "year location_id  location_id  pci_1995  ...  pci_2018  pci_2019  pci_2020\n",
              "0              0          101  1.204200  ...  0.300759  0.968301  1.022077\n",
              "1              0          102  0.000000  ...  0.000000  0.000000  0.000000\n",
              "2              0          104  0.000000  ...  0.000000  0.000000  0.000000\n",
              "3              0          105  0.000000  ...  0.946808  0.843696  0.552820\n",
              "4              0          106 -2.112441  ... -1.838082 -1.546296 -0.967672\n",
              "5              0          201  0.000000  ...  0.000000  0.000000  0.000000\n",
              "\n",
              "[6 rows x 28 columns]"
            ]
          },
          "metadata": {},
          "execution_count": 69
        }
      ]
    },
    {
      "cell_type": "code",
      "metadata": {
        "colab": {
          "base_uri": "https://localhost:8080/",
          "height": 226
        },
        "id": "vYqAvA9EX3jR",
        "outputId": "f9aedd93-e76e-4ecf-8d6d-a801b1de5f99"
      },
      "source": [
        "df2.columns = df2.columns.get_level_values(0)\n",
        "df3.columns = df3.columns.get_level_values(0)\n",
        "\n",
        "df_cols_eci = ['location_id','product_code','eci_1995', 'eci_1996', 'eci_1997', 'eci_1998',\n",
        "                        'eci_1999','eci_2000','eci_2001','eci_2002',\n",
        "                        'eci_2003','eci_2004','eci_2005','eci_2006',\n",
        "                        'eci_2007', 'eci_2008','eci_2009','eci_2010',\n",
        "                        'eci_2011', 'eci_2012','eci_2013','eci_2014',\n",
        "                       'eci_2015','eci_2016','eci_2017', 'eci_2018',\n",
        "                         'eci_2019','eci_2020'] #debo borrar esto\n",
        "\n",
        "df_cols_pci = ['location_id','product_code','pci_1995', 'pci_1996', 'pci_1997', 'pci_1998',\n",
        "                        'pci_1999','pci_2000','pci_2001','pci_2002',\n",
        "                        'pci_2003','pci_2004','pci_2005','pci_2006',\n",
        "                        'pci_2007', 'pci_2008','pci_2009','pci_2010',\n",
        "                        'pci_2011', 'pci_2012','pci_2013','pci_2014',\n",
        "                       'pci_2015','pci_2016','pci_2017', 'pci_2018',\n",
        "                         'pci_2019','pci_2020']                         \n",
        "\n",
        "\n",
        "df2.columns = df_cols_eci.copy()\n",
        "df2=df2.drop(columns=['eci_2019', 'eci_2020'])\n",
        "df3.columns = df_cols_pci.copy()\n",
        "df3=df3.drop(columns=['pci_2020'])\n",
        "\n",
        "df3.head()"
      ],
      "execution_count": 201,
      "outputs": [
        {
          "output_type": "execute_result",
          "data": {
            "text/html": [
              "<div>\n",
              "<style scoped>\n",
              "    .dataframe tbody tr th:only-of-type {\n",
              "        vertical-align: middle;\n",
              "    }\n",
              "\n",
              "    .dataframe tbody tr th {\n",
              "        vertical-align: top;\n",
              "    }\n",
              "\n",
              "    .dataframe thead th {\n",
              "        text-align: right;\n",
              "    }\n",
              "</style>\n",
              "<table border=\"1\" class=\"dataframe\">\n",
              "  <thead>\n",
              "    <tr style=\"text-align: right;\">\n",
              "      <th></th>\n",
              "      <th>location_id</th>\n",
              "      <th>product_code</th>\n",
              "      <th>pci_1995</th>\n",
              "      <th>pci_1996</th>\n",
              "      <th>pci_1997</th>\n",
              "      <th>pci_1998</th>\n",
              "      <th>pci_1999</th>\n",
              "      <th>pci_2000</th>\n",
              "      <th>pci_2001</th>\n",
              "      <th>pci_2002</th>\n",
              "      <th>pci_2003</th>\n",
              "      <th>pci_2004</th>\n",
              "      <th>pci_2005</th>\n",
              "      <th>pci_2006</th>\n",
              "      <th>pci_2007</th>\n",
              "      <th>pci_2008</th>\n",
              "      <th>pci_2009</th>\n",
              "      <th>pci_2010</th>\n",
              "      <th>pci_2011</th>\n",
              "      <th>pci_2012</th>\n",
              "      <th>pci_2013</th>\n",
              "      <th>pci_2014</th>\n",
              "      <th>pci_2015</th>\n",
              "      <th>pci_2016</th>\n",
              "      <th>pci_2017</th>\n",
              "      <th>pci_2018</th>\n",
              "      <th>pci_2019</th>\n",
              "    </tr>\n",
              "  </thead>\n",
              "  <tbody>\n",
              "    <tr>\n",
              "      <th>0</th>\n",
              "      <td>0</td>\n",
              "      <td>101</td>\n",
              "      <td>1.204200</td>\n",
              "      <td>0.0</td>\n",
              "      <td>0.0</td>\n",
              "      <td>0.0</td>\n",
              "      <td>0.954775</td>\n",
              "      <td>0.000000</td>\n",
              "      <td>1.019034</td>\n",
              "      <td>1.277552</td>\n",
              "      <td>1.358104</td>\n",
              "      <td>0.000000</td>\n",
              "      <td>0.249181</td>\n",
              "      <td>0.490051</td>\n",
              "      <td>0.474802</td>\n",
              "      <td>0.394135</td>\n",
              "      <td>-0.173839</td>\n",
              "      <td>0.000000</td>\n",
              "      <td>1.121265</td>\n",
              "      <td>-0.199836</td>\n",
              "      <td>0.826207</td>\n",
              "      <td>0.091668</td>\n",
              "      <td>0.049549</td>\n",
              "      <td>0.000000</td>\n",
              "      <td>1.284984</td>\n",
              "      <td>0.300759</td>\n",
              "      <td>0.968301</td>\n",
              "    </tr>\n",
              "    <tr>\n",
              "      <th>1</th>\n",
              "      <td>0</td>\n",
              "      <td>102</td>\n",
              "      <td>0.000000</td>\n",
              "      <td>0.0</td>\n",
              "      <td>0.0</td>\n",
              "      <td>0.0</td>\n",
              "      <td>0.000000</td>\n",
              "      <td>0.000000</td>\n",
              "      <td>0.000000</td>\n",
              "      <td>0.000000</td>\n",
              "      <td>-0.806104</td>\n",
              "      <td>0.000000</td>\n",
              "      <td>0.000000</td>\n",
              "      <td>0.000000</td>\n",
              "      <td>0.000000</td>\n",
              "      <td>0.000000</td>\n",
              "      <td>0.000000</td>\n",
              "      <td>0.000000</td>\n",
              "      <td>0.000000</td>\n",
              "      <td>0.000000</td>\n",
              "      <td>0.000000</td>\n",
              "      <td>0.000000</td>\n",
              "      <td>0.000000</td>\n",
              "      <td>0.000000</td>\n",
              "      <td>0.000000</td>\n",
              "      <td>0.000000</td>\n",
              "      <td>0.000000</td>\n",
              "    </tr>\n",
              "    <tr>\n",
              "      <th>2</th>\n",
              "      <td>0</td>\n",
              "      <td>104</td>\n",
              "      <td>0.000000</td>\n",
              "      <td>0.0</td>\n",
              "      <td>0.0</td>\n",
              "      <td>0.0</td>\n",
              "      <td>0.000000</td>\n",
              "      <td>0.000000</td>\n",
              "      <td>0.000000</td>\n",
              "      <td>0.000000</td>\n",
              "      <td>0.000000</td>\n",
              "      <td>0.000000</td>\n",
              "      <td>0.000000</td>\n",
              "      <td>0.000000</td>\n",
              "      <td>0.000000</td>\n",
              "      <td>0.000000</td>\n",
              "      <td>0.000000</td>\n",
              "      <td>0.000000</td>\n",
              "      <td>0.000000</td>\n",
              "      <td>0.000000</td>\n",
              "      <td>-2.411759</td>\n",
              "      <td>0.000000</td>\n",
              "      <td>0.000000</td>\n",
              "      <td>0.000000</td>\n",
              "      <td>0.000000</td>\n",
              "      <td>0.000000</td>\n",
              "      <td>0.000000</td>\n",
              "    </tr>\n",
              "    <tr>\n",
              "      <th>3</th>\n",
              "      <td>0</td>\n",
              "      <td>105</td>\n",
              "      <td>0.000000</td>\n",
              "      <td>0.0</td>\n",
              "      <td>0.0</td>\n",
              "      <td>0.0</td>\n",
              "      <td>1.197645</td>\n",
              "      <td>0.000000</td>\n",
              "      <td>0.000000</td>\n",
              "      <td>0.000000</td>\n",
              "      <td>0.000000</td>\n",
              "      <td>-0.078471</td>\n",
              "      <td>0.000000</td>\n",
              "      <td>0.000000</td>\n",
              "      <td>0.000000</td>\n",
              "      <td>1.246119</td>\n",
              "      <td>1.189713</td>\n",
              "      <td>0.798086</td>\n",
              "      <td>0.599276</td>\n",
              "      <td>0.752623</td>\n",
              "      <td>0.956265</td>\n",
              "      <td>0.747184</td>\n",
              "      <td>0.698812</td>\n",
              "      <td>1.069564</td>\n",
              "      <td>0.682853</td>\n",
              "      <td>0.946808</td>\n",
              "      <td>0.843696</td>\n",
              "    </tr>\n",
              "    <tr>\n",
              "      <th>4</th>\n",
              "      <td>0</td>\n",
              "      <td>106</td>\n",
              "      <td>-2.112441</td>\n",
              "      <td>0.0</td>\n",
              "      <td>0.0</td>\n",
              "      <td>0.0</td>\n",
              "      <td>0.000000</td>\n",
              "      <td>-1.911484</td>\n",
              "      <td>0.000000</td>\n",
              "      <td>0.000000</td>\n",
              "      <td>0.000000</td>\n",
              "      <td>0.000000</td>\n",
              "      <td>-2.178663</td>\n",
              "      <td>-2.244232</td>\n",
              "      <td>-2.111827</td>\n",
              "      <td>0.000000</td>\n",
              "      <td>-2.217669</td>\n",
              "      <td>-2.307964</td>\n",
              "      <td>-2.640437</td>\n",
              "      <td>-1.334829</td>\n",
              "      <td>0.000000</td>\n",
              "      <td>-1.714427</td>\n",
              "      <td>-2.145250</td>\n",
              "      <td>-1.680247</td>\n",
              "      <td>-1.441735</td>\n",
              "      <td>-1.838082</td>\n",
              "      <td>-1.546296</td>\n",
              "    </tr>\n",
              "  </tbody>\n",
              "</table>\n",
              "</div>"
            ],
            "text/plain": [
              "   location_id  product_code  pci_1995  ...  pci_2017  pci_2018  pci_2019\n",
              "0            0           101  1.204200  ...  1.284984  0.300759  0.968301\n",
              "1            0           102  0.000000  ...  0.000000  0.000000  0.000000\n",
              "2            0           104  0.000000  ...  0.000000  0.000000  0.000000\n",
              "3            0           105  0.000000  ...  0.682853  0.946808  0.843696\n",
              "4            0           106 -2.112441  ... -1.441735 -1.838082 -1.546296\n",
              "\n",
              "[5 rows x 27 columns]"
            ]
          },
          "metadata": {},
          "execution_count": 201
        }
      ]
    },
    {
      "cell_type": "code",
      "metadata": {
        "colab": {
          "base_uri": "https://localhost:8080/",
          "height": 226
        },
        "id": "Y7dZCCZea_A6",
        "outputId": "ed58eab8-e9e6-4bd0-a6ff-0d9d947c9cc9"
      },
      "source": [
        "df_t = pd.merge(df2, df3, on=[\"location_id\",\"product_code\"])\n",
        "df_t.head()\n"
      ],
      "execution_count": 217,
      "outputs": [
        {
          "output_type": "execute_result",
          "data": {
            "text/html": [
              "<div>\n",
              "<style scoped>\n",
              "    .dataframe tbody tr th:only-of-type {\n",
              "        vertical-align: middle;\n",
              "    }\n",
              "\n",
              "    .dataframe tbody tr th {\n",
              "        vertical-align: top;\n",
              "    }\n",
              "\n",
              "    .dataframe thead th {\n",
              "        text-align: right;\n",
              "    }\n",
              "</style>\n",
              "<table border=\"1\" class=\"dataframe\">\n",
              "  <thead>\n",
              "    <tr style=\"text-align: right;\">\n",
              "      <th></th>\n",
              "      <th>location_id</th>\n",
              "      <th>product_code</th>\n",
              "      <th>eci_1995</th>\n",
              "      <th>eci_1996</th>\n",
              "      <th>eci_1997</th>\n",
              "      <th>eci_1998</th>\n",
              "      <th>eci_1999</th>\n",
              "      <th>eci_2000</th>\n",
              "      <th>eci_2001</th>\n",
              "      <th>eci_2002</th>\n",
              "      <th>eci_2003</th>\n",
              "      <th>eci_2004</th>\n",
              "      <th>eci_2005</th>\n",
              "      <th>eci_2006</th>\n",
              "      <th>eci_2007</th>\n",
              "      <th>eci_2008</th>\n",
              "      <th>eci_2009</th>\n",
              "      <th>eci_2010</th>\n",
              "      <th>eci_2011</th>\n",
              "      <th>eci_2012</th>\n",
              "      <th>eci_2013</th>\n",
              "      <th>eci_2014</th>\n",
              "      <th>eci_2015</th>\n",
              "      <th>eci_2016</th>\n",
              "      <th>eci_2017</th>\n",
              "      <th>eci_2018</th>\n",
              "      <th>pci_1995</th>\n",
              "      <th>pci_1996</th>\n",
              "      <th>pci_1997</th>\n",
              "      <th>pci_1998</th>\n",
              "      <th>pci_1999</th>\n",
              "      <th>pci_2000</th>\n",
              "      <th>pci_2001</th>\n",
              "      <th>pci_2002</th>\n",
              "      <th>pci_2003</th>\n",
              "      <th>pci_2004</th>\n",
              "      <th>pci_2005</th>\n",
              "      <th>pci_2006</th>\n",
              "      <th>pci_2007</th>\n",
              "      <th>pci_2008</th>\n",
              "      <th>pci_2009</th>\n",
              "      <th>pci_2010</th>\n",
              "      <th>pci_2011</th>\n",
              "      <th>pci_2012</th>\n",
              "      <th>pci_2013</th>\n",
              "      <th>pci_2014</th>\n",
              "      <th>pci_2015</th>\n",
              "      <th>pci_2016</th>\n",
              "      <th>pci_2017</th>\n",
              "      <th>pci_2018</th>\n",
              "      <th>pci_2019</th>\n",
              "    </tr>\n",
              "  </thead>\n",
              "  <tbody>\n",
              "    <tr>\n",
              "      <th>0</th>\n",
              "      <td>0</td>\n",
              "      <td>101</td>\n",
              "      <td>-0.149358</td>\n",
              "      <td>0.0</td>\n",
              "      <td>0.0</td>\n",
              "      <td>0.0</td>\n",
              "      <td>0.006876</td>\n",
              "      <td>0.000000</td>\n",
              "      <td>0.141701</td>\n",
              "      <td>-0.189418</td>\n",
              "      <td>-0.199274</td>\n",
              "      <td>0.000000</td>\n",
              "      <td>0.256492</td>\n",
              "      <td>0.067235</td>\n",
              "      <td>-0.018397</td>\n",
              "      <td>-0.02665</td>\n",
              "      <td>0.677349</td>\n",
              "      <td>0.000000</td>\n",
              "      <td>-0.358337</td>\n",
              "      <td>0.244023</td>\n",
              "      <td>0.705739</td>\n",
              "      <td>0.778916</td>\n",
              "      <td>0.735923</td>\n",
              "      <td>0.000000</td>\n",
              "      <td>0.86745</td>\n",
              "      <td>0.929084</td>\n",
              "      <td>1.204200</td>\n",
              "      <td>0.0</td>\n",
              "      <td>0.0</td>\n",
              "      <td>0.0</td>\n",
              "      <td>0.954775</td>\n",
              "      <td>0.000000</td>\n",
              "      <td>1.019034</td>\n",
              "      <td>1.277552</td>\n",
              "      <td>1.358104</td>\n",
              "      <td>0.000000</td>\n",
              "      <td>0.249181</td>\n",
              "      <td>0.490051</td>\n",
              "      <td>0.474802</td>\n",
              "      <td>0.394135</td>\n",
              "      <td>-0.173839</td>\n",
              "      <td>0.000000</td>\n",
              "      <td>1.121265</td>\n",
              "      <td>-0.199836</td>\n",
              "      <td>0.826207</td>\n",
              "      <td>0.091668</td>\n",
              "      <td>0.049549</td>\n",
              "      <td>0.000000</td>\n",
              "      <td>1.284984</td>\n",
              "      <td>0.300759</td>\n",
              "      <td>0.968301</td>\n",
              "    </tr>\n",
              "    <tr>\n",
              "      <th>1</th>\n",
              "      <td>0</td>\n",
              "      <td>102</td>\n",
              "      <td>0.000000</td>\n",
              "      <td>0.0</td>\n",
              "      <td>0.0</td>\n",
              "      <td>0.0</td>\n",
              "      <td>0.000000</td>\n",
              "      <td>0.000000</td>\n",
              "      <td>0.000000</td>\n",
              "      <td>0.000000</td>\n",
              "      <td>-0.199274</td>\n",
              "      <td>0.000000</td>\n",
              "      <td>0.000000</td>\n",
              "      <td>0.000000</td>\n",
              "      <td>0.000000</td>\n",
              "      <td>0.00000</td>\n",
              "      <td>0.000000</td>\n",
              "      <td>0.000000</td>\n",
              "      <td>0.000000</td>\n",
              "      <td>0.000000</td>\n",
              "      <td>0.000000</td>\n",
              "      <td>0.000000</td>\n",
              "      <td>0.000000</td>\n",
              "      <td>0.000000</td>\n",
              "      <td>0.00000</td>\n",
              "      <td>0.000000</td>\n",
              "      <td>0.000000</td>\n",
              "      <td>0.0</td>\n",
              "      <td>0.0</td>\n",
              "      <td>0.0</td>\n",
              "      <td>0.000000</td>\n",
              "      <td>0.000000</td>\n",
              "      <td>0.000000</td>\n",
              "      <td>0.000000</td>\n",
              "      <td>-0.806104</td>\n",
              "      <td>0.000000</td>\n",
              "      <td>0.000000</td>\n",
              "      <td>0.000000</td>\n",
              "      <td>0.000000</td>\n",
              "      <td>0.000000</td>\n",
              "      <td>0.000000</td>\n",
              "      <td>0.000000</td>\n",
              "      <td>0.000000</td>\n",
              "      <td>0.000000</td>\n",
              "      <td>0.000000</td>\n",
              "      <td>0.000000</td>\n",
              "      <td>0.000000</td>\n",
              "      <td>0.000000</td>\n",
              "      <td>0.000000</td>\n",
              "      <td>0.000000</td>\n",
              "      <td>0.000000</td>\n",
              "    </tr>\n",
              "    <tr>\n",
              "      <th>2</th>\n",
              "      <td>0</td>\n",
              "      <td>104</td>\n",
              "      <td>0.000000</td>\n",
              "      <td>0.0</td>\n",
              "      <td>0.0</td>\n",
              "      <td>0.0</td>\n",
              "      <td>0.000000</td>\n",
              "      <td>0.000000</td>\n",
              "      <td>0.000000</td>\n",
              "      <td>0.000000</td>\n",
              "      <td>0.000000</td>\n",
              "      <td>0.000000</td>\n",
              "      <td>0.000000</td>\n",
              "      <td>0.000000</td>\n",
              "      <td>0.000000</td>\n",
              "      <td>0.00000</td>\n",
              "      <td>0.000000</td>\n",
              "      <td>0.000000</td>\n",
              "      <td>0.000000</td>\n",
              "      <td>0.000000</td>\n",
              "      <td>0.705739</td>\n",
              "      <td>0.000000</td>\n",
              "      <td>0.000000</td>\n",
              "      <td>0.000000</td>\n",
              "      <td>0.00000</td>\n",
              "      <td>0.000000</td>\n",
              "      <td>0.000000</td>\n",
              "      <td>0.0</td>\n",
              "      <td>0.0</td>\n",
              "      <td>0.0</td>\n",
              "      <td>0.000000</td>\n",
              "      <td>0.000000</td>\n",
              "      <td>0.000000</td>\n",
              "      <td>0.000000</td>\n",
              "      <td>0.000000</td>\n",
              "      <td>0.000000</td>\n",
              "      <td>0.000000</td>\n",
              "      <td>0.000000</td>\n",
              "      <td>0.000000</td>\n",
              "      <td>0.000000</td>\n",
              "      <td>0.000000</td>\n",
              "      <td>0.000000</td>\n",
              "      <td>0.000000</td>\n",
              "      <td>0.000000</td>\n",
              "      <td>-2.411759</td>\n",
              "      <td>0.000000</td>\n",
              "      <td>0.000000</td>\n",
              "      <td>0.000000</td>\n",
              "      <td>0.000000</td>\n",
              "      <td>0.000000</td>\n",
              "      <td>0.000000</td>\n",
              "    </tr>\n",
              "    <tr>\n",
              "      <th>3</th>\n",
              "      <td>0</td>\n",
              "      <td>105</td>\n",
              "      <td>0.000000</td>\n",
              "      <td>0.0</td>\n",
              "      <td>0.0</td>\n",
              "      <td>0.0</td>\n",
              "      <td>0.006876</td>\n",
              "      <td>0.000000</td>\n",
              "      <td>0.000000</td>\n",
              "      <td>0.000000</td>\n",
              "      <td>0.000000</td>\n",
              "      <td>-0.468775</td>\n",
              "      <td>0.000000</td>\n",
              "      <td>0.000000</td>\n",
              "      <td>0.000000</td>\n",
              "      <td>-0.02665</td>\n",
              "      <td>0.677349</td>\n",
              "      <td>1.086779</td>\n",
              "      <td>-0.358337</td>\n",
              "      <td>0.244023</td>\n",
              "      <td>0.705739</td>\n",
              "      <td>0.778916</td>\n",
              "      <td>0.735923</td>\n",
              "      <td>0.974295</td>\n",
              "      <td>0.86745</td>\n",
              "      <td>0.929084</td>\n",
              "      <td>0.000000</td>\n",
              "      <td>0.0</td>\n",
              "      <td>0.0</td>\n",
              "      <td>0.0</td>\n",
              "      <td>1.197645</td>\n",
              "      <td>0.000000</td>\n",
              "      <td>0.000000</td>\n",
              "      <td>0.000000</td>\n",
              "      <td>0.000000</td>\n",
              "      <td>-0.078471</td>\n",
              "      <td>0.000000</td>\n",
              "      <td>0.000000</td>\n",
              "      <td>0.000000</td>\n",
              "      <td>1.246119</td>\n",
              "      <td>1.189713</td>\n",
              "      <td>0.798086</td>\n",
              "      <td>0.599276</td>\n",
              "      <td>0.752623</td>\n",
              "      <td>0.956265</td>\n",
              "      <td>0.747184</td>\n",
              "      <td>0.698812</td>\n",
              "      <td>1.069564</td>\n",
              "      <td>0.682853</td>\n",
              "      <td>0.946808</td>\n",
              "      <td>0.843696</td>\n",
              "    </tr>\n",
              "    <tr>\n",
              "      <th>4</th>\n",
              "      <td>0</td>\n",
              "      <td>106</td>\n",
              "      <td>-0.149358</td>\n",
              "      <td>0.0</td>\n",
              "      <td>0.0</td>\n",
              "      <td>0.0</td>\n",
              "      <td>0.000000</td>\n",
              "      <td>0.312097</td>\n",
              "      <td>0.000000</td>\n",
              "      <td>0.000000</td>\n",
              "      <td>0.000000</td>\n",
              "      <td>0.000000</td>\n",
              "      <td>0.256492</td>\n",
              "      <td>0.067235</td>\n",
              "      <td>-0.018397</td>\n",
              "      <td>0.00000</td>\n",
              "      <td>0.677349</td>\n",
              "      <td>1.086779</td>\n",
              "      <td>-0.358337</td>\n",
              "      <td>0.244023</td>\n",
              "      <td>0.000000</td>\n",
              "      <td>0.778916</td>\n",
              "      <td>0.735923</td>\n",
              "      <td>0.974295</td>\n",
              "      <td>0.86745</td>\n",
              "      <td>0.929084</td>\n",
              "      <td>-2.112441</td>\n",
              "      <td>0.0</td>\n",
              "      <td>0.0</td>\n",
              "      <td>0.0</td>\n",
              "      <td>0.000000</td>\n",
              "      <td>-1.911484</td>\n",
              "      <td>0.000000</td>\n",
              "      <td>0.000000</td>\n",
              "      <td>0.000000</td>\n",
              "      <td>0.000000</td>\n",
              "      <td>-2.178663</td>\n",
              "      <td>-2.244232</td>\n",
              "      <td>-2.111827</td>\n",
              "      <td>0.000000</td>\n",
              "      <td>-2.217669</td>\n",
              "      <td>-2.307964</td>\n",
              "      <td>-2.640437</td>\n",
              "      <td>-1.334829</td>\n",
              "      <td>0.000000</td>\n",
              "      <td>-1.714427</td>\n",
              "      <td>-2.145250</td>\n",
              "      <td>-1.680247</td>\n",
              "      <td>-1.441735</td>\n",
              "      <td>-1.838082</td>\n",
              "      <td>-1.546296</td>\n",
              "    </tr>\n",
              "  </tbody>\n",
              "</table>\n",
              "</div>"
            ],
            "text/plain": [
              "   location_id  product_code  eci_1995  ...  pci_2017  pci_2018  pci_2019\n",
              "0            0           101 -0.149358  ...  1.284984  0.300759  0.968301\n",
              "1            0           102  0.000000  ...  0.000000  0.000000  0.000000\n",
              "2            0           104  0.000000  ...  0.000000  0.000000  0.000000\n",
              "3            0           105  0.000000  ...  0.682853  0.946808  0.843696\n",
              "4            0           106 -0.149358  ... -1.441735 -1.838082 -1.546296\n",
              "\n",
              "[5 rows x 51 columns]"
            ]
          },
          "metadata": {},
          "execution_count": 217
        }
      ]
    },
    {
      "cell_type": "markdown",
      "metadata": {
        "id": "6iU0jS0YdAq-"
      },
      "source": [
        "###Variables dependientes\n",
        "#####Asigno la variable pci como variable dependiente"
      ]
    },
    {
      "cell_type": "code",
      "metadata": {
        "colab": {
          "base_uri": "https://localhost:8080/"
        },
        "id": "mrJLSWI-bL1p",
        "outputId": "2f865d4e-c9a2-4308-f048-25e768949e58"
      },
      "source": [
        "#Y = df_c['pci'].values\n",
        "#Y = df_c.iloc[:,7].values\n",
        "Y = df_t.iloc[:,50].values\n",
        "Y "
      ],
      "execution_count": 226,
      "outputs": [
        {
          "output_type": "execute_result",
          "data": {
            "text/plain": [
              "array([ 0.96830111,  0.        ,  0.        , ..., -0.26607276,\n",
              "       -1.42070182,  0.8026207 ])"
            ]
          },
          "metadata": {},
          "execution_count": 226
        }
      ]
    },
    {
      "cell_type": "markdown",
      "metadata": {
        "id": "wWko8Bh2c8Tk"
      },
      "source": [
        "###Definiendo variables independientes"
      ]
    },
    {
      "cell_type": "code",
      "metadata": {
        "id": "PBcZ6H6NcMsx",
        "colab": {
          "base_uri": "https://localhost:8080/"
        },
        "outputId": "0821ef1a-364e-4540-d0be-5d48c23669cc"
      },
      "source": [
        "\n",
        "#X = df_c.drop(labels=[\"country_name\",\"country_code\"],axis=1).copy()\n",
        "X = df_t.copy()\n",
        "X = X.iloc[:,0:50].values\n",
        "df_x = pd.DataFrame(X)\n",
        "X[0,49]"
      ],
      "execution_count": 230,
      "outputs": [
        {
          "output_type": "execute_result",
          "data": {
            "text/plain": [
              "0.3007590448392741"
            ]
          },
          "metadata": {},
          "execution_count": 230
        }
      ]
    },
    {
      "cell_type": "code",
      "metadata": {
        "id": "O_FIT95wctMr"
      },
      "source": [
        "X_train, X_test, Y_train, Y_test = train_test_split(X,Y, test_size=0.33,random_state=1)"
      ],
      "execution_count": 231,
      "outputs": []
    },
    {
      "cell_type": "code",
      "metadata": {
        "colab": {
          "base_uri": "https://localhost:8080/"
        },
        "id": "EK56PX32ctXZ",
        "outputId": "8cbda875-5c78-47b0-a6b7-8abfe216b8aa"
      },
      "source": [
        "#print(X_test)\n",
        "print(X_train.shape, X_test.shape, Y_train.shape, Y_test.shape)\n",
        "print(X_train[:2, :])"
      ],
      "execution_count": 232,
      "outputs": [
        {
          "output_type": "stream",
          "name": "stdout",
          "text": [
            "(156416, 50) (77041, 50) (156416,) (77041,)\n",
            "[[ 1.71000000e+02  8.71400000e+03  0.00000000e+00  0.00000000e+00\n",
            "   0.00000000e+00  0.00000000e+00  0.00000000e+00  0.00000000e+00\n",
            "   0.00000000e+00  0.00000000e+00  0.00000000e+00  0.00000000e+00\n",
            "   0.00000000e+00  0.00000000e+00  0.00000000e+00  0.00000000e+00\n",
            "   0.00000000e+00  0.00000000e+00  0.00000000e+00  1.06045835e+00\n",
            "   0.00000000e+00  0.00000000e+00  0.00000000e+00  0.00000000e+00\n",
            "   0.00000000e+00  0.00000000e+00  0.00000000e+00  0.00000000e+00\n",
            "   0.00000000e+00  0.00000000e+00  0.00000000e+00  0.00000000e+00\n",
            "   0.00000000e+00  0.00000000e+00  0.00000000e+00  0.00000000e+00\n",
            "   0.00000000e+00  0.00000000e+00  0.00000000e+00  0.00000000e+00\n",
            "   0.00000000e+00  0.00000000e+00  0.00000000e+00  1.33183031e+00\n",
            "   0.00000000e+00  0.00000000e+00  0.00000000e+00  0.00000000e+00\n",
            "   0.00000000e+00  0.00000000e+00]\n",
            " [ 1.08000000e+02  3.30500000e+03  0.00000000e+00  0.00000000e+00\n",
            "   0.00000000e+00  0.00000000e+00  0.00000000e+00  0.00000000e+00\n",
            "   0.00000000e+00  0.00000000e+00  0.00000000e+00 -1.07174557e+00\n",
            "   0.00000000e+00  0.00000000e+00  0.00000000e+00 -2.11543771e+00\n",
            "  -1.36135006e+00 -1.88517640e+00 -1.70670319e+00 -1.15341303e+01\n",
            "  -3.06637864e+00 -3.15500439e+00 -1.94097129e+00 -2.74201819e+00\n",
            "  -1.98840151e+00 -2.24281198e+00  0.00000000e+00  0.00000000e+00\n",
            "   0.00000000e+00  0.00000000e+00  0.00000000e+00  0.00000000e+00\n",
            "   0.00000000e+00  0.00000000e+00  0.00000000e+00  1.19566353e+00\n",
            "   0.00000000e+00  0.00000000e+00  0.00000000e+00  7.42728146e-01\n",
            "   6.55346800e-01  4.91840904e-01  6.95690837e-01  5.36923750e-01\n",
            "   1.01127045e+00  1.30974408e+00  8.59431595e-01  8.80927304e-01\n",
            "   9.87540808e-01  1.09494963e+00]]\n"
          ]
        }
      ]
    },
    {
      "cell_type": "code",
      "metadata": {
        "id": "Phl2k2zSNCZp"
      },
      "source": [
        "# Feature Scaling\n",
        "from sklearn.preprocessing import StandardScaler\n",
        "\n",
        "sc = StandardScaler()\n",
        "#X = sc.fit_transform(X)\n",
        "X_train = sc.fit_transform(X_train)\n",
        "#Y = sc.transform(Y)\n",
        "Y_test = sc.transform(X_test)"
      ],
      "execution_count": 79,
      "outputs": []
    },
    {
      "cell_type": "markdown",
      "metadata": {
        "id": "8EemfgwbIOEl"
      },
      "source": [
        "###Model Random Forest Regression"
      ]
    },
    {
      "cell_type": "code",
      "metadata": {
        "id": "Vagtq7UWctgp"
      },
      "source": [
        "from sklearn.ensemble import RandomForestRegressor\n",
        "\n",
        "#model = RandomForestRegressor(n_estimators=10, random_state=30)\n",
        "#model = RandomForestRegressor(n_estimators=50, random_state=0, bootstrap=True)\n",
        "regressor = RandomForestRegressor(n_estimators=100, random_state=1)\n",
        "\n"
      ],
      "execution_count": 233,
      "outputs": []
    },
    {
      "cell_type": "code",
      "metadata": {
        "colab": {
          "base_uri": "https://localhost:8080/"
        },
        "id": "a-bhIvnMHl16",
        "outputId": "cc031429-936c-4ea7-a909-0bea0a33e66e"
      },
      "source": [
        "regressor.fit(X_train,Y_train)\n"
      ],
      "execution_count": 234,
      "outputs": [
        {
          "output_type": "execute_result",
          "data": {
            "text/plain": [
              "RandomForestRegressor(random_state=1)"
            ]
          },
          "metadata": {},
          "execution_count": 234
        }
      ]
    },
    {
      "cell_type": "markdown",
      "metadata": {
        "id": "G2F3_agWHsdP"
      },
      "source": [
        "##CHECK OUT"
      ]
    },
    {
      "cell_type": "code",
      "metadata": {
        "id": "ehF3cYOiHrjI",
        "colab": {
          "base_uri": "https://localhost:8080/"
        },
        "outputId": "5727e732-7072-41a2-c10f-0df349ead357"
      },
      "source": [
        "from sklearn.metrics import mean_absolute_error\n",
        "y_pred=regressor.predict(X_test)\n",
        "#y_pred=regressor.predict(X)\n",
        "mae = mean_absolute_error(Y_test, y_pred)\n",
        "print('MAE: %.3f' % mae)"
      ],
      "execution_count": 235,
      "outputs": [
        {
          "output_type": "stream",
          "name": "stdout",
          "text": [
            "MAE: 0.261\n"
          ]
        }
      ]
    },
    {
      "cell_type": "code",
      "metadata": {
        "colab": {
          "base_uri": "https://localhost:8080/"
        },
        "id": "ooLta82qLD2F",
        "outputId": "d9bfc157-5552-49ee-b8ce-11bc9a239f75"
      },
      "source": [
        "print(y_pred.shape)\n",
        "print(y_pred)\n",
        "y_pred[4]"
      ],
      "execution_count": 210,
      "outputs": [
        {
          "output_type": "stream",
          "name": "stdout",
          "text": [
            "(77041,)\n",
            "[0.07017222 3.66563451 2.04225348 ... 0.54892662 1.85767034 0.68716364]\n"
          ]
        },
        {
          "output_type": "execute_result",
          "data": {
            "text/plain": [
              "0.8447588151186818"
            ]
          },
          "metadata": {},
          "execution_count": 210
        }
      ]
    },
    {
      "cell_type": "code",
      "metadata": {
        "colab": {
          "base_uri": "https://localhost:8080/"
        },
        "id": "JeV1mos5fXk6",
        "outputId": "83c07c23-07da-4869-93f2-0ee44151656c"
      },
      "source": [
        "regressor.feature_importances_\n"
      ],
      "execution_count": 236,
      "outputs": [
        {
          "output_type": "execute_result",
          "data": {
            "text/plain": [
              "array([0.01158749, 0.01424045, 0.0017098 , 0.00198927, 0.00192923,\n",
              "       0.00194139, 0.00195229, 0.00198911, 0.00212577, 0.00218366,\n",
              "       0.00225337, 0.00211221, 0.00220401, 0.0023796 , 0.00226047,\n",
              "       0.0023706 , 0.00263243, 0.00242944, 0.0025058 , 0.00296192,\n",
              "       0.00253282, 0.00240682, 0.00231558, 0.00243147, 0.00226514,\n",
              "       0.00271462, 0.00291338, 0.00307092, 0.00293062, 0.00294914,\n",
              "       0.00335735, 0.00362068, 0.00378025, 0.00436702, 0.00431314,\n",
              "       0.0043188 , 0.00493221, 0.00586314, 0.00645347, 0.00633461,\n",
              "       0.00632814, 0.00686251, 0.00813085, 0.00805625, 0.01425139,\n",
              "       0.01691404, 0.02812559, 0.01800026, 0.11099258, 0.64270892])"
            ]
          },
          "metadata": {},
          "execution_count": 236
        }
      ]
    },
    {
      "cell_type": "code",
      "metadata": {
        "colab": {
          "base_uri": "https://localhost:8080/",
          "height": 302
        },
        "id": "hZ77bIFsx4yy",
        "outputId": "f0e0ac51-39e1-4ffc-db3b-b4fbbdc07fb3"
      },
      "source": [
        "#plt.barh(, regressor.feature_importances_)\n",
        "#features_names=list(df_t.columns)\n",
        "#plt.bhdf_t.features_names\n",
        "#plt.barh(features_names, regressor.feature_importances_)\n",
        "features=list(df_t[['location_id','product_code','eci_1995', 'eci_1996', 'eci_1997', 'eci_1998',\n",
        "                        'eci_1999','eci_2000','eci_2001','eci_2002',\n",
        "                        'eci_2003','eci_2004','eci_2005','eci_2006',\n",
        "                        'eci_2007', 'eci_2008','eci_2009','eci_2010',\n",
        "                        'eci_2011', 'eci_2012','eci_2013','eci_2014',\n",
        "                       'eci_2015','eci_2016','eci_2017', 'eci_2018',\n",
        "                       'pci_1995', 'pci_1996', 'pci_1997',\n",
        "                       'pci_1998','pci_1999','pci_2000','pci_2001','pci_2002',\n",
        "                        'pci_2003','pci_2004','pci_2005','pci_2006',\n",
        "                        'pci_2007', 'pci_2008','pci_2009','pci_2010',\n",
        "                        'pci_2011', 'pci_2012','pci_2013','pci_2014',\n",
        "                       'pci_2015','pci_2016','pci_2017','pci_2018']])\n",
        "\n",
        "feat_importances = pd.Series(regressor.feature_importances_, index=features)\n",
        "feat_importances.nlargest(10).plot(kind='barh')\n",
        "plt.xlabel(\"Importancia por variable\")\n",
        "plt.ylabel(\"Variables\")\n",
        "\n"
      ],
      "execution_count": 246,
      "outputs": [
        {
          "output_type": "execute_result",
          "data": {
            "text/plain": [
              "Text(0, 0.5, 'Variables')"
            ]
          },
          "metadata": {},
          "execution_count": 246
        },
        {
          "output_type": "display_data",
          "data": {
            "image/png": "[encoded data removed]",
            "text/plain": [
              "<Figure size 432x288 with 1 Axes>"
            ]
          },
          "metadata": {
            "needs_background": "light"
          }
        }
      ]
    },
    {
      "cell_type": "code",
      "metadata": {
        "id": "u8EbxTwf_bfu"
      },
      "source": [
        "from matplotlib import pyplot\n",
        "# get importance\n",
        "importance = regressor.feature_importances_\n",
        "# summarize feature importance\n",
        "for i,v in enumerate(importance):\n",
        "\tprint('Feature: %0d, Score: %.5f' % (i,v))\n",
        "# plot feature importance\n",
        "pyplot.bar([x for x in range(len(importance))], importance)\n",
        "pyplot.show()\n"
      ],
      "execution_count": null,
      "outputs": []
    },
    {
      "cell_type": "code",
      "metadata": {
        "id": "T1BYaXT1Mw8r"
      },
      "source": [
        "pci_pred_2019 = pd.DataFrame(y_pred,columns=[\"pci_pred_2019\"])"
      ],
      "execution_count": 238,
      "outputs": []
    },
    {
      "cell_type": "code",
      "metadata": {
        "colab": {
          "base_uri": "https://localhost:8080/",
          "height": 424
        },
        "id": "IU404htlOJ5a",
        "outputId": "0933d19a-02d2-42ae-ff3e-bf80899d730a"
      },
      "source": [
        "pci_pred_2019"
      ],
      "execution_count": 184,
      "outputs": [
        {
          "output_type": "execute_result",
          "data": {
            "text/html": [
              "<div>\n",
              "<style scoped>\n",
              "    .dataframe tbody tr th:only-of-type {\n",
              "        vertical-align: middle;\n",
              "    }\n",
              "\n",
              "    .dataframe tbody tr th {\n",
              "        vertical-align: top;\n",
              "    }\n",
              "\n",
              "    .dataframe thead th {\n",
              "        text-align: right;\n",
              "    }\n",
              "</style>\n",
              "<table border=\"1\" class=\"dataframe\">\n",
              "  <thead>\n",
              "    <tr style=\"text-align: right;\">\n",
              "      <th></th>\n",
              "      <th>pci_pred_2019</th>\n",
              "    </tr>\n",
              "  </thead>\n",
              "  <tbody>\n",
              "    <tr>\n",
              "      <th>0</th>\n",
              "      <td>0.078352</td>\n",
              "    </tr>\n",
              "    <tr>\n",
              "      <th>1</th>\n",
              "      <td>3.665635</td>\n",
              "    </tr>\n",
              "    <tr>\n",
              "      <th>2</th>\n",
              "      <td>2.042253</td>\n",
              "    </tr>\n",
              "    <tr>\n",
              "      <th>3</th>\n",
              "      <td>1.954052</td>\n",
              "    </tr>\n",
              "    <tr>\n",
              "      <th>4</th>\n",
              "      <td>0.844759</td>\n",
              "    </tr>\n",
              "    <tr>\n",
              "      <th>...</th>\n",
              "      <td>...</td>\n",
              "    </tr>\n",
              "    <tr>\n",
              "      <th>77036</th>\n",
              "      <td>0.000000</td>\n",
              "    </tr>\n",
              "    <tr>\n",
              "      <th>77037</th>\n",
              "      <td>0.000000</td>\n",
              "    </tr>\n",
              "    <tr>\n",
              "      <th>77038</th>\n",
              "      <td>0.000000</td>\n",
              "    </tr>\n",
              "    <tr>\n",
              "      <th>77039</th>\n",
              "      <td>1.857670</td>\n",
              "    </tr>\n",
              "    <tr>\n",
              "      <th>77040</th>\n",
              "      <td>0.687164</td>\n",
              "    </tr>\n",
              "  </tbody>\n",
              "</table>\n",
              "<p>77041 rows × 1 columns</p>\n",
              "</div>"
            ],
            "text/plain": [
              "       pci_pred_2019\n",
              "0           0.078352\n",
              "1           3.665635\n",
              "2           2.042253\n",
              "3           1.954052\n",
              "4           0.844759\n",
              "...              ...\n",
              "77036       0.000000\n",
              "77037       0.000000\n",
              "77038       0.000000\n",
              "77039       1.857670\n",
              "77040       0.687164\n",
              "\n",
              "[77041 rows x 1 columns]"
            ]
          },
          "metadata": {},
          "execution_count": 184
        }
      ]
    },
    {
      "cell_type": "code",
      "metadata": {
        "colab": {
          "base_uri": "https://localhost:8080/",
          "height": 424
        },
        "id": "89fsW0oUPSYM",
        "outputId": "41040ebe-9771-4272-b6ff-f7de4d4e5a8f"
      },
      "source": [
        "#y_test=pd.DataFrame(Y_test,columns=[\"Y_test\"])\n",
        "#pci_current_2019=pd.DataFrame(Y,columns=[\"pci_current_2019\"])\n",
        "pci_current_2019=pd.DataFrame(Y_test,columns=[\"pci_current_2019\"])\n",
        "pci_current_2019\n",
        "#Y_test.shape"
      ],
      "execution_count": 239,
      "outputs": [
        {
          "output_type": "execute_result",
          "data": {
            "text/html": [
              "<div>\n",
              "<style scoped>\n",
              "    .dataframe tbody tr th:only-of-type {\n",
              "        vertical-align: middle;\n",
              "    }\n",
              "\n",
              "    .dataframe tbody tr th {\n",
              "        vertical-align: top;\n",
              "    }\n",
              "\n",
              "    .dataframe thead th {\n",
              "        text-align: right;\n",
              "    }\n",
              "</style>\n",
              "<table border=\"1\" class=\"dataframe\">\n",
              "  <thead>\n",
              "    <tr style=\"text-align: right;\">\n",
              "      <th></th>\n",
              "      <th>pci_current_2019</th>\n",
              "    </tr>\n",
              "  </thead>\n",
              "  <tbody>\n",
              "    <tr>\n",
              "      <th>0</th>\n",
              "      <td>0.076863</td>\n",
              "    </tr>\n",
              "    <tr>\n",
              "      <th>1</th>\n",
              "      <td>3.665635</td>\n",
              "    </tr>\n",
              "    <tr>\n",
              "      <th>2</th>\n",
              "      <td>2.042253</td>\n",
              "    </tr>\n",
              "    <tr>\n",
              "      <th>3</th>\n",
              "      <td>1.952335</td>\n",
              "    </tr>\n",
              "    <tr>\n",
              "      <th>4</th>\n",
              "      <td>0.844759</td>\n",
              "    </tr>\n",
              "    <tr>\n",
              "      <th>...</th>\n",
              "      <td>...</td>\n",
              "    </tr>\n",
              "    <tr>\n",
              "      <th>77036</th>\n",
              "      <td>0.000000</td>\n",
              "    </tr>\n",
              "    <tr>\n",
              "      <th>77037</th>\n",
              "      <td>0.000000</td>\n",
              "    </tr>\n",
              "    <tr>\n",
              "      <th>77038</th>\n",
              "      <td>0.000000</td>\n",
              "    </tr>\n",
              "    <tr>\n",
              "      <th>77039</th>\n",
              "      <td>1.857670</td>\n",
              "    </tr>\n",
              "    <tr>\n",
              "      <th>77040</th>\n",
              "      <td>0.687164</td>\n",
              "    </tr>\n",
              "  </tbody>\n",
              "</table>\n",
              "<p>77041 rows × 1 columns</p>\n",
              "</div>"
            ],
            "text/plain": [
              "       pci_current_2019\n",
              "0              0.076863\n",
              "1              3.665635\n",
              "2              2.042253\n",
              "3              1.952335\n",
              "4              0.844759\n",
              "...                 ...\n",
              "77036          0.000000\n",
              "77037          0.000000\n",
              "77038          0.000000\n",
              "77039          1.857670\n",
              "77040          0.687164\n",
              "\n",
              "[77041 rows x 1 columns]"
            ]
          },
          "metadata": {},
          "execution_count": 239
        }
      ]
    },
    {
      "cell_type": "markdown",
      "metadata": {
        "id": "qG4UyGc_OVB2"
      },
      "source": [
        "###Scatter Plot de Y_test vs Y_predicted"
      ]
    },
    {
      "cell_type": "code",
      "metadata": {
        "colab": {
          "base_uri": "https://localhost:8080/",
          "height": 355
        },
        "id": "vmYf4MEDOTBa",
        "outputId": "30341a9a-288a-4d60-985f-1ebd06b2d6b4"
      },
      "source": [
        "plt.figure(figsize=(10,5))\n",
        "plt.scatter(pci_current_2019, pci_pred_2019, color= \"red\", label =\"Comparación entre pci_2019 predecidos y actuales\")\n",
        "plt.legend()\n",
        "plt.grid()\n",
        "plt.title(\"Random Forest Regression\")\n",
        "plt.xlabel(\"PCI_2019 current\")\n",
        "plt.ylabel(\"PCI_2019 predicted\")\n",
        "plt.show()"
      ],
      "execution_count": 249,
      "outputs": [
        {
          "output_type": "display_data",
          "data": {
            "image/png": "[encoded data removed]",
            "text/plain": [
              "<Figure size 720x360 with 1 Axes>"
            ]
          },
          "metadata": {
            "needs_background": "light"
          }
        }
      ]
    },
    {
      "cell_type": "code",
      "metadata": {
        "colab": {
          "base_uri": "https://localhost:8080/"
        },
        "id": "FhZTijEgPDWT",
        "outputId": "a31d8458-70f9-419b-e20e-5a4c1611fb78"
      },
      "source": [
        "#metrics.r2_score(pci_current_2019,pci_pred_2019)\n",
        "metrics.r2_score(Y_test,y_pred)\n",
        "\n"
      ],
      "execution_count": 255,
      "outputs": [
        {
          "output_type": "execute_result",
          "data": {
            "text/plain": [
              "0.8296653000694256"
            ]
          },
          "metadata": {},
          "execution_count": 255
        }
      ]
    },
    {
      "cell_type": "code",
      "metadata": {
        "colab": {
          "base_uri": "https://localhost:8080/"
        },
        "id": "bpxlyH-XPUm2",
        "outputId": "394b186e-773b-4b44-fab9-2aa52924b132"
      },
      "source": [
        "from sklearn import metrics\n",
        "\n",
        "print('Mean Absolute Error:', metrics.mean_absolute_error(pci_current_2019, pci_pred_2019))\n",
        "print('Mean Squared Error:', metrics.mean_squared_error(pci_current_2019, pci_pred_2019))\n",
        "print('Root Mean Squared Error:', np.sqrt(metrics.mean_squared_error(pci_current_2019, pci_pred_2019)))\n",
        "\n"
      ],
      "execution_count": 252,
      "outputs": [
        {
          "output_type": "stream",
          "name": "stdout",
          "text": [
            "Mean Absolute Error: 0.2612613790573767\n",
            "Mean Squared Error: 0.2897687778615758\n",
            "Root Mean Squared Error: 0.5383017535375264\n"
          ]
        }
      ]
    },
    {
      "cell_type": "code",
      "metadata": {
        "id": "A1Mjqhf_ZZUt"
      },
      "source": [
        "from sklearn.tree import plot_tree\n",
        "\n",
        "#from dtreeviz.trees import dtreeviz # will be used for tree visualization\n",
        "\n",
        "plt.figure(figsize=(20,20))\n",
        "plot_tree(regressor.estimators_[0], feature_names=df_x.columns,class_names=[] filled=True)"
      ],
      "execution_count": null,
      "outputs": []
    },
    {
      "cell_type": "code",
      "metadata": {
        "id": "8khoulOIZoZ8"
      },
      "source": [
        "_ = tree.plot_tree(regressor.estimators_[0], feature_names=df_c.columns, filled=True)\n"
      ],
      "execution_count": null,
      "outputs": []
    },
    {
      "cell_type": "code",
      "metadata": {
        "id": "UfdRF1cpzCGZ",
        "colab": {
          "base_uri": "https://localhost:8080/",
          "height": 636
        },
        "outputId": "4a79366d-f0c1-4ddb-f2d7-fbecdcb8bd74"
      },
      "source": [
        "import matplotlib.pyplot as plt\n",
        "\n",
        "# Define x axis\n",
        "x_axis = X_train\n",
        "# Build scatterplot\n",
        "plt.scatter(x_axis, Y_test, c = 'b', alpha = 0.5, marker = '.', label = 'Real')\n",
        "plt.scatter(x_axis, y_pred, c = 'r', alpha = 0.5, marker = '.', label = 'Predicted')\n",
        "plt.xlabel('pci_2019')\n",
        "plt.ylabel('pci_2019')\n",
        "plt.grid(color = '#D3D3D3', linestyle = 'solid')\n",
        "plt.legend(loc = 'lower right')\n",
        "plt.show()"
      ],
      "execution_count": 254,
      "outputs": [
        {
          "output_type": "error",
          "ename": "ValueError",
          "evalue": "ignored",
          "traceback": [
            "\u001b[0;31m---------------------------------------------------------------------------\u001b[0m",
            "\u001b[0;31mValueError\u001b[0m                                Traceback (most recent call last)",
            "\u001b[0;32m<ipython-input-254-7a0bfd3773f9>\u001b[0m in \u001b[0;36m<module>\u001b[0;34m()\u001b[0m\n\u001b[1;32m      4\u001b[0m \u001b[0mx_axis\u001b[0m \u001b[0;34m=\u001b[0m \u001b[0mX_train\u001b[0m\u001b[0;34m\u001b[0m\u001b[0;34m\u001b[0m\u001b[0m\n\u001b[1;32m      5\u001b[0m \u001b[0;31m# Build scatterplot\u001b[0m\u001b[0;34m\u001b[0m\u001b[0;34m\u001b[0m\u001b[0;34m\u001b[0m\u001b[0m\n\u001b[0;32m----> 6\u001b[0;31m \u001b[0mplt\u001b[0m\u001b[0;34m.\u001b[0m\u001b[0mscatter\u001b[0m\u001b[0;34m(\u001b[0m\u001b[0mx_axis\u001b[0m\u001b[0;34m,\u001b[0m \u001b[0mY_test\u001b[0m\u001b[0;34m,\u001b[0m \u001b[0mc\u001b[0m \u001b[0;34m=\u001b[0m \u001b[0;34m'b'\u001b[0m\u001b[0;34m,\u001b[0m \u001b[0malpha\u001b[0m \u001b[0;34m=\u001b[0m \u001b[0;36m0.5\u001b[0m\u001b[0;34m,\u001b[0m \u001b[0mmarker\u001b[0m \u001b[0;34m=\u001b[0m \u001b[0;34m'.'\u001b[0m\u001b[0;34m,\u001b[0m \u001b[0mlabel\u001b[0m \u001b[0;34m=\u001b[0m \u001b[0;34m'Real'\u001b[0m\u001b[0;34m)\u001b[0m\u001b[0;34m\u001b[0m\u001b[0;34m\u001b[0m\u001b[0m\n\u001b[0m\u001b[1;32m      7\u001b[0m \u001b[0mplt\u001b[0m\u001b[0;34m.\u001b[0m\u001b[0mscatter\u001b[0m\u001b[0;34m(\u001b[0m\u001b[0mx_axis\u001b[0m\u001b[0;34m,\u001b[0m \u001b[0my_pred\u001b[0m\u001b[0;34m,\u001b[0m \u001b[0mc\u001b[0m \u001b[0;34m=\u001b[0m \u001b[0;34m'r'\u001b[0m\u001b[0;34m,\u001b[0m \u001b[0malpha\u001b[0m \u001b[0;34m=\u001b[0m \u001b[0;36m0.5\u001b[0m\u001b[0;34m,\u001b[0m \u001b[0mmarker\u001b[0m \u001b[0;34m=\u001b[0m \u001b[0;34m'.'\u001b[0m\u001b[0;34m,\u001b[0m \u001b[0mlabel\u001b[0m \u001b[0;34m=\u001b[0m \u001b[0;34m'Predicted'\u001b[0m\u001b[0;34m)\u001b[0m\u001b[0;34m\u001b[0m\u001b[0;34m\u001b[0m\u001b[0m\n\u001b[1;32m      8\u001b[0m \u001b[0mplt\u001b[0m\u001b[0;34m.\u001b[0m\u001b[0mxlabel\u001b[0m\u001b[0;34m(\u001b[0m\u001b[0;34m'pci_2019'\u001b[0m\u001b[0;34m)\u001b[0m\u001b[0;34m\u001b[0m\u001b[0;34m\u001b[0m\u001b[0m\n",
            "\u001b[0;32m/usr/local/lib/python3.7/dist-packages/matplotlib/pyplot.py\u001b[0m in \u001b[0;36mscatter\u001b[0;34m(x, y, s, c, marker, cmap, norm, vmin, vmax, alpha, linewidths, verts, edgecolors, plotnonfinite, data, **kwargs)\u001b[0m\n\u001b[1;32m   2814\u001b[0m         \u001b[0mverts\u001b[0m\u001b[0;34m=\u001b[0m\u001b[0mverts\u001b[0m\u001b[0;34m,\u001b[0m \u001b[0medgecolors\u001b[0m\u001b[0;34m=\u001b[0m\u001b[0medgecolors\u001b[0m\u001b[0;34m,\u001b[0m\u001b[0;34m\u001b[0m\u001b[0;34m\u001b[0m\u001b[0m\n\u001b[1;32m   2815\u001b[0m         plotnonfinite=plotnonfinite, **({\"data\": data} if data is not\n\u001b[0;32m-> 2816\u001b[0;31m         None else {}), **kwargs)\n\u001b[0m\u001b[1;32m   2817\u001b[0m     \u001b[0msci\u001b[0m\u001b[0;34m(\u001b[0m\u001b[0m__ret\u001b[0m\u001b[0;34m)\u001b[0m\u001b[0;34m\u001b[0m\u001b[0;34m\u001b[0m\u001b[0m\n\u001b[1;32m   2818\u001b[0m     \u001b[0;32mreturn\u001b[0m \u001b[0m__ret\u001b[0m\u001b[0;34m\u001b[0m\u001b[0;34m\u001b[0m\u001b[0m\n",
            "\u001b[0;32m/usr/local/lib/python3.7/dist-packages/matplotlib/__init__.py\u001b[0m in \u001b[0;36minner\u001b[0;34m(ax, data, *args, **kwargs)\u001b[0m\n\u001b[1;32m   1563\u001b[0m     \u001b[0;32mdef\u001b[0m \u001b[0minner\u001b[0m\u001b[0;34m(\u001b[0m\u001b[0max\u001b[0m\u001b[0;34m,\u001b[0m \u001b[0;34m*\u001b[0m\u001b[0margs\u001b[0m\u001b[0;34m,\u001b[0m \u001b[0mdata\u001b[0m\u001b[0;34m=\u001b[0m\u001b[0;32mNone\u001b[0m\u001b[0;34m,\u001b[0m \u001b[0;34m**\u001b[0m\u001b[0mkwargs\u001b[0m\u001b[0;34m)\u001b[0m\u001b[0;34m:\u001b[0m\u001b[0;34m\u001b[0m\u001b[0;34m\u001b[0m\u001b[0m\n\u001b[1;32m   1564\u001b[0m         \u001b[0;32mif\u001b[0m \u001b[0mdata\u001b[0m \u001b[0;32mis\u001b[0m \u001b[0;32mNone\u001b[0m\u001b[0;34m:\u001b[0m\u001b[0;34m\u001b[0m\u001b[0;34m\u001b[0m\u001b[0m\n\u001b[0;32m-> 1565\u001b[0;31m             \u001b[0;32mreturn\u001b[0m \u001b[0mfunc\u001b[0m\u001b[0;34m(\u001b[0m\u001b[0max\u001b[0m\u001b[0;34m,\u001b[0m \u001b[0;34m*\u001b[0m\u001b[0mmap\u001b[0m\u001b[0;34m(\u001b[0m\u001b[0msanitize_sequence\u001b[0m\u001b[0;34m,\u001b[0m \u001b[0margs\u001b[0m\u001b[0;34m)\u001b[0m\u001b[0;34m,\u001b[0m \u001b[0;34m**\u001b[0m\u001b[0mkwargs\u001b[0m\u001b[0;34m)\u001b[0m\u001b[0;34m\u001b[0m\u001b[0;34m\u001b[0m\u001b[0m\n\u001b[0m\u001b[1;32m   1566\u001b[0m \u001b[0;34m\u001b[0m\u001b[0m\n\u001b[1;32m   1567\u001b[0m         \u001b[0mbound\u001b[0m \u001b[0;34m=\u001b[0m \u001b[0mnew_sig\u001b[0m\u001b[0;34m.\u001b[0m\u001b[0mbind\u001b[0m\u001b[0;34m(\u001b[0m\u001b[0max\u001b[0m\u001b[0;34m,\u001b[0m \u001b[0;34m*\u001b[0m\u001b[0margs\u001b[0m\u001b[0;34m,\u001b[0m \u001b[0;34m**\u001b[0m\u001b[0mkwargs\u001b[0m\u001b[0;34m)\u001b[0m\u001b[0;34m\u001b[0m\u001b[0;34m\u001b[0m\u001b[0m\n",
            "\u001b[0;32m/usr/local/lib/python3.7/dist-packages/matplotlib/cbook/deprecation.py\u001b[0m in \u001b[0;36mwrapper\u001b[0;34m(*args, **kwargs)\u001b[0m\n\u001b[1;32m    356\u001b[0m                 \u001b[0;34mf\"%(removal)s.  If any parameter follows {name!r}, they \"\u001b[0m\u001b[0;34m\u001b[0m\u001b[0;34m\u001b[0m\u001b[0m\n\u001b[1;32m    357\u001b[0m                 f\"should be pass as keyword, not positionally.\")\n\u001b[0;32m--> 358\u001b[0;31m         \u001b[0;32mreturn\u001b[0m \u001b[0mfunc\u001b[0m\u001b[0;34m(\u001b[0m\u001b[0;34m*\u001b[0m\u001b[0margs\u001b[0m\u001b[0;34m,\u001b[0m \u001b[0;34m**\u001b[0m\u001b[0mkwargs\u001b[0m\u001b[0;34m)\u001b[0m\u001b[0;34m\u001b[0m\u001b[0;34m\u001b[0m\u001b[0m\n\u001b[0m\u001b[1;32m    359\u001b[0m \u001b[0;34m\u001b[0m\u001b[0m\n\u001b[1;32m    360\u001b[0m     \u001b[0;32mreturn\u001b[0m \u001b[0mwrapper\u001b[0m\u001b[0;34m\u001b[0m\u001b[0;34m\u001b[0m\u001b[0m\n",
            "\u001b[0;32m/usr/local/lib/python3.7/dist-packages/matplotlib/axes/_axes.py\u001b[0m in \u001b[0;36mscatter\u001b[0;34m(self, x, y, s, c, marker, cmap, norm, vmin, vmax, alpha, linewidths, verts, edgecolors, plotnonfinite, **kwargs)\u001b[0m\n\u001b[1;32m   4389\u001b[0m         \u001b[0my\u001b[0m \u001b[0;34m=\u001b[0m \u001b[0mnp\u001b[0m\u001b[0;34m.\u001b[0m\u001b[0mma\u001b[0m\u001b[0;34m.\u001b[0m\u001b[0mravel\u001b[0m\u001b[0;34m(\u001b[0m\u001b[0my\u001b[0m\u001b[0;34m)\u001b[0m\u001b[0;34m\u001b[0m\u001b[0;34m\u001b[0m\u001b[0m\n\u001b[1;32m   4390\u001b[0m         \u001b[0;32mif\u001b[0m \u001b[0mx\u001b[0m\u001b[0;34m.\u001b[0m\u001b[0msize\u001b[0m \u001b[0;34m!=\u001b[0m \u001b[0my\u001b[0m\u001b[0;34m.\u001b[0m\u001b[0msize\u001b[0m\u001b[0;34m:\u001b[0m\u001b[0;34m\u001b[0m\u001b[0;34m\u001b[0m\u001b[0m\n\u001b[0;32m-> 4391\u001b[0;31m             \u001b[0;32mraise\u001b[0m \u001b[0mValueError\u001b[0m\u001b[0;34m(\u001b[0m\u001b[0;34m\"x and y must be the same size\"\u001b[0m\u001b[0;34m)\u001b[0m\u001b[0;34m\u001b[0m\u001b[0;34m\u001b[0m\u001b[0m\n\u001b[0m\u001b[1;32m   4392\u001b[0m \u001b[0;34m\u001b[0m\u001b[0m\n\u001b[1;32m   4393\u001b[0m         \u001b[0;32mif\u001b[0m \u001b[0ms\u001b[0m \u001b[0;32mis\u001b[0m \u001b[0;32mNone\u001b[0m\u001b[0;34m:\u001b[0m\u001b[0;34m\u001b[0m\u001b[0;34m\u001b[0m\u001b[0m\n",
            "\u001b[0;31mValueError\u001b[0m: x and y must be the same size"
          ]
        },
        {
          "output_type": "display_data",
          "data": {
            "image/png": "[encoded data removed]",
            "text/plain": [
              "<Figure size 432x288 with 1 Axes>"
            ]
          },
          "metadata": {
            "needs_background": "light"
          }
        }
      ]
    },
    {
      "cell_type": "code",
      "metadata": {
        "colab": {
          "base_uri": "https://localhost:8080/"
        },
        "id": "nrNOrCXP856e",
        "outputId": "eb7cc647-eff2-4a11-d796-9b576b9758f9"
      },
      "source": [
        ""
      ],
      "execution_count": 120,
      "outputs": [
        {
          "output_type": "execute_result",
          "data": {
            "text/plain": [
              "9999.0"
            ]
          },
          "metadata": {},
          "execution_count": 120
        }
      ]
    },
    {
      "cell_type": "code",
      "metadata": {
        "id": "dSaXm2G6wwu5"
      },
      "source": [
        ""
      ],
      "execution_count": null,
      "outputs": []
    },
    {
      "cell_type": "code",
      "metadata": {
        "id": "M0HtEj-yEnY0"
      },
      "source": [
        ""
      ],
      "execution_count": null,
      "outputs": []
    },
    {
      "cell_type": "code",
      "metadata": {
        "id": "pTtcysEuHF46"
      },
      "source": [
        ""
      ],
      "execution_count": null,
      "outputs": []
    },
    {
      "cell_type": "code",
      "metadata": {
        "id": "MmfFho971oDY"
      },
      "source": [
        ""
      ],
      "execution_count": 254,
      "outputs": []
    },
    {
      "cell_type": "code",
      "metadata": {
        "id": "0I1KOFXw1oKY"
      },
      "source": [
        ""
      ],
      "execution_count": null,
      "outputs": []
    },
    {
      "cell_type": "markdown",
      "metadata": {
        "id": "kQdveP4Oy3QN"
      },
      "source": [
        "### librerias a considerar: LightGBM ###\n",
        "### https://lightgbm.readthedocs.io/en/latest/Python-Intro.html\n",
        "### https://lightgbm.readthedocs.io/en/latest/index.html\n",
        "### https://lightgbm.readthedocs.io/en/latest/Python-Intro.html"
      ]
    },
    {
      "cell_type": "code",
      "metadata": {
        "colab": {
          "base_uri": "https://localhost:8080/"
        },
        "id": "qbipl1PUzA0q",
        "outputId": "6decfe6a-da34-4f4f-a429-e653e99973bb"
      },
      "source": [
        "!pip install lightgbm"
      ],
      "execution_count": null,
      "outputs": [
        {
          "name": "stdout",
          "output_type": "stream",
          "text": [
            "Requirement already satisfied: lightgbm in /usr/local/lib/python3.7/dist-packages (2.2.3)\n",
            "Requirement already satisfied: numpy in /usr/local/lib/python3.7/dist-packages (from lightgbm) (1.19.5)\n",
            "Requirement already satisfied: scipy in /usr/local/lib/python3.7/dist-packages (from lightgbm) (1.4.1)\n",
            "Requirement already satisfied: scikit-learn in /usr/local/lib/python3.7/dist-packages (from lightgbm) (1.0.1)\n",
            "Requirement already satisfied: joblib>=0.11 in /usr/local/lib/python3.7/dist-packages (from scikit-learn->lightgbm) (1.1.0)\n",
            "Requirement already satisfied: threadpoolctl>=2.0.0 in /usr/local/lib/python3.7/dist-packages (from scikit-learn->lightgbm) (3.0.0)\n"
          ]
        }
      ]
    },
    {
      "cell_type": "code",
      "metadata": {
        "id": "zylTeWCAzj9L"
      },
      "source": [
        ""
      ],
      "execution_count": null,
      "outputs": []
    }
  ]
}